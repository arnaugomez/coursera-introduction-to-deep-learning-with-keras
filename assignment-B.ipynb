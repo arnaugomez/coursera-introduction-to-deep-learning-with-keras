{
      "cells": [
            {
                  "cell_type": "markdown",
                  "metadata": {},
                  "source": [
                        "# Building a Regression Model with Keras: Predicting Concrete Compressive Strength from Multivariate Data\n",
                        "\n",
                        "Author: [Arnau Gómez](https://www.arnaugomez.com)\n",
                        "\n",
                        "Peer-graded Assignment: Build a Regression Model in Keras\n",
                        "\n",
                        "Exercise B: Normalize the data (5 marks) "
                  ]
            },
            {
                  "cell_type": "markdown",
                  "metadata": {
                        "vscode": {
                              "languageId": "plaintext"
                        }
                  },
                  "source": [
                        "## Initial setup"
                  ]
            },
            {
                  "cell_type": "markdown",
                  "metadata": {},
                  "source": [
                        "Import dependencies"
                  ]
            },
            {
                  "cell_type": "code",
                  "execution_count": 1,
                  "metadata": {},
                  "outputs": [
                        {
                              "name": "stdout",
                              "output_type": "stream",
                              "text": [
                                    "Requirement already satisfied: pip in ./.venv/lib/python3.11/site-packages (24.3.1)\n",
                                    "Note: you may need to restart the kernel to use updated packages.\n",
                                    "Requirement already satisfied: pandas==2.2.3 in ./.venv/lib/python3.11/site-packages (2.2.3)\n",
                                    "Requirement already satisfied: keras==3.7.0 in ./.venv/lib/python3.11/site-packages (3.7.0)\n",
                                    "Requirement already satisfied: tensorflow==2.18.0 in ./.venv/lib/python3.11/site-packages (2.18.0)\n",
                                    "Requirement already satisfied: numpy==2.0.2 in ./.venv/lib/python3.11/site-packages (2.0.2)\n",
                                    "Requirement already satisfied: scikit-learn==1.6.0 in ./.venv/lib/python3.11/site-packages (1.6.0)\n",
                                    "Requirement already satisfied: python-dateutil>=2.8.2 in ./.venv/lib/python3.11/site-packages (from pandas==2.2.3) (2.9.0.post0)\n",
                                    "Requirement already satisfied: pytz>=2020.1 in ./.venv/lib/python3.11/site-packages (from pandas==2.2.3) (2024.2)\n",
                                    "Requirement already satisfied: tzdata>=2022.7 in ./.venv/lib/python3.11/site-packages (from pandas==2.2.3) (2024.2)\n",
                                    "Requirement already satisfied: absl-py in ./.venv/lib/python3.11/site-packages (from keras==3.7.0) (2.1.0)\n",
                                    "Requirement already satisfied: rich in ./.venv/lib/python3.11/site-packages (from keras==3.7.0) (13.9.4)\n",
                                    "Requirement already satisfied: namex in ./.venv/lib/python3.11/site-packages (from keras==3.7.0) (0.0.8)\n",
                                    "Requirement already satisfied: h5py in ./.venv/lib/python3.11/site-packages (from keras==3.7.0) (3.12.1)\n",
                                    "Requirement already satisfied: optree in ./.venv/lib/python3.11/site-packages (from keras==3.7.0) (0.13.1)\n",
                                    "Requirement already satisfied: ml-dtypes in ./.venv/lib/python3.11/site-packages (from keras==3.7.0) (0.4.1)\n",
                                    "Requirement already satisfied: packaging in ./.venv/lib/python3.11/site-packages (from keras==3.7.0) (24.2)\n",
                                    "Requirement already satisfied: astunparse>=1.6.0 in ./.venv/lib/python3.11/site-packages (from tensorflow==2.18.0) (1.6.3)\n",
                                    "Requirement already satisfied: flatbuffers>=24.3.25 in ./.venv/lib/python3.11/site-packages (from tensorflow==2.18.0) (24.3.25)\n",
                                    "Requirement already satisfied: gast!=0.5.0,!=0.5.1,!=0.5.2,>=0.2.1 in ./.venv/lib/python3.11/site-packages (from tensorflow==2.18.0) (0.6.0)\n",
                                    "Requirement already satisfied: google-pasta>=0.1.1 in ./.venv/lib/python3.11/site-packages (from tensorflow==2.18.0) (0.2.0)\n",
                                    "Requirement already satisfied: libclang>=13.0.0 in ./.venv/lib/python3.11/site-packages (from tensorflow==2.18.0) (18.1.1)\n",
                                    "Requirement already satisfied: opt-einsum>=2.3.2 in ./.venv/lib/python3.11/site-packages (from tensorflow==2.18.0) (3.4.0)\n",
                                    "Requirement already satisfied: protobuf!=4.21.0,!=4.21.1,!=4.21.2,!=4.21.3,!=4.21.4,!=4.21.5,<6.0.0dev,>=3.20.3 in ./.venv/lib/python3.11/site-packages (from tensorflow==2.18.0) (5.29.2)\n",
                                    "Requirement already satisfied: requests<3,>=2.21.0 in ./.venv/lib/python3.11/site-packages (from tensorflow==2.18.0) (2.32.3)\n",
                                    "Requirement already satisfied: setuptools in ./.venv/lib/python3.11/site-packages (from tensorflow==2.18.0) (65.5.0)\n",
                                    "Requirement already satisfied: six>=1.12.0 in ./.venv/lib/python3.11/site-packages (from tensorflow==2.18.0) (1.17.0)\n",
                                    "Requirement already satisfied: termcolor>=1.1.0 in ./.venv/lib/python3.11/site-packages (from tensorflow==2.18.0) (2.5.0)\n",
                                    "Requirement already satisfied: typing-extensions>=3.6.6 in ./.venv/lib/python3.11/site-packages (from tensorflow==2.18.0) (4.12.2)\n",
                                    "Requirement already satisfied: wrapt>=1.11.0 in ./.venv/lib/python3.11/site-packages (from tensorflow==2.18.0) (1.17.0)\n",
                                    "Requirement already satisfied: grpcio<2.0,>=1.24.3 in ./.venv/lib/python3.11/site-packages (from tensorflow==2.18.0) (1.68.1)\n",
                                    "Requirement already satisfied: tensorboard<2.19,>=2.18 in ./.venv/lib/python3.11/site-packages (from tensorflow==2.18.0) (2.18.0)\n",
                                    "Requirement already satisfied: tensorflow-io-gcs-filesystem>=0.23.1 in ./.venv/lib/python3.11/site-packages (from tensorflow==2.18.0) (0.37.1)\n",
                                    "Requirement already satisfied: scipy>=1.6.0 in ./.venv/lib/python3.11/site-packages (from scikit-learn==1.6.0) (1.14.1)\n",
                                    "Requirement already satisfied: joblib>=1.2.0 in ./.venv/lib/python3.11/site-packages (from scikit-learn==1.6.0) (1.4.2)\n",
                                    "Requirement already satisfied: threadpoolctl>=3.1.0 in ./.venv/lib/python3.11/site-packages (from scikit-learn==1.6.0) (3.5.0)\n",
                                    "Requirement already satisfied: wheel<1.0,>=0.23.0 in ./.venv/lib/python3.11/site-packages (from astunparse>=1.6.0->tensorflow==2.18.0) (0.45.1)\n",
                                    "Requirement already satisfied: charset-normalizer<4,>=2 in ./.venv/lib/python3.11/site-packages (from requests<3,>=2.21.0->tensorflow==2.18.0) (3.4.0)\n",
                                    "Requirement already satisfied: idna<4,>=2.5 in ./.venv/lib/python3.11/site-packages (from requests<3,>=2.21.0->tensorflow==2.18.0) (3.10)\n",
                                    "Requirement already satisfied: urllib3<3,>=1.21.1 in ./.venv/lib/python3.11/site-packages (from requests<3,>=2.21.0->tensorflow==2.18.0) (2.2.3)\n",
                                    "Requirement already satisfied: certifi>=2017.4.17 in ./.venv/lib/python3.11/site-packages (from requests<3,>=2.21.0->tensorflow==2.18.0) (2024.12.14)\n",
                                    "Requirement already satisfied: markdown>=2.6.8 in ./.venv/lib/python3.11/site-packages (from tensorboard<2.19,>=2.18->tensorflow==2.18.0) (3.7)\n",
                                    "Requirement already satisfied: tensorboard-data-server<0.8.0,>=0.7.0 in ./.venv/lib/python3.11/site-packages (from tensorboard<2.19,>=2.18->tensorflow==2.18.0) (0.7.2)\n",
                                    "Requirement already satisfied: werkzeug>=1.0.1 in ./.venv/lib/python3.11/site-packages (from tensorboard<2.19,>=2.18->tensorflow==2.18.0) (3.1.3)\n",
                                    "Requirement already satisfied: markdown-it-py>=2.2.0 in ./.venv/lib/python3.11/site-packages (from rich->keras==3.7.0) (3.0.0)\n",
                                    "Requirement already satisfied: pygments<3.0.0,>=2.13.0 in ./.venv/lib/python3.11/site-packages (from rich->keras==3.7.0) (2.18.0)\n",
                                    "Requirement already satisfied: mdurl~=0.1 in ./.venv/lib/python3.11/site-packages (from markdown-it-py>=2.2.0->rich->keras==3.7.0) (0.1.2)\n",
                                    "Requirement already satisfied: MarkupSafe>=2.1.1 in ./.venv/lib/python3.11/site-packages (from werkzeug>=1.0.1->tensorboard<2.19,>=2.18->tensorflow==2.18.0) (3.0.2)\n",
                                    "Note: you may need to restart the kernel to use updated packages.\n"
                              ]
                        }
                  ],
                  "source": [
                        "# Python version: 3.11.9\n",
                        "%pip install --upgrade pip\n",
                        "%pip install pandas==2.2.3 keras==3.7.0 tensorflow==2.18.0 numpy==2.0.2 scikit-learn==1.6.0"
                  ]
            },
            {
                  "cell_type": "markdown",
                  "metadata": {},
                  "source": [
                        "Import dependencies"
                  ]
            },
            {
                  "cell_type": "code",
                  "execution_count": 2,
                  "metadata": {},
                  "outputs": [],
                  "source": [
                        "import pandas as pd\n",
                        "import numpy as np\n",
                        "import keras\n",
                        "\n",
                        "import warnings\n",
                        "warnings.simplefilter('ignore', FutureWarning)"
                  ]
            },
            {
                  "cell_type": "markdown",
                  "metadata": {},
                  "source": [
                        "Import data"
                  ]
            },
            {
                  "cell_type": "code",
                  "execution_count": 3,
                  "metadata": {},
                  "outputs": [
                        {
                              "data": {
                                    "text/html": [
                                          "<div>\n",
                                          "<style scoped>\n",
                                          "    .dataframe tbody tr th:only-of-type {\n",
                                          "        vertical-align: middle;\n",
                                          "    }\n",
                                          "\n",
                                          "    .dataframe tbody tr th {\n",
                                          "        vertical-align: top;\n",
                                          "    }\n",
                                          "\n",
                                          "    .dataframe thead th {\n",
                                          "        text-align: right;\n",
                                          "    }\n",
                                          "</style>\n",
                                          "<table border=\"1\" class=\"dataframe\">\n",
                                          "  <thead>\n",
                                          "    <tr style=\"text-align: right;\">\n",
                                          "      <th></th>\n",
                                          "      <th>Cement</th>\n",
                                          "      <th>Blast Furnace Slag</th>\n",
                                          "      <th>Fly Ash</th>\n",
                                          "      <th>Water</th>\n",
                                          "      <th>Superplasticizer</th>\n",
                                          "      <th>Coarse Aggregate</th>\n",
                                          "      <th>Fine Aggregate</th>\n",
                                          "      <th>Age</th>\n",
                                          "      <th>Strength</th>\n",
                                          "    </tr>\n",
                                          "  </thead>\n",
                                          "  <tbody>\n",
                                          "    <tr>\n",
                                          "      <th>0</th>\n",
                                          "      <td>540.0</td>\n",
                                          "      <td>0.0</td>\n",
                                          "      <td>0.0</td>\n",
                                          "      <td>162.0</td>\n",
                                          "      <td>2.5</td>\n",
                                          "      <td>1040.0</td>\n",
                                          "      <td>676.0</td>\n",
                                          "      <td>28</td>\n",
                                          "      <td>79.99</td>\n",
                                          "    </tr>\n",
                                          "    <tr>\n",
                                          "      <th>1</th>\n",
                                          "      <td>540.0</td>\n",
                                          "      <td>0.0</td>\n",
                                          "      <td>0.0</td>\n",
                                          "      <td>162.0</td>\n",
                                          "      <td>2.5</td>\n",
                                          "      <td>1055.0</td>\n",
                                          "      <td>676.0</td>\n",
                                          "      <td>28</td>\n",
                                          "      <td>61.89</td>\n",
                                          "    </tr>\n",
                                          "    <tr>\n",
                                          "      <th>2</th>\n",
                                          "      <td>332.5</td>\n",
                                          "      <td>142.5</td>\n",
                                          "      <td>0.0</td>\n",
                                          "      <td>228.0</td>\n",
                                          "      <td>0.0</td>\n",
                                          "      <td>932.0</td>\n",
                                          "      <td>594.0</td>\n",
                                          "      <td>270</td>\n",
                                          "      <td>40.27</td>\n",
                                          "    </tr>\n",
                                          "    <tr>\n",
                                          "      <th>3</th>\n",
                                          "      <td>332.5</td>\n",
                                          "      <td>142.5</td>\n",
                                          "      <td>0.0</td>\n",
                                          "      <td>228.0</td>\n",
                                          "      <td>0.0</td>\n",
                                          "      <td>932.0</td>\n",
                                          "      <td>594.0</td>\n",
                                          "      <td>365</td>\n",
                                          "      <td>41.05</td>\n",
                                          "    </tr>\n",
                                          "    <tr>\n",
                                          "      <th>4</th>\n",
                                          "      <td>198.6</td>\n",
                                          "      <td>132.4</td>\n",
                                          "      <td>0.0</td>\n",
                                          "      <td>192.0</td>\n",
                                          "      <td>0.0</td>\n",
                                          "      <td>978.4</td>\n",
                                          "      <td>825.5</td>\n",
                                          "      <td>360</td>\n",
                                          "      <td>44.30</td>\n",
                                          "    </tr>\n",
                                          "  </tbody>\n",
                                          "</table>\n",
                                          "</div>"
                                    ],
                                    "text/plain": [
                                          "   Cement  Blast Furnace Slag  Fly Ash  Water  Superplasticizer  \\\n",
                                          "0   540.0                 0.0      0.0  162.0               2.5   \n",
                                          "1   540.0                 0.0      0.0  162.0               2.5   \n",
                                          "2   332.5               142.5      0.0  228.0               0.0   \n",
                                          "3   332.5               142.5      0.0  228.0               0.0   \n",
                                          "4   198.6               132.4      0.0  192.0               0.0   \n",
                                          "\n",
                                          "   Coarse Aggregate  Fine Aggregate  Age  Strength  \n",
                                          "0            1040.0           676.0   28     79.99  \n",
                                          "1            1055.0           676.0   28     61.89  \n",
                                          "2             932.0           594.0  270     40.27  \n",
                                          "3             932.0           594.0  365     41.05  \n",
                                          "4             978.4           825.5  360     44.30  "
                                    ]
                              },
                              "execution_count": 3,
                              "metadata": {},
                              "output_type": "execute_result"
                        }
                  ],
                  "source": [
                        "filepath='https://cocl.us/concrete_data'\n",
                        "concrete_data = pd.read_csv(filepath)\n",
                        "\n",
                        "\n",
                        "concrete_data.head()"
                  ]
            },
            {
                  "cell_type": "markdown",
                  "metadata": {},
                  "source": [
                        "Split data into predictors and target"
                  ]
            },
            {
                  "cell_type": "code",
                  "execution_count": 4,
                  "metadata": {},
                  "outputs": [
                        {
                              "data": {
                                    "text/html": [
                                          "<div>\n",
                                          "<style scoped>\n",
                                          "    .dataframe tbody tr th:only-of-type {\n",
                                          "        vertical-align: middle;\n",
                                          "    }\n",
                                          "\n",
                                          "    .dataframe tbody tr th {\n",
                                          "        vertical-align: top;\n",
                                          "    }\n",
                                          "\n",
                                          "    .dataframe thead th {\n",
                                          "        text-align: right;\n",
                                          "    }\n",
                                          "</style>\n",
                                          "<table border=\"1\" class=\"dataframe\">\n",
                                          "  <thead>\n",
                                          "    <tr style=\"text-align: right;\">\n",
                                          "      <th></th>\n",
                                          "      <th>Cement</th>\n",
                                          "      <th>Blast Furnace Slag</th>\n",
                                          "      <th>Fly Ash</th>\n",
                                          "      <th>Water</th>\n",
                                          "      <th>Superplasticizer</th>\n",
                                          "      <th>Coarse Aggregate</th>\n",
                                          "      <th>Fine Aggregate</th>\n",
                                          "      <th>Age</th>\n",
                                          "    </tr>\n",
                                          "  </thead>\n",
                                          "  <tbody>\n",
                                          "    <tr>\n",
                                          "      <th>0</th>\n",
                                          "      <td>540.0</td>\n",
                                          "      <td>0.0</td>\n",
                                          "      <td>0.0</td>\n",
                                          "      <td>162.0</td>\n",
                                          "      <td>2.5</td>\n",
                                          "      <td>1040.0</td>\n",
                                          "      <td>676.0</td>\n",
                                          "      <td>28</td>\n",
                                          "    </tr>\n",
                                          "    <tr>\n",
                                          "      <th>1</th>\n",
                                          "      <td>540.0</td>\n",
                                          "      <td>0.0</td>\n",
                                          "      <td>0.0</td>\n",
                                          "      <td>162.0</td>\n",
                                          "      <td>2.5</td>\n",
                                          "      <td>1055.0</td>\n",
                                          "      <td>676.0</td>\n",
                                          "      <td>28</td>\n",
                                          "    </tr>\n",
                                          "    <tr>\n",
                                          "      <th>2</th>\n",
                                          "      <td>332.5</td>\n",
                                          "      <td>142.5</td>\n",
                                          "      <td>0.0</td>\n",
                                          "      <td>228.0</td>\n",
                                          "      <td>0.0</td>\n",
                                          "      <td>932.0</td>\n",
                                          "      <td>594.0</td>\n",
                                          "      <td>270</td>\n",
                                          "    </tr>\n",
                                          "    <tr>\n",
                                          "      <th>3</th>\n",
                                          "      <td>332.5</td>\n",
                                          "      <td>142.5</td>\n",
                                          "      <td>0.0</td>\n",
                                          "      <td>228.0</td>\n",
                                          "      <td>0.0</td>\n",
                                          "      <td>932.0</td>\n",
                                          "      <td>594.0</td>\n",
                                          "      <td>365</td>\n",
                                          "    </tr>\n",
                                          "    <tr>\n",
                                          "      <th>4</th>\n",
                                          "      <td>198.6</td>\n",
                                          "      <td>132.4</td>\n",
                                          "      <td>0.0</td>\n",
                                          "      <td>192.0</td>\n",
                                          "      <td>0.0</td>\n",
                                          "      <td>978.4</td>\n",
                                          "      <td>825.5</td>\n",
                                          "      <td>360</td>\n",
                                          "    </tr>\n",
                                          "  </tbody>\n",
                                          "</table>\n",
                                          "</div>"
                                    ],
                                    "text/plain": [
                                          "   Cement  Blast Furnace Slag  Fly Ash  Water  Superplasticizer  \\\n",
                                          "0   540.0                 0.0      0.0  162.0               2.5   \n",
                                          "1   540.0                 0.0      0.0  162.0               2.5   \n",
                                          "2   332.5               142.5      0.0  228.0               0.0   \n",
                                          "3   332.5               142.5      0.0  228.0               0.0   \n",
                                          "4   198.6               132.4      0.0  192.0               0.0   \n",
                                          "\n",
                                          "   Coarse Aggregate  Fine Aggregate  Age  \n",
                                          "0            1040.0           676.0   28  \n",
                                          "1            1055.0           676.0   28  \n",
                                          "2             932.0           594.0  270  \n",
                                          "3             932.0           594.0  365  \n",
                                          "4             978.4           825.5  360  "
                                    ]
                              },
                              "execution_count": 4,
                              "metadata": {},
                              "output_type": "execute_result"
                        }
                  ],
                  "source": [
                        "predictors = concrete_data.drop(columns=['Strength'])\n",
                        "predictors.head()"
                  ]
            },
            {
                  "cell_type": "code",
                  "execution_count": 5,
                  "metadata": {},
                  "outputs": [
                        {
                              "data": {
                                    "text/plain": [
                                          "0    79.99\n",
                                          "1    61.89\n",
                                          "2    40.27\n",
                                          "3    41.05\n",
                                          "4    44.30\n",
                                          "Name: Strength, dtype: float64"
                                    ]
                              },
                              "execution_count": 5,
                              "metadata": {},
                              "output_type": "execute_result"
                        }
                  ],
                  "source": [
                        "target = concrete_data['Strength']\n",
                        "target.head()"
                  ]
            },
            {
                  "cell_type": "markdown",
                  "metadata": {},
                  "source": [
                        "Normalize the data by substracting the mean and dividing by the standard deviation."
                  ]
            },
            {
                  "cell_type": "code",
                  "execution_count": 6,
                  "metadata": {},
                  "outputs": [
                        {
                              "data": {
                                    "text/html": [
                                          "<div>\n",
                                          "<style scoped>\n",
                                          "    .dataframe tbody tr th:only-of-type {\n",
                                          "        vertical-align: middle;\n",
                                          "    }\n",
                                          "\n",
                                          "    .dataframe tbody tr th {\n",
                                          "        vertical-align: top;\n",
                                          "    }\n",
                                          "\n",
                                          "    .dataframe thead th {\n",
                                          "        text-align: right;\n",
                                          "    }\n",
                                          "</style>\n",
                                          "<table border=\"1\" class=\"dataframe\">\n",
                                          "  <thead>\n",
                                          "    <tr style=\"text-align: right;\">\n",
                                          "      <th></th>\n",
                                          "      <th>Cement</th>\n",
                                          "      <th>Blast Furnace Slag</th>\n",
                                          "      <th>Fly Ash</th>\n",
                                          "      <th>Water</th>\n",
                                          "      <th>Superplasticizer</th>\n",
                                          "      <th>Coarse Aggregate</th>\n",
                                          "      <th>Fine Aggregate</th>\n",
                                          "      <th>Age</th>\n",
                                          "    </tr>\n",
                                          "  </thead>\n",
                                          "  <tbody>\n",
                                          "    <tr>\n",
                                          "      <th>0</th>\n",
                                          "      <td>2.476712</td>\n",
                                          "      <td>-0.856472</td>\n",
                                          "      <td>-0.846733</td>\n",
                                          "      <td>-0.916319</td>\n",
                                          "      <td>-0.620147</td>\n",
                                          "      <td>0.862735</td>\n",
                                          "      <td>-1.217079</td>\n",
                                          "      <td>-0.279597</td>\n",
                                          "    </tr>\n",
                                          "    <tr>\n",
                                          "      <th>1</th>\n",
                                          "      <td>2.476712</td>\n",
                                          "      <td>-0.856472</td>\n",
                                          "      <td>-0.846733</td>\n",
                                          "      <td>-0.916319</td>\n",
                                          "      <td>-0.620147</td>\n",
                                          "      <td>1.055651</td>\n",
                                          "      <td>-1.217079</td>\n",
                                          "      <td>-0.279597</td>\n",
                                          "    </tr>\n",
                                          "    <tr>\n",
                                          "      <th>2</th>\n",
                                          "      <td>0.491187</td>\n",
                                          "      <td>0.795140</td>\n",
                                          "      <td>-0.846733</td>\n",
                                          "      <td>2.174405</td>\n",
                                          "      <td>-1.038638</td>\n",
                                          "      <td>-0.526262</td>\n",
                                          "      <td>-2.239829</td>\n",
                                          "      <td>3.551340</td>\n",
                                          "    </tr>\n",
                                          "    <tr>\n",
                                          "      <th>3</th>\n",
                                          "      <td>0.491187</td>\n",
                                          "      <td>0.795140</td>\n",
                                          "      <td>-0.846733</td>\n",
                                          "      <td>2.174405</td>\n",
                                          "      <td>-1.038638</td>\n",
                                          "      <td>-0.526262</td>\n",
                                          "      <td>-2.239829</td>\n",
                                          "      <td>5.055221</td>\n",
                                          "    </tr>\n",
                                          "    <tr>\n",
                                          "      <th>4</th>\n",
                                          "      <td>-0.790075</td>\n",
                                          "      <td>0.678079</td>\n",
                                          "      <td>-0.846733</td>\n",
                                          "      <td>0.488555</td>\n",
                                          "      <td>-1.038638</td>\n",
                                          "      <td>0.070492</td>\n",
                                          "      <td>0.647569</td>\n",
                                          "      <td>4.976069</td>\n",
                                          "    </tr>\n",
                                          "  </tbody>\n",
                                          "</table>\n",
                                          "</div>"
                                    ],
                                    "text/plain": [
                                          "     Cement  Blast Furnace Slag   Fly Ash     Water  Superplasticizer  \\\n",
                                          "0  2.476712           -0.856472 -0.846733 -0.916319         -0.620147   \n",
                                          "1  2.476712           -0.856472 -0.846733 -0.916319         -0.620147   \n",
                                          "2  0.491187            0.795140 -0.846733  2.174405         -1.038638   \n",
                                          "3  0.491187            0.795140 -0.846733  2.174405         -1.038638   \n",
                                          "4 -0.790075            0.678079 -0.846733  0.488555         -1.038638   \n",
                                          "\n",
                                          "   Coarse Aggregate  Fine Aggregate       Age  \n",
                                          "0          0.862735       -1.217079 -0.279597  \n",
                                          "1          1.055651       -1.217079 -0.279597  \n",
                                          "2         -0.526262       -2.239829  3.551340  \n",
                                          "3         -0.526262       -2.239829  5.055221  \n",
                                          "4          0.070492        0.647569  4.976069  "
                                    ]
                              },
                              "execution_count": 6,
                              "metadata": {},
                              "output_type": "execute_result"
                        }
                  ],
                  "source": [
                        "predictors_norm = (predictors - predictors.mean()) / predictors.std()\n",
                        "predictors_norm.head()"
                  ]
            },
            {
                  "cell_type": "markdown",
                  "metadata": {},
                  "source": [
                        "Compute number of input features"
                  ]
            },
            {
                  "cell_type": "code",
                  "execution_count": 7,
                  "metadata": {},
                  "outputs": [],
                  "source": [
                        "n_predictors = predictors.shape[1]"
                  ]
            },
            {
                  "cell_type": "markdown",
                  "metadata": {},
                  "source": [
                        "## Build the keras model"
                  ]
            },
            {
                  "cell_type": "code",
                  "execution_count": 8,
                  "metadata": {},
                  "outputs": [
                        {
                              "data": {
                                    "text/html": [
                                          "<pre style=\"white-space:pre;overflow-x:auto;line-height:normal;font-family:Menlo,'DejaVu Sans Mono',consolas,'Courier New',monospace\"><span style=\"font-weight: bold\">Model: \"sequential\"</span>\n",
                                          "</pre>\n"
                                    ],
                                    "text/plain": [
                                          "\u001b[1mModel: \"sequential\"\u001b[0m\n"
                                    ]
                              },
                              "metadata": {},
                              "output_type": "display_data"
                        },
                        {
                              "data": {
                                    "text/html": [
                                          "<pre style=\"white-space:pre;overflow-x:auto;line-height:normal;font-family:Menlo,'DejaVu Sans Mono',consolas,'Courier New',monospace\">┏━━━━━━━━━━━━━━━━━━━━━━━━━━━━━━━━━┳━━━━━━━━━━━━━━━━━━━━━━━━┳━━━━━━━━━━━━━━━┓\n",
                                          "┃<span style=\"font-weight: bold\"> Layer (type)                    </span>┃<span style=\"font-weight: bold\"> Output Shape           </span>┃<span style=\"font-weight: bold\">       Param # </span>┃\n",
                                          "┡━━━━━━━━━━━━━━━━━━━━━━━━━━━━━━━━━╇━━━━━━━━━━━━━━━━━━━━━━━━╇━━━━━━━━━━━━━━━┩\n",
                                          "│ dense (<span style=\"color: #0087ff; text-decoration-color: #0087ff\">Dense</span>)                   │ (<span style=\"color: #00d7ff; text-decoration-color: #00d7ff\">None</span>, <span style=\"color: #00af00; text-decoration-color: #00af00\">10</span>)             │            <span style=\"color: #00af00; text-decoration-color: #00af00\">90</span> │\n",
                                          "├─────────────────────────────────┼────────────────────────┼───────────────┤\n",
                                          "│ dense_1 (<span style=\"color: #0087ff; text-decoration-color: #0087ff\">Dense</span>)                 │ (<span style=\"color: #00d7ff; text-decoration-color: #00d7ff\">None</span>, <span style=\"color: #00af00; text-decoration-color: #00af00\">1</span>)              │            <span style=\"color: #00af00; text-decoration-color: #00af00\">11</span> │\n",
                                          "└─────────────────────────────────┴────────────────────────┴───────────────┘\n",
                                          "</pre>\n"
                                    ],
                                    "text/plain": [
                                          "┏━━━━━━━━━━━━━━━━━━━━━━━━━━━━━━━━━┳━━━━━━━━━━━━━━━━━━━━━━━━┳━━━━━━━━━━━━━━━┓\n",
                                          "┃\u001b[1m \u001b[0m\u001b[1mLayer (type)                   \u001b[0m\u001b[1m \u001b[0m┃\u001b[1m \u001b[0m\u001b[1mOutput Shape          \u001b[0m\u001b[1m \u001b[0m┃\u001b[1m \u001b[0m\u001b[1m      Param #\u001b[0m\u001b[1m \u001b[0m┃\n",
                                          "┡━━━━━━━━━━━━━━━━━━━━━━━━━━━━━━━━━╇━━━━━━━━━━━━━━━━━━━━━━━━╇━━━━━━━━━━━━━━━┩\n",
                                          "│ dense (\u001b[38;5;33mDense\u001b[0m)                   │ (\u001b[38;5;45mNone\u001b[0m, \u001b[38;5;34m10\u001b[0m)             │            \u001b[38;5;34m90\u001b[0m │\n",
                                          "├─────────────────────────────────┼────────────────────────┼───────────────┤\n",
                                          "│ dense_1 (\u001b[38;5;33mDense\u001b[0m)                 │ (\u001b[38;5;45mNone\u001b[0m, \u001b[38;5;34m1\u001b[0m)              │            \u001b[38;5;34m11\u001b[0m │\n",
                                          "└─────────────────────────────────┴────────────────────────┴───────────────┘\n"
                                    ]
                              },
                              "metadata": {},
                              "output_type": "display_data"
                        },
                        {
                              "data": {
                                    "text/html": [
                                          "<pre style=\"white-space:pre;overflow-x:auto;line-height:normal;font-family:Menlo,'DejaVu Sans Mono',consolas,'Courier New',monospace\"><span style=\"font-weight: bold\"> Total params: </span><span style=\"color: #00af00; text-decoration-color: #00af00\">101</span> (404.00 B)\n",
                                          "</pre>\n"
                                    ],
                                    "text/plain": [
                                          "\u001b[1m Total params: \u001b[0m\u001b[38;5;34m101\u001b[0m (404.00 B)\n"
                                    ]
                              },
                              "metadata": {},
                              "output_type": "display_data"
                        },
                        {
                              "data": {
                                    "text/html": [
                                          "<pre style=\"white-space:pre;overflow-x:auto;line-height:normal;font-family:Menlo,'DejaVu Sans Mono',consolas,'Courier New',monospace\"><span style=\"font-weight: bold\"> Trainable params: </span><span style=\"color: #00af00; text-decoration-color: #00af00\">101</span> (404.00 B)\n",
                                          "</pre>\n"
                                    ],
                                    "text/plain": [
                                          "\u001b[1m Trainable params: \u001b[0m\u001b[38;5;34m101\u001b[0m (404.00 B)\n"
                                    ]
                              },
                              "metadata": {},
                              "output_type": "display_data"
                        },
                        {
                              "data": {
                                    "text/html": [
                                          "<pre style=\"white-space:pre;overflow-x:auto;line-height:normal;font-family:Menlo,'DejaVu Sans Mono',consolas,'Courier New',monospace\"><span style=\"font-weight: bold\"> Non-trainable params: </span><span style=\"color: #00af00; text-decoration-color: #00af00\">0</span> (0.00 B)\n",
                                          "</pre>\n"
                                    ],
                                    "text/plain": [
                                          "\u001b[1m Non-trainable params: \u001b[0m\u001b[38;5;34m0\u001b[0m (0.00 B)\n"
                                    ]
                              },
                              "metadata": {},
                              "output_type": "display_data"
                        }
                  ],
                  "source": [
                        "from keras.models import Sequential\n",
                        "from keras.layers import Dense, Input\n",
                        "\n",
                        "# define regression model\n",
                        "def regression_model():\n",
                        "    # create model\n",
                        "    model = Sequential()\n",
                        "    model.add(Input(shape=(n_predictors,)))\n",
                        "    model.add(Dense(10, activation='relu'))\n",
                        "    model.add(Dense(1))\n",
                        "    \n",
                        "    # compile model\n",
                        "    model.compile(optimizer='adam', loss='mean_squared_error')\n",
                        "    return model\n",
                        "\n",
                        "# build the model\n",
                        "model = regression_model()\n",
                        "\n",
                        "# display model summary\n",
                        "model.summary()\n"
                  ]
            },
            {
                  "cell_type": "markdown",
                  "metadata": {},
                  "source": [
                        "## Train and test the model"
                  ]
            },
            {
                  "cell_type": "markdown",
                  "metadata": {},
                  "source": [
                        "Train and test it once:"
                  ]
            },
            {
                  "cell_type": "code",
                  "execution_count": 9,
                  "metadata": {},
                  "outputs": [
                        {
                              "name": "stdout",
                              "output_type": "stream",
                              "text": [
                                    "Epoch 1/50\n",
                                    "23/23 - 0s - 13ms/step - loss: 1731.4468 - val_loss: 1255.0121\n",
                                    "Epoch 2/50\n",
                                    "23/23 - 0s - 2ms/step - loss: 1713.4030 - val_loss: 1245.4978\n",
                                    "Epoch 3/50\n",
                                    "23/23 - 0s - 2ms/step - loss: 1695.7999 - val_loss: 1236.3209\n",
                                    "Epoch 4/50\n",
                                    "23/23 - 0s - 2ms/step - loss: 1678.5880 - val_loss: 1227.5881\n",
                                    "Epoch 5/50\n",
                                    "23/23 - 0s - 2ms/step - loss: 1661.3440 - val_loss: 1218.7772\n",
                                    "Epoch 6/50\n",
                                    "23/23 - 0s - 2ms/step - loss: 1643.9304 - val_loss: 1209.7920\n",
                                    "Epoch 7/50\n",
                                    "23/23 - 0s - 2ms/step - loss: 1625.6577 - val_loss: 1200.9196\n",
                                    "Epoch 8/50\n",
                                    "23/23 - 0s - 2ms/step - loss: 1607.2524 - val_loss: 1191.6821\n",
                                    "Epoch 9/50\n",
                                    "23/23 - 0s - 2ms/step - loss: 1587.4323 - val_loss: 1182.2162\n",
                                    "Epoch 10/50\n",
                                    "23/23 - 0s - 2ms/step - loss: 1567.3054 - val_loss: 1172.1654\n",
                                    "Epoch 11/50\n",
                                    "23/23 - 0s - 2ms/step - loss: 1545.6317 - val_loss: 1161.7627\n",
                                    "Epoch 12/50\n",
                                    "23/23 - 0s - 2ms/step - loss: 1522.5461 - val_loss: 1150.8761\n",
                                    "Epoch 13/50\n",
                                    "23/23 - 0s - 2ms/step - loss: 1498.4250 - val_loss: 1139.5253\n",
                                    "Epoch 14/50\n",
                                    "23/23 - 0s - 2ms/step - loss: 1472.9302 - val_loss: 1127.4084\n",
                                    "Epoch 15/50\n",
                                    "23/23 - 0s - 2ms/step - loss: 1445.5599 - val_loss: 1114.9268\n",
                                    "Epoch 16/50\n",
                                    "23/23 - 0s - 2ms/step - loss: 1417.5551 - val_loss: 1101.7939\n",
                                    "Epoch 17/50\n",
                                    "23/23 - 0s - 2ms/step - loss: 1387.9255 - val_loss: 1088.1503\n",
                                    "Epoch 18/50\n",
                                    "23/23 - 0s - 2ms/step - loss: 1357.1898 - val_loss: 1073.6907\n",
                                    "Epoch 19/50\n",
                                    "23/23 - 0s - 2ms/step - loss: 1325.1495 - val_loss: 1058.8475\n",
                                    "Epoch 20/50\n",
                                    "23/23 - 0s - 2ms/step - loss: 1293.5000 - val_loss: 1043.5463\n",
                                    "Epoch 21/50\n",
                                    "23/23 - 0s - 2ms/step - loss: 1259.6326 - val_loss: 1027.8511\n",
                                    "Epoch 22/50\n",
                                    "23/23 - 0s - 2ms/step - loss: 1226.3868 - val_loss: 1011.4580\n",
                                    "Epoch 23/50\n",
                                    "23/23 - 0s - 2ms/step - loss: 1192.5586 - val_loss: 994.8503\n",
                                    "Epoch 24/50\n",
                                    "23/23 - 0s - 2ms/step - loss: 1158.1195 - val_loss: 977.8213\n",
                                    "Epoch 25/50\n",
                                    "23/23 - 0s - 2ms/step - loss: 1123.8971 - val_loss: 960.1133\n",
                                    "Epoch 26/50\n",
                                    "23/23 - 0s - 2ms/step - loss: 1089.9567 - val_loss: 942.4952\n",
                                    "Epoch 27/50\n",
                                    "23/23 - 0s - 2ms/step - loss: 1055.8961 - val_loss: 925.0291\n",
                                    "Epoch 28/50\n",
                                    "23/23 - 0s - 2ms/step - loss: 1022.5192 - val_loss: 907.2504\n",
                                    "Epoch 29/50\n",
                                    "23/23 - 0s - 2ms/step - loss: 989.2576 - val_loss: 889.0859\n",
                                    "Epoch 30/50\n",
                                    "23/23 - 0s - 2ms/step - loss: 956.4536 - val_loss: 870.4880\n",
                                    "Epoch 31/50\n",
                                    "23/23 - 0s - 2ms/step - loss: 924.5860 - val_loss: 851.8998\n",
                                    "Epoch 32/50\n",
                                    "23/23 - 0s - 2ms/step - loss: 893.1037 - val_loss: 833.9340\n",
                                    "Epoch 33/50\n",
                                    "23/23 - 0s - 2ms/step - loss: 862.6481 - val_loss: 815.2979\n",
                                    "Epoch 34/50\n",
                                    "23/23 - 0s - 2ms/step - loss: 832.9296 - val_loss: 796.7189\n",
                                    "Epoch 35/50\n",
                                    "23/23 - 0s - 2ms/step - loss: 804.1473 - val_loss: 778.4509\n",
                                    "Epoch 36/50\n",
                                    "23/23 - 0s - 2ms/step - loss: 775.9813 - val_loss: 760.2678\n",
                                    "Epoch 37/50\n",
                                    "23/23 - 0s - 2ms/step - loss: 748.9062 - val_loss: 741.8643\n",
                                    "Epoch 38/50\n",
                                    "23/23 - 0s - 2ms/step - loss: 722.5310 - val_loss: 723.7870\n",
                                    "Epoch 39/50\n",
                                    "23/23 - 0s - 2ms/step - loss: 697.1403 - val_loss: 705.2972\n",
                                    "Epoch 40/50\n",
                                    "23/23 - 0s - 2ms/step - loss: 672.2957 - val_loss: 687.1671\n",
                                    "Epoch 41/50\n",
                                    "23/23 - 0s - 2ms/step - loss: 648.7200 - val_loss: 669.1581\n",
                                    "Epoch 42/50\n",
                                    "23/23 - 0s - 2ms/step - loss: 625.5704 - val_loss: 651.6464\n",
                                    "Epoch 43/50\n",
                                    "23/23 - 0s - 2ms/step - loss: 603.5777 - val_loss: 634.1199\n",
                                    "Epoch 44/50\n",
                                    "23/23 - 0s - 2ms/step - loss: 581.9228 - val_loss: 617.3327\n",
                                    "Epoch 45/50\n",
                                    "23/23 - 0s - 2ms/step - loss: 561.4080 - val_loss: 600.7576\n",
                                    "Epoch 46/50\n",
                                    "23/23 - 0s - 2ms/step - loss: 541.6002 - val_loss: 583.9803\n",
                                    "Epoch 47/50\n",
                                    "23/23 - 0s - 2ms/step - loss: 522.4962 - val_loss: 567.6024\n",
                                    "Epoch 48/50\n",
                                    "23/23 - 0s - 2ms/step - loss: 503.8313 - val_loss: 552.1478\n",
                                    "Epoch 49/50\n",
                                    "23/23 - 0s - 2ms/step - loss: 486.1127 - val_loss: 537.1417\n",
                                    "Epoch 50/50\n",
                                    "23/23 - 0s - 2ms/step - loss: 469.2882 - val_loss: 521.6561\n"
                              ]
                        },
                        {
                              "data": {
                                    "text/plain": [
                                          "<keras.src.callbacks.history.History at 0x15ecd2610>"
                                    ]
                              },
                              "execution_count": 9,
                              "metadata": {},
                              "output_type": "execute_result"
                        }
                  ],
                  "source": [
                        "model.fit(predictors_norm, target, validation_split=0.3, epochs=50, verbose=2)"
                  ]
            },
            {
                  "cell_type": "markdown",
                  "metadata": {},
                  "source": [
                        "Train and test it 50 times:"
                  ]
            },
            {
                  "cell_type": "code",
                  "execution_count": 10,
                  "metadata": {},
                  "outputs": [
                        {
                              "name": "stdout",
                              "output_type": "stream",
                              "text": [
                                    "[447.5086131574025, 268.57870797416757, 413.47829442915514, 281.7059535602799, 223.31971090343646, 405.57259836145545, 215.86714270893117, 282.6000935739751, 231.72949247610555, 298.03126274329054, 315.7538921783185, 390.3782890435606, 380.70186992669085, 305.33268885549563, 326.0161860037992, 404.52231443784916, 261.7712672920805, 314.99541707397816, 309.9796269918049, 436.8202400016809, 357.12161168047436, 241.5973463606945, 279.2813266923387, 290.8744544948272, 474.4292765435885, 432.9668269460551, 383.65210793438007, 349.71235086309315, 368.1564935304093, 350.79736250177785, 253.43575618032733, 317.4752008809047, 331.19631735314266, 698.9278068021634, 556.5946791358642, 343.4763889519286, 426.2921580416793, 247.72409507556492, 294.5180114819561, 347.53156504453347, 339.2646999027009, 406.1650795620335, 252.0881896978829, 331.24772744116257, 502.29230962110034, 377.1370405226866, 363.96918539278687, 370.2253406995328, 453.11271874368674, 235.12424510107078]\n"
                              ]
                        }
                  ],
                  "source": [
                        "from sklearn.model_selection import train_test_split\n",
                        "from sklearn.metrics import mean_squared_error\n",
                        "\n",
                        "# Initialize list of mean squared errors\n",
                        "mse_list = []\n",
                        "\n",
                        "# Repeat the process 50 times\n",
                        "for _ in range(50):\n",
                        "    # Split the data\n",
                        "    X_train, X_test, y_train, y_test = train_test_split(predictors_norm, target, test_size=0.3, random_state=None)\n",
                        "    \n",
                        "    # Build the model\n",
                        "    model = regression_model()\n",
                        "    \n",
                        "    # Train the model\n",
                        "    model.fit(X_train, y_train, epochs=50, verbose=0)\n",
                        "    \n",
                        "    # Predict on the test data\n",
                        "    y_pred = model.predict(X_test, verbose=0)\n",
                        "    \n",
                        "    # Compute mean squared error\n",
                        "    mse = mean_squared_error(y_test, y_pred)\n",
                        "    mse_list.append(mse)\n",
                        "\n",
                        "print(mse_list)\n"
                  ]
            },
            {
                  "cell_type": "markdown",
                  "metadata": {},
                  "source": [
                        "## Report the mean and standard deviation of the mean squared errors"
                  ]
            },
            {
                  "cell_type": "code",
                  "execution_count": 11,
                  "metadata": {},
                  "outputs": [
                        {
                              "name": "stdout",
                              "output_type": "stream",
                              "text": [
                                    "Mean MSE: 349.82102669747604\n",
                                    "Standard Deviation of MSE: 90.6532358242123\n"
                              ]
                        }
                  ],
                  "source": [
                        "mean_mse = np.mean(mse_list)\n",
                        "std_mse = np.std(mse_list)\n",
                        "print(f'Mean MSE: {mean_mse}')\n",
                        "print(f'Standard Deviation of MSE: {std_mse}')"
                  ]
            },
            {
                  "cell_type": "markdown",
                  "metadata": {},
                  "source": [
                        "## How does the mean of the mean squared errors compare to that from Step A?"
                  ]
            },
            {
                  "cell_type": "markdown",
                  "metadata": {},
                  "source": [
                        "The mean of the mean squared errors (MSE) from Step B is lower than the mean MSE from Step A. This indicates that the model's performance has improved with the normalization of the predictor values. Additionally, the standard deviation of the MSE is significantly lower, suggesting that the model's performance is more consistent across different splits of the data.\n",
                        "\n",
                        "| Metric | Step A | Step B |\n",
                        "|--------|--------|-------------------|\n",
                        "| Mean MSE | 416.851 | 349.821 |\n",
                        "| Standard Deviation of MSE | 595.123 | 90.653 |\n"
                  ]
            }
      ],
      "metadata": {
            "kernelspec": {
                  "display_name": ".venv",
                  "language": "python",
                  "name": "python3"
            },
            "language_info": {
                  "codemirror_mode": {
                        "name": "ipython",
                        "version": 3
                  },
                  "file_extension": ".py",
                  "mimetype": "text/x-python",
                  "name": "python",
                  "nbconvert_exporter": "python",
                  "pygments_lexer": "ipython3",
                  "version": "3.11.9"
            }
      },
      "nbformat": 4,
      "nbformat_minor": 2
}
