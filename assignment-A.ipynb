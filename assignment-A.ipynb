{
      "cells": [
            {
                  "cell_type": "markdown",
                  "metadata": {},
                  "source": [
                        "# Building a Regression Model with Keras: Predicting Concrete Compressive Strength from Multivariate Data\n",
                        "\n",
                        "Author: [Arnau Gómez](https://www.arnaugomez.com)\n",
                        "\n",
                        "Peer-graded Assignment: Build a Regression Model in Keras\n",
                        "\n",
                        "Exercise A: Build a baseline model (5 marks) "
                  ]
            },
            {
                  "cell_type": "markdown",
                  "metadata": {
                        "vscode": {
                              "languageId": "plaintext"
                        }
                  },
                  "source": [
                        "## Initial setup"
                  ]
            },
            {
                  "cell_type": "markdown",
                  "metadata": {},
                  "source": [
                        "Import dependencies"
                  ]
            },
            {
                  "cell_type": "code",
                  "execution_count": null,
                  "metadata": {},
                  "outputs": [],
                  "source": [
                        "# Python version: 3.11.9\n",
                        "%pip install --upgrade pip\n",
                        "%pip install --upgrade pandas==2.2.3 keras==3.7.0 tensorflow==2.18.0 numpy==2.0.2"
                  ]
            },
            {
                  "cell_type": "markdown",
                  "metadata": {},
                  "source": [
                        "Import dependencies"
                  ]
            },
            {
                  "cell_type": "code",
                  "execution_count": 7,
                  "metadata": {},
                  "outputs": [],
                  "source": [
                        "import pandas as pd\n",
                        "import numpy as np\n",
                        "import keras\n",
                        "\n",
                        "import warnings\n",
                        "warnings.simplefilter('ignore', FutureWarning)"
                  ]
            },
            {
                  "cell_type": "markdown",
                  "metadata": {},
                  "source": [
                        "Import data"
                  ]
            },
            {
                  "cell_type": "code",
                  "execution_count": null,
                  "metadata": {},
                  "outputs": [],
                  "source": [
                        "filepath='https://cocl.us/concrete_data'\n",
                        "concrete_data = pd.read_csv(filepath)\n",
                        "\n",
                        "\n",
                        "concrete_data.head()"
                  ]
            },
            {
                  "cell_type": "markdown",
                  "metadata": {},
                  "source": [
                        "Split data into predictors and target"
                  ]
            },
            {
                  "cell_type": "code",
                  "execution_count": null,
                  "metadata": {},
                  "outputs": [],
                  "source": [
                        "predictors = concrete_data.drop(columns=['Strength'])\n",
                        "predictors.head()"
                  ]
            },
            {
                  "cell_type": "code",
                  "execution_count": null,
                  "metadata": {},
                  "outputs": [],
                  "source": [
                        "target = concrete_data['Strength']\n",
                        "target.head()"
                  ]
            },
            {
                  "cell_type": "markdown",
                  "metadata": {},
                  "source": [
                        "Normalize the data"
                  ]
            },
            {
                  "cell_type": "code",
                  "execution_count": null,
                  "metadata": {},
                  "outputs": [],
                  "source": [
                        "predictors_norm = (predictors - predictors.mean()) / predictors.std()\n",
                        "predictors_norm.head()"
                  ]
            },
            {
                  "cell_type": "markdown",
                  "metadata": {},
                  "source": [
                        "Compute number of input features"
                  ]
            },
            {
                  "cell_type": "code",
                  "execution_count": null,
                  "metadata": {},
                  "outputs": [],
                  "source": [
                        "n_predictors = predictors_norm.shape[1]"
                  ]
            },
            {
                  "cell_type": "markdown",
                  "metadata": {},
                  "source": [
                        "## Build the keras model"
                  ]
            },
            {
                  "cell_type": "code",
                  "execution_count": null,
                  "metadata": {},
                  "outputs": [],
                  "source": [
                        "from keras.models import Sequential\n",
                        "from keras.layers import Dense, Input\n",
                        "\n",
                        "# define regression model\n",
                        "def regression_model():\n",
                        "    # create model\n",
                        "    model = Sequential()\n",
                        "    model.add(Input(shape=(n_predictors,)))\n",
                        "    model.add(Dense(10, activation='relu'))\n",
                        "    model.add(Dense(1))\n",
                        "    \n",
                        "    # compile model\n",
                        "    model.compile(optimizer='adam', loss='mean_squared_error')\n",
                        "    return model\n",
                        "\n",
                        "# build the model\n",
                        "model = regression_model()\n",
                        "\n",
                        "# display model summary\n",
                        "model.summary()\n"
                  ]
            },
            {
                  "cell_type": "markdown",
                  "metadata": {},
                  "source": [
                        "## Train and test the model"
                  ]
            },
            {
                  "cell_type": "markdown",
                  "metadata": {},
                  "source": [
                        "To train and test it once:"
                  ]
            },
            {
                  "cell_type": "code",
                  "execution_count": null,
                  "metadata": {},
                  "outputs": [],
                  "source": [
                        "model.fit(predictors_norm, target, validation_split=0.3, epochs=50, verbose=2)"
                  ]
            },
            {
                  "cell_type": "markdown",
                  "metadata": {},
                  "source": [
                        "Train and test it 50 times:"
                  ]
            },
            {
                  "cell_type": "code",
                  "execution_count": null,
                  "metadata": {},
                  "outputs": [],
                  "source": [
                        "from sklearn.model_selection import train_test_split\n",
                        "from sklearn.metrics import mean_squared_error\n",
                        "\n",
                        "# Initialize list of mean squared errors\n",
                        "mse_list = []\n",
                        "\n",
                        "# Repeat the process 50 times\n",
                        "for _ in range(50):\n",
                        "    # Split the data\n",
                        "    X_train, X_test, y_train, y_test = train_test_split(predictors_norm, target, test_size=0.3, random_state=None)\n",
                        "    \n",
                        "    # Build the model\n",
                        "    model = regression_model()\n",
                        "    \n",
                        "    # Train the model\n",
                        "    model.fit(X_train, y_train, epochs=50, verbose=0)\n",
                        "    \n",
                        "    # Predict on the test data\n",
                        "    y_pred = model.predict(X_test)\n",
                        "    \n",
                        "    # Compute mean squared error\n",
                        "    mse = mean_squared_error(y_test, y_pred)\n",
                        "    mse_list.append(mse)\n"
                  ]
            },
            {
                  "cell_type": "markdown",
                  "metadata": {},
                  "source": [
                        "## Report the mean and standard deviation of the mean squared errors"
                  ]
            },
            {
                  "cell_type": "code",
                  "execution_count": null,
                  "metadata": {},
                  "outputs": [],
                  "source": [
                        "mean_mse = np.mean(mse_list)\n",
                        "std_mse = np.std(mse_list)\n",
                        "print(f'Mean MSE: {mean_mse}')\n",
                        "print(f'Standard Deviation of MSE: {std_mse}')"
                  ]
            }
      ],
      "metadata": {
            "kernelspec": {
                  "display_name": ".venv",
                  "language": "python",
                  "name": "python3"
            },
            "language_info": {
                  "codemirror_mode": {
                        "name": "ipython",
                        "version": 3
                  },
                  "file_extension": ".py",
                  "mimetype": "text/x-python",
                  "name": "python",
                  "nbconvert_exporter": "python",
                  "pygments_lexer": "ipython3",
                  "version": "3.11.9"
            }
      },
      "nbformat": 4,
      "nbformat_minor": 2
}
