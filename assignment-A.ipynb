{
      "cells": [
            {
                  "cell_type": "markdown",
                  "metadata": {},
                  "source": [
                        "# Building a Regression Model with Keras: Predicting Concrete Compressive Strength from Multivariate Data\n",
                        "\n",
                        "Author: [Arnau Gómez](https://www.arnaugomez.com)\n",
                        "\n",
                        "Peer-graded Assignment: Build a Regression Model in Keras\n",
                        "\n",
                        "Exercise A: Build a baseline model (5 marks) "
                  ]
            },
            {
                  "cell_type": "markdown",
                  "metadata": {
                        "vscode": {
                              "languageId": "plaintext"
                        }
                  },
                  "source": [
                        "## Initial setup"
                  ]
            },
            {
                  "cell_type": "markdown",
                  "metadata": {},
                  "source": [
                        "Import dependencies"
                  ]
            },
            {
                  "cell_type": "code",
                  "execution_count": 12,
                  "metadata": {},
                  "outputs": [
                        {
                              "name": "stdout",
                              "output_type": "stream",
                              "text": [
                                    "Requirement already satisfied: pip in ./.venv/lib/python3.11/site-packages (24.3.1)\n",
                                    "Note: you may need to restart the kernel to use updated packages.\n",
                                    "Requirement already satisfied: pandas==2.2.3 in ./.venv/lib/python3.11/site-packages (2.2.3)\n",
                                    "Requirement already satisfied: keras==3.7.0 in ./.venv/lib/python3.11/site-packages (3.7.0)\n",
                                    "Requirement already satisfied: tensorflow==2.18.0 in ./.venv/lib/python3.11/site-packages (2.18.0)\n",
                                    "Requirement already satisfied: numpy==2.0.2 in ./.venv/lib/python3.11/site-packages (2.0.2)\n",
                                    "Requirement already satisfied: scikit-learn==1.6.0 in ./.venv/lib/python3.11/site-packages (1.6.0)\n",
                                    "Requirement already satisfied: python-dateutil>=2.8.2 in ./.venv/lib/python3.11/site-packages (from pandas==2.2.3) (2.9.0.post0)\n",
                                    "Requirement already satisfied: pytz>=2020.1 in ./.venv/lib/python3.11/site-packages (from pandas==2.2.3) (2024.2)\n",
                                    "Requirement already satisfied: tzdata>=2022.7 in ./.venv/lib/python3.11/site-packages (from pandas==2.2.3) (2024.2)\n",
                                    "Requirement already satisfied: absl-py in ./.venv/lib/python3.11/site-packages (from keras==3.7.0) (2.1.0)\n",
                                    "Requirement already satisfied: rich in ./.venv/lib/python3.11/site-packages (from keras==3.7.0) (13.9.4)\n",
                                    "Requirement already satisfied: namex in ./.venv/lib/python3.11/site-packages (from keras==3.7.0) (0.0.8)\n",
                                    "Requirement already satisfied: h5py in ./.venv/lib/python3.11/site-packages (from keras==3.7.0) (3.12.1)\n",
                                    "Requirement already satisfied: optree in ./.venv/lib/python3.11/site-packages (from keras==3.7.0) (0.13.1)\n",
                                    "Requirement already satisfied: ml-dtypes in ./.venv/lib/python3.11/site-packages (from keras==3.7.0) (0.4.1)\n",
                                    "Requirement already satisfied: packaging in ./.venv/lib/python3.11/site-packages (from keras==3.7.0) (24.2)\n",
                                    "Requirement already satisfied: astunparse>=1.6.0 in ./.venv/lib/python3.11/site-packages (from tensorflow==2.18.0) (1.6.3)\n",
                                    "Requirement already satisfied: flatbuffers>=24.3.25 in ./.venv/lib/python3.11/site-packages (from tensorflow==2.18.0) (24.3.25)\n",
                                    "Requirement already satisfied: gast!=0.5.0,!=0.5.1,!=0.5.2,>=0.2.1 in ./.venv/lib/python3.11/site-packages (from tensorflow==2.18.0) (0.6.0)\n",
                                    "Requirement already satisfied: google-pasta>=0.1.1 in ./.venv/lib/python3.11/site-packages (from tensorflow==2.18.0) (0.2.0)\n",
                                    "Requirement already satisfied: libclang>=13.0.0 in ./.venv/lib/python3.11/site-packages (from tensorflow==2.18.0) (18.1.1)\n",
                                    "Requirement already satisfied: opt-einsum>=2.3.2 in ./.venv/lib/python3.11/site-packages (from tensorflow==2.18.0) (3.4.0)\n",
                                    "Requirement already satisfied: protobuf!=4.21.0,!=4.21.1,!=4.21.2,!=4.21.3,!=4.21.4,!=4.21.5,<6.0.0dev,>=3.20.3 in ./.venv/lib/python3.11/site-packages (from tensorflow==2.18.0) (5.29.2)\n",
                                    "Requirement already satisfied: requests<3,>=2.21.0 in ./.venv/lib/python3.11/site-packages (from tensorflow==2.18.0) (2.32.3)\n",
                                    "Requirement already satisfied: setuptools in ./.venv/lib/python3.11/site-packages (from tensorflow==2.18.0) (65.5.0)\n",
                                    "Requirement already satisfied: six>=1.12.0 in ./.venv/lib/python3.11/site-packages (from tensorflow==2.18.0) (1.17.0)\n",
                                    "Requirement already satisfied: termcolor>=1.1.0 in ./.venv/lib/python3.11/site-packages (from tensorflow==2.18.0) (2.5.0)\n",
                                    "Requirement already satisfied: typing-extensions>=3.6.6 in ./.venv/lib/python3.11/site-packages (from tensorflow==2.18.0) (4.12.2)\n",
                                    "Requirement already satisfied: wrapt>=1.11.0 in ./.venv/lib/python3.11/site-packages (from tensorflow==2.18.0) (1.17.0)\n",
                                    "Requirement already satisfied: grpcio<2.0,>=1.24.3 in ./.venv/lib/python3.11/site-packages (from tensorflow==2.18.0) (1.68.1)\n",
                                    "Requirement already satisfied: tensorboard<2.19,>=2.18 in ./.venv/lib/python3.11/site-packages (from tensorflow==2.18.0) (2.18.0)\n",
                                    "Requirement already satisfied: tensorflow-io-gcs-filesystem>=0.23.1 in ./.venv/lib/python3.11/site-packages (from tensorflow==2.18.0) (0.37.1)\n",
                                    "Requirement already satisfied: scipy>=1.6.0 in ./.venv/lib/python3.11/site-packages (from scikit-learn==1.6.0) (1.14.1)\n",
                                    "Requirement already satisfied: joblib>=1.2.0 in ./.venv/lib/python3.11/site-packages (from scikit-learn==1.6.0) (1.4.2)\n",
                                    "Requirement already satisfied: threadpoolctl>=3.1.0 in ./.venv/lib/python3.11/site-packages (from scikit-learn==1.6.0) (3.5.0)\n",
                                    "Requirement already satisfied: wheel<1.0,>=0.23.0 in ./.venv/lib/python3.11/site-packages (from astunparse>=1.6.0->tensorflow==2.18.0) (0.45.1)\n",
                                    "Requirement already satisfied: charset-normalizer<4,>=2 in ./.venv/lib/python3.11/site-packages (from requests<3,>=2.21.0->tensorflow==2.18.0) (3.4.0)\n",
                                    "Requirement already satisfied: idna<4,>=2.5 in ./.venv/lib/python3.11/site-packages (from requests<3,>=2.21.0->tensorflow==2.18.0) (3.10)\n",
                                    "Requirement already satisfied: urllib3<3,>=1.21.1 in ./.venv/lib/python3.11/site-packages (from requests<3,>=2.21.0->tensorflow==2.18.0) (2.2.3)\n",
                                    "Requirement already satisfied: certifi>=2017.4.17 in ./.venv/lib/python3.11/site-packages (from requests<3,>=2.21.0->tensorflow==2.18.0) (2024.12.14)\n",
                                    "Requirement already satisfied: markdown>=2.6.8 in ./.venv/lib/python3.11/site-packages (from tensorboard<2.19,>=2.18->tensorflow==2.18.0) (3.7)\n",
                                    "Requirement already satisfied: tensorboard-data-server<0.8.0,>=0.7.0 in ./.venv/lib/python3.11/site-packages (from tensorboard<2.19,>=2.18->tensorflow==2.18.0) (0.7.2)\n",
                                    "Requirement already satisfied: werkzeug>=1.0.1 in ./.venv/lib/python3.11/site-packages (from tensorboard<2.19,>=2.18->tensorflow==2.18.0) (3.1.3)\n",
                                    "Requirement already satisfied: markdown-it-py>=2.2.0 in ./.venv/lib/python3.11/site-packages (from rich->keras==3.7.0) (3.0.0)\n",
                                    "Requirement already satisfied: pygments<3.0.0,>=2.13.0 in ./.venv/lib/python3.11/site-packages (from rich->keras==3.7.0) (2.18.0)\n",
                                    "Requirement already satisfied: mdurl~=0.1 in ./.venv/lib/python3.11/site-packages (from markdown-it-py>=2.2.0->rich->keras==3.7.0) (0.1.2)\n",
                                    "Requirement already satisfied: MarkupSafe>=2.1.1 in ./.venv/lib/python3.11/site-packages (from werkzeug>=1.0.1->tensorboard<2.19,>=2.18->tensorflow==2.18.0) (3.0.2)\n",
                                    "Note: you may need to restart the kernel to use updated packages.\n"
                              ]
                        }
                  ],
                  "source": [
                        "# Python version: 3.11.9\n",
                        "%pip install --upgrade pip\n",
                        "%pip install pandas==2.2.3 keras==3.7.0 tensorflow==2.18.0 numpy==2.0.2 scikit-learn==1.6.0"
                  ]
            },
            {
                  "cell_type": "markdown",
                  "metadata": {},
                  "source": [
                        "Import dependencies"
                  ]
            },
            {
                  "cell_type": "code",
                  "execution_count": 13,
                  "metadata": {},
                  "outputs": [],
                  "source": [
                        "import pandas as pd\n",
                        "import numpy as np\n",
                        "import keras\n",
                        "\n",
                        "import warnings\n",
                        "warnings.simplefilter('ignore', FutureWarning)"
                  ]
            },
            {
                  "cell_type": "markdown",
                  "metadata": {},
                  "source": [
                        "Import data"
                  ]
            },
            {
                  "cell_type": "code",
                  "execution_count": 14,
                  "metadata": {},
                  "outputs": [
                        {
                              "data": {
                                    "text/html": [
                                          "<div>\n",
                                          "<style scoped>\n",
                                          "    .dataframe tbody tr th:only-of-type {\n",
                                          "        vertical-align: middle;\n",
                                          "    }\n",
                                          "\n",
                                          "    .dataframe tbody tr th {\n",
                                          "        vertical-align: top;\n",
                                          "    }\n",
                                          "\n",
                                          "    .dataframe thead th {\n",
                                          "        text-align: right;\n",
                                          "    }\n",
                                          "</style>\n",
                                          "<table border=\"1\" class=\"dataframe\">\n",
                                          "  <thead>\n",
                                          "    <tr style=\"text-align: right;\">\n",
                                          "      <th></th>\n",
                                          "      <th>Cement</th>\n",
                                          "      <th>Blast Furnace Slag</th>\n",
                                          "      <th>Fly Ash</th>\n",
                                          "      <th>Water</th>\n",
                                          "      <th>Superplasticizer</th>\n",
                                          "      <th>Coarse Aggregate</th>\n",
                                          "      <th>Fine Aggregate</th>\n",
                                          "      <th>Age</th>\n",
                                          "      <th>Strength</th>\n",
                                          "    </tr>\n",
                                          "  </thead>\n",
                                          "  <tbody>\n",
                                          "    <tr>\n",
                                          "      <th>0</th>\n",
                                          "      <td>540.0</td>\n",
                                          "      <td>0.0</td>\n",
                                          "      <td>0.0</td>\n",
                                          "      <td>162.0</td>\n",
                                          "      <td>2.5</td>\n",
                                          "      <td>1040.0</td>\n",
                                          "      <td>676.0</td>\n",
                                          "      <td>28</td>\n",
                                          "      <td>79.99</td>\n",
                                          "    </tr>\n",
                                          "    <tr>\n",
                                          "      <th>1</th>\n",
                                          "      <td>540.0</td>\n",
                                          "      <td>0.0</td>\n",
                                          "      <td>0.0</td>\n",
                                          "      <td>162.0</td>\n",
                                          "      <td>2.5</td>\n",
                                          "      <td>1055.0</td>\n",
                                          "      <td>676.0</td>\n",
                                          "      <td>28</td>\n",
                                          "      <td>61.89</td>\n",
                                          "    </tr>\n",
                                          "    <tr>\n",
                                          "      <th>2</th>\n",
                                          "      <td>332.5</td>\n",
                                          "      <td>142.5</td>\n",
                                          "      <td>0.0</td>\n",
                                          "      <td>228.0</td>\n",
                                          "      <td>0.0</td>\n",
                                          "      <td>932.0</td>\n",
                                          "      <td>594.0</td>\n",
                                          "      <td>270</td>\n",
                                          "      <td>40.27</td>\n",
                                          "    </tr>\n",
                                          "    <tr>\n",
                                          "      <th>3</th>\n",
                                          "      <td>332.5</td>\n",
                                          "      <td>142.5</td>\n",
                                          "      <td>0.0</td>\n",
                                          "      <td>228.0</td>\n",
                                          "      <td>0.0</td>\n",
                                          "      <td>932.0</td>\n",
                                          "      <td>594.0</td>\n",
                                          "      <td>365</td>\n",
                                          "      <td>41.05</td>\n",
                                          "    </tr>\n",
                                          "    <tr>\n",
                                          "      <th>4</th>\n",
                                          "      <td>198.6</td>\n",
                                          "      <td>132.4</td>\n",
                                          "      <td>0.0</td>\n",
                                          "      <td>192.0</td>\n",
                                          "      <td>0.0</td>\n",
                                          "      <td>978.4</td>\n",
                                          "      <td>825.5</td>\n",
                                          "      <td>360</td>\n",
                                          "      <td>44.30</td>\n",
                                          "    </tr>\n",
                                          "  </tbody>\n",
                                          "</table>\n",
                                          "</div>"
                                    ],
                                    "text/plain": [
                                          "   Cement  Blast Furnace Slag  Fly Ash  Water  Superplasticizer  \\\n",
                                          "0   540.0                 0.0      0.0  162.0               2.5   \n",
                                          "1   540.0                 0.0      0.0  162.0               2.5   \n",
                                          "2   332.5               142.5      0.0  228.0               0.0   \n",
                                          "3   332.5               142.5      0.0  228.0               0.0   \n",
                                          "4   198.6               132.4      0.0  192.0               0.0   \n",
                                          "\n",
                                          "   Coarse Aggregate  Fine Aggregate  Age  Strength  \n",
                                          "0            1040.0           676.0   28     79.99  \n",
                                          "1            1055.0           676.0   28     61.89  \n",
                                          "2             932.0           594.0  270     40.27  \n",
                                          "3             932.0           594.0  365     41.05  \n",
                                          "4             978.4           825.5  360     44.30  "
                                    ]
                              },
                              "execution_count": 14,
                              "metadata": {},
                              "output_type": "execute_result"
                        }
                  ],
                  "source": [
                        "filepath='https://cocl.us/concrete_data'\n",
                        "concrete_data = pd.read_csv(filepath)\n",
                        "\n",
                        "\n",
                        "concrete_data.head()"
                  ]
            },
            {
                  "cell_type": "markdown",
                  "metadata": {},
                  "source": [
                        "Split data into predictors and target"
                  ]
            },
            {
                  "cell_type": "code",
                  "execution_count": 15,
                  "metadata": {},
                  "outputs": [
                        {
                              "data": {
                                    "text/html": [
                                          "<div>\n",
                                          "<style scoped>\n",
                                          "    .dataframe tbody tr th:only-of-type {\n",
                                          "        vertical-align: middle;\n",
                                          "    }\n",
                                          "\n",
                                          "    .dataframe tbody tr th {\n",
                                          "        vertical-align: top;\n",
                                          "    }\n",
                                          "\n",
                                          "    .dataframe thead th {\n",
                                          "        text-align: right;\n",
                                          "    }\n",
                                          "</style>\n",
                                          "<table border=\"1\" class=\"dataframe\">\n",
                                          "  <thead>\n",
                                          "    <tr style=\"text-align: right;\">\n",
                                          "      <th></th>\n",
                                          "      <th>Cement</th>\n",
                                          "      <th>Blast Furnace Slag</th>\n",
                                          "      <th>Fly Ash</th>\n",
                                          "      <th>Water</th>\n",
                                          "      <th>Superplasticizer</th>\n",
                                          "      <th>Coarse Aggregate</th>\n",
                                          "      <th>Fine Aggregate</th>\n",
                                          "      <th>Age</th>\n",
                                          "    </tr>\n",
                                          "  </thead>\n",
                                          "  <tbody>\n",
                                          "    <tr>\n",
                                          "      <th>0</th>\n",
                                          "      <td>540.0</td>\n",
                                          "      <td>0.0</td>\n",
                                          "      <td>0.0</td>\n",
                                          "      <td>162.0</td>\n",
                                          "      <td>2.5</td>\n",
                                          "      <td>1040.0</td>\n",
                                          "      <td>676.0</td>\n",
                                          "      <td>28</td>\n",
                                          "    </tr>\n",
                                          "    <tr>\n",
                                          "      <th>1</th>\n",
                                          "      <td>540.0</td>\n",
                                          "      <td>0.0</td>\n",
                                          "      <td>0.0</td>\n",
                                          "      <td>162.0</td>\n",
                                          "      <td>2.5</td>\n",
                                          "      <td>1055.0</td>\n",
                                          "      <td>676.0</td>\n",
                                          "      <td>28</td>\n",
                                          "    </tr>\n",
                                          "    <tr>\n",
                                          "      <th>2</th>\n",
                                          "      <td>332.5</td>\n",
                                          "      <td>142.5</td>\n",
                                          "      <td>0.0</td>\n",
                                          "      <td>228.0</td>\n",
                                          "      <td>0.0</td>\n",
                                          "      <td>932.0</td>\n",
                                          "      <td>594.0</td>\n",
                                          "      <td>270</td>\n",
                                          "    </tr>\n",
                                          "    <tr>\n",
                                          "      <th>3</th>\n",
                                          "      <td>332.5</td>\n",
                                          "      <td>142.5</td>\n",
                                          "      <td>0.0</td>\n",
                                          "      <td>228.0</td>\n",
                                          "      <td>0.0</td>\n",
                                          "      <td>932.0</td>\n",
                                          "      <td>594.0</td>\n",
                                          "      <td>365</td>\n",
                                          "    </tr>\n",
                                          "    <tr>\n",
                                          "      <th>4</th>\n",
                                          "      <td>198.6</td>\n",
                                          "      <td>132.4</td>\n",
                                          "      <td>0.0</td>\n",
                                          "      <td>192.0</td>\n",
                                          "      <td>0.0</td>\n",
                                          "      <td>978.4</td>\n",
                                          "      <td>825.5</td>\n",
                                          "      <td>360</td>\n",
                                          "    </tr>\n",
                                          "  </tbody>\n",
                                          "</table>\n",
                                          "</div>"
                                    ],
                                    "text/plain": [
                                          "   Cement  Blast Furnace Slag  Fly Ash  Water  Superplasticizer  \\\n",
                                          "0   540.0                 0.0      0.0  162.0               2.5   \n",
                                          "1   540.0                 0.0      0.0  162.0               2.5   \n",
                                          "2   332.5               142.5      0.0  228.0               0.0   \n",
                                          "3   332.5               142.5      0.0  228.0               0.0   \n",
                                          "4   198.6               132.4      0.0  192.0               0.0   \n",
                                          "\n",
                                          "   Coarse Aggregate  Fine Aggregate  Age  \n",
                                          "0            1040.0           676.0   28  \n",
                                          "1            1055.0           676.0   28  \n",
                                          "2             932.0           594.0  270  \n",
                                          "3             932.0           594.0  365  \n",
                                          "4             978.4           825.5  360  "
                                    ]
                              },
                              "execution_count": 15,
                              "metadata": {},
                              "output_type": "execute_result"
                        }
                  ],
                  "source": [
                        "predictors = concrete_data.drop(columns=['Strength'])\n",
                        "predictors.head()"
                  ]
            },
            {
                  "cell_type": "code",
                  "execution_count": 16,
                  "metadata": {},
                  "outputs": [
                        {
                              "data": {
                                    "text/plain": [
                                          "0    79.99\n",
                                          "1    61.89\n",
                                          "2    40.27\n",
                                          "3    41.05\n",
                                          "4    44.30\n",
                                          "Name: Strength, dtype: float64"
                                    ]
                              },
                              "execution_count": 16,
                              "metadata": {},
                              "output_type": "execute_result"
                        }
                  ],
                  "source": [
                        "target = concrete_data['Strength']\n",
                        "target.head()"
                  ]
            },
            {
                  "cell_type": "markdown",
                  "metadata": {},
                  "source": [
                        "Compute number of input features"
                  ]
            },
            {
                  "cell_type": "code",
                  "execution_count": 17,
                  "metadata": {},
                  "outputs": [],
                  "source": [
                        "n_predictors = predictors.shape[1]"
                  ]
            },
            {
                  "cell_type": "markdown",
                  "metadata": {},
                  "source": [
                        "## Build the keras model"
                  ]
            },
            {
                  "cell_type": "code",
                  "execution_count": 18,
                  "metadata": {},
                  "outputs": [
                        {
                              "data": {
                                    "text/html": [
                                          "<pre style=\"white-space:pre;overflow-x:auto;line-height:normal;font-family:Menlo,'DejaVu Sans Mono',consolas,'Courier New',monospace\"><span style=\"font-weight: bold\">Model: \"sequential_51\"</span>\n",
                                          "</pre>\n"
                                    ],
                                    "text/plain": [
                                          "\u001b[1mModel: \"sequential_51\"\u001b[0m\n"
                                    ]
                              },
                              "metadata": {},
                              "output_type": "display_data"
                        },
                        {
                              "data": {
                                    "text/html": [
                                          "<pre style=\"white-space:pre;overflow-x:auto;line-height:normal;font-family:Menlo,'DejaVu Sans Mono',consolas,'Courier New',monospace\">┏━━━━━━━━━━━━━━━━━━━━━━━━━━━━━━━━━┳━━━━━━━━━━━━━━━━━━━━━━━━┳━━━━━━━━━━━━━━━┓\n",
                                          "┃<span style=\"font-weight: bold\"> Layer (type)                    </span>┃<span style=\"font-weight: bold\"> Output Shape           </span>┃<span style=\"font-weight: bold\">       Param # </span>┃\n",
                                          "┡━━━━━━━━━━━━━━━━━━━━━━━━━━━━━━━━━╇━━━━━━━━━━━━━━━━━━━━━━━━╇━━━━━━━━━━━━━━━┩\n",
                                          "│ dense_102 (<span style=\"color: #0087ff; text-decoration-color: #0087ff\">Dense</span>)               │ (<span style=\"color: #00d7ff; text-decoration-color: #00d7ff\">None</span>, <span style=\"color: #00af00; text-decoration-color: #00af00\">10</span>)             │            <span style=\"color: #00af00; text-decoration-color: #00af00\">90</span> │\n",
                                          "├─────────────────────────────────┼────────────────────────┼───────────────┤\n",
                                          "│ dense_103 (<span style=\"color: #0087ff; text-decoration-color: #0087ff\">Dense</span>)               │ (<span style=\"color: #00d7ff; text-decoration-color: #00d7ff\">None</span>, <span style=\"color: #00af00; text-decoration-color: #00af00\">1</span>)              │            <span style=\"color: #00af00; text-decoration-color: #00af00\">11</span> │\n",
                                          "└─────────────────────────────────┴────────────────────────┴───────────────┘\n",
                                          "</pre>\n"
                                    ],
                                    "text/plain": [
                                          "┏━━━━━━━━━━━━━━━━━━━━━━━━━━━━━━━━━┳━━━━━━━━━━━━━━━━━━━━━━━━┳━━━━━━━━━━━━━━━┓\n",
                                          "┃\u001b[1m \u001b[0m\u001b[1mLayer (type)                   \u001b[0m\u001b[1m \u001b[0m┃\u001b[1m \u001b[0m\u001b[1mOutput Shape          \u001b[0m\u001b[1m \u001b[0m┃\u001b[1m \u001b[0m\u001b[1m      Param #\u001b[0m\u001b[1m \u001b[0m┃\n",
                                          "┡━━━━━━━━━━━━━━━━━━━━━━━━━━━━━━━━━╇━━━━━━━━━━━━━━━━━━━━━━━━╇━━━━━━━━━━━━━━━┩\n",
                                          "│ dense_102 (\u001b[38;5;33mDense\u001b[0m)               │ (\u001b[38;5;45mNone\u001b[0m, \u001b[38;5;34m10\u001b[0m)             │            \u001b[38;5;34m90\u001b[0m │\n",
                                          "├─────────────────────────────────┼────────────────────────┼───────────────┤\n",
                                          "│ dense_103 (\u001b[38;5;33mDense\u001b[0m)               │ (\u001b[38;5;45mNone\u001b[0m, \u001b[38;5;34m1\u001b[0m)              │            \u001b[38;5;34m11\u001b[0m │\n",
                                          "└─────────────────────────────────┴────────────────────────┴───────────────┘\n"
                                    ]
                              },
                              "metadata": {},
                              "output_type": "display_data"
                        },
                        {
                              "data": {
                                    "text/html": [
                                          "<pre style=\"white-space:pre;overflow-x:auto;line-height:normal;font-family:Menlo,'DejaVu Sans Mono',consolas,'Courier New',monospace\"><span style=\"font-weight: bold\"> Total params: </span><span style=\"color: #00af00; text-decoration-color: #00af00\">101</span> (404.00 B)\n",
                                          "</pre>\n"
                                    ],
                                    "text/plain": [
                                          "\u001b[1m Total params: \u001b[0m\u001b[38;5;34m101\u001b[0m (404.00 B)\n"
                                    ]
                              },
                              "metadata": {},
                              "output_type": "display_data"
                        },
                        {
                              "data": {
                                    "text/html": [
                                          "<pre style=\"white-space:pre;overflow-x:auto;line-height:normal;font-family:Menlo,'DejaVu Sans Mono',consolas,'Courier New',monospace\"><span style=\"font-weight: bold\"> Trainable params: </span><span style=\"color: #00af00; text-decoration-color: #00af00\">101</span> (404.00 B)\n",
                                          "</pre>\n"
                                    ],
                                    "text/plain": [
                                          "\u001b[1m Trainable params: \u001b[0m\u001b[38;5;34m101\u001b[0m (404.00 B)\n"
                                    ]
                              },
                              "metadata": {},
                              "output_type": "display_data"
                        },
                        {
                              "data": {
                                    "text/html": [
                                          "<pre style=\"white-space:pre;overflow-x:auto;line-height:normal;font-family:Menlo,'DejaVu Sans Mono',consolas,'Courier New',monospace\"><span style=\"font-weight: bold\"> Non-trainable params: </span><span style=\"color: #00af00; text-decoration-color: #00af00\">0</span> (0.00 B)\n",
                                          "</pre>\n"
                                    ],
                                    "text/plain": [
                                          "\u001b[1m Non-trainable params: \u001b[0m\u001b[38;5;34m0\u001b[0m (0.00 B)\n"
                                    ]
                              },
                              "metadata": {},
                              "output_type": "display_data"
                        }
                  ],
                  "source": [
                        "from keras.models import Sequential\n",
                        "from keras.layers import Dense, Input\n",
                        "\n",
                        "# define regression model\n",
                        "def regression_model():\n",
                        "    # create model\n",
                        "    model = Sequential()\n",
                        "    model.add(Input(shape=(n_predictors,)))\n",
                        "    model.add(Dense(10, activation='relu'))\n",
                        "    model.add(Dense(1))\n",
                        "    \n",
                        "    # compile model\n",
                        "    model.compile(optimizer='adam', loss='mean_squared_error')\n",
                        "    return model\n",
                        "\n",
                        "# build the model\n",
                        "model = regression_model()\n",
                        "\n",
                        "# display model summary\n",
                        "model.summary()\n"
                  ]
            },
            {
                  "cell_type": "markdown",
                  "metadata": {},
                  "source": [
                        "## Train and test the model"
                  ]
            },
            {
                  "cell_type": "markdown",
                  "metadata": {},
                  "source": [
                        "Train and test it once:"
                  ]
            },
            {
                  "cell_type": "code",
                  "execution_count": 19,
                  "metadata": {},
                  "outputs": [
                        {
                              "name": "stdout",
                              "output_type": "stream",
                              "text": [
                                    "Epoch 1/50\n",
                                    "23/23 - 0s - 21ms/step - loss: 1689.1893 - val_loss: 1274.7238\n",
                                    "Epoch 2/50\n",
                                    "23/23 - 0s - 2ms/step - loss: 1367.5935 - val_loss: 1028.1956\n",
                                    "Epoch 3/50\n",
                                    "23/23 - 0s - 2ms/step - loss: 1121.8281 - val_loss: 831.7171\n",
                                    "Epoch 4/50\n",
                                    "23/23 - 0s - 2ms/step - loss: 929.7089 - val_loss: 704.5690\n",
                                    "Epoch 5/50\n",
                                    "23/23 - 0s - 2ms/step - loss: 771.3909 - val_loss: 610.4437\n",
                                    "Epoch 6/50\n",
                                    "23/23 - 0s - 2ms/step - loss: 655.2761 - val_loss: 460.7195\n",
                                    "Epoch 7/50\n",
                                    "23/23 - 0s - 1ms/step - loss: 554.9186 - val_loss: 433.8589\n",
                                    "Epoch 8/50\n",
                                    "23/23 - 0s - 1ms/step - loss: 459.3813 - val_loss: 345.5811\n",
                                    "Epoch 9/50\n",
                                    "23/23 - 0s - 2ms/step - loss: 385.7492 - val_loss: 351.0993\n",
                                    "Epoch 10/50\n",
                                    "23/23 - 0s - 2ms/step - loss: 299.1420 - val_loss: 270.9643\n",
                                    "Epoch 11/50\n",
                                    "23/23 - 0s - 2ms/step - loss: 228.0839 - val_loss: 239.6441\n",
                                    "Epoch 12/50\n",
                                    "23/23 - 0s - 2ms/step - loss: 174.6632 - val_loss: 215.5782\n",
                                    "Epoch 13/50\n",
                                    "23/23 - 0s - 2ms/step - loss: 148.8073 - val_loss: 192.4835\n",
                                    "Epoch 14/50\n",
                                    "23/23 - 0s - 2ms/step - loss: 138.6071 - val_loss: 186.3715\n",
                                    "Epoch 15/50\n",
                                    "23/23 - 0s - 2ms/step - loss: 131.2741 - val_loss: 171.6642\n",
                                    "Epoch 16/50\n",
                                    "23/23 - 0s - 1ms/step - loss: 126.1569 - val_loss: 177.2363\n",
                                    "Epoch 17/50\n",
                                    "23/23 - 0s - 1ms/step - loss: 121.1544 - val_loss: 146.3727\n",
                                    "Epoch 18/50\n",
                                    "23/23 - 0s - 2ms/step - loss: 117.8145 - val_loss: 151.2977\n",
                                    "Epoch 19/50\n",
                                    "23/23 - 0s - 2ms/step - loss: 114.3460 - val_loss: 134.5008\n",
                                    "Epoch 20/50\n",
                                    "23/23 - 0s - 2ms/step - loss: 109.6932 - val_loss: 128.5015\n",
                                    "Epoch 21/50\n",
                                    "23/23 - 0s - 2ms/step - loss: 105.9833 - val_loss: 114.5333\n",
                                    "Epoch 22/50\n",
                                    "23/23 - 0s - 2ms/step - loss: 105.0428 - val_loss: 107.4649\n",
                                    "Epoch 23/50\n",
                                    "23/23 - 0s - 2ms/step - loss: 100.6608 - val_loss: 117.4954\n",
                                    "Epoch 24/50\n",
                                    "23/23 - 0s - 1ms/step - loss: 99.8476 - val_loss: 109.8140\n",
                                    "Epoch 25/50\n",
                                    "23/23 - 0s - 1ms/step - loss: 95.1666 - val_loss: 94.2766\n",
                                    "Epoch 26/50\n",
                                    "23/23 - 0s - 2ms/step - loss: 93.8025 - val_loss: 89.0021\n",
                                    "Epoch 27/50\n",
                                    "23/23 - 0s - 2ms/step - loss: 94.7253 - val_loss: 88.7907\n",
                                    "Epoch 28/50\n",
                                    "23/23 - 0s - 2ms/step - loss: 91.4885 - val_loss: 83.5756\n",
                                    "Epoch 29/50\n",
                                    "23/23 - 0s - 2ms/step - loss: 92.7550 - val_loss: 88.0789\n",
                                    "Epoch 30/50\n",
                                    "23/23 - 0s - 2ms/step - loss: 90.6495 - val_loss: 96.3918\n",
                                    "Epoch 31/50\n",
                                    "23/23 - 0s - 2ms/step - loss: 90.4560 - val_loss: 84.9177\n",
                                    "Epoch 32/50\n",
                                    "23/23 - 0s - 2ms/step - loss: 88.1910 - val_loss: 80.5288\n",
                                    "Epoch 33/50\n",
                                    "23/23 - 0s - 2ms/step - loss: 89.0948 - val_loss: 78.3396\n",
                                    "Epoch 34/50\n",
                                    "23/23 - 0s - 1ms/step - loss: 87.4442 - val_loss: 78.4145\n",
                                    "Epoch 35/50\n",
                                    "23/23 - 0s - 1ms/step - loss: 87.9857 - val_loss: 81.3726\n",
                                    "Epoch 36/50\n",
                                    "23/23 - 0s - 1ms/step - loss: 87.0482 - val_loss: 71.4681\n",
                                    "Epoch 37/50\n",
                                    "23/23 - 0s - 2ms/step - loss: 87.3186 - val_loss: 74.2917\n",
                                    "Epoch 38/50\n",
                                    "23/23 - 0s - 1ms/step - loss: 88.2369 - val_loss: 77.0133\n",
                                    "Epoch 39/50\n",
                                    "23/23 - 0s - 1ms/step - loss: 84.4737 - val_loss: 75.9890\n",
                                    "Epoch 40/50\n",
                                    "23/23 - 0s - 2ms/step - loss: 84.0478 - val_loss: 87.1530\n",
                                    "Epoch 41/50\n",
                                    "23/23 - 0s - 2ms/step - loss: 85.2763 - val_loss: 71.8996\n",
                                    "Epoch 42/50\n",
                                    "23/23 - 0s - 2ms/step - loss: 83.0177 - val_loss: 72.1266\n",
                                    "Epoch 43/50\n",
                                    "23/23 - 0s - 2ms/step - loss: 82.6615 - val_loss: 74.7479\n",
                                    "Epoch 44/50\n",
                                    "23/23 - 0s - 2ms/step - loss: 82.8524 - val_loss: 73.8005\n",
                                    "Epoch 45/50\n",
                                    "23/23 - 0s - 2ms/step - loss: 82.2659 - val_loss: 76.0897\n",
                                    "Epoch 46/50\n",
                                    "23/23 - 0s - 2ms/step - loss: 82.2190 - val_loss: 75.6015\n",
                                    "Epoch 47/50\n",
                                    "23/23 - 0s - 1ms/step - loss: 82.5314 - val_loss: 75.7120\n",
                                    "Epoch 48/50\n",
                                    "23/23 - 0s - 3ms/step - loss: 81.6712 - val_loss: 68.9944\n",
                                    "Epoch 49/50\n",
                                    "23/23 - 0s - 1ms/step - loss: 81.3174 - val_loss: 75.4138\n",
                                    "Epoch 50/50\n",
                                    "23/23 - 0s - 2ms/step - loss: 80.5569 - val_loss: 70.0259\n"
                              ]
                        },
                        {
                              "data": {
                                    "text/plain": [
                                          "<keras.src.callbacks.history.History at 0x1748b2590>"
                                    ]
                              },
                              "execution_count": 19,
                              "metadata": {},
                              "output_type": "execute_result"
                        }
                  ],
                  "source": [
                        "model.fit(predictors, target, validation_split=0.3, epochs=50, verbose=2)"
                  ]
            },
            {
                  "cell_type": "markdown",
                  "metadata": {},
                  "source": [
                        "Train and test it 50 times:"
                  ]
            },
            {
                  "cell_type": "code",
                  "execution_count": 20,
                  "metadata": {},
                  "outputs": [
                        {
                              "name": "stdout",
                              "output_type": "stream",
                              "text": [
                                    "\u001b[1m10/10\u001b[0m \u001b[32m━━━━━━━━━━━━━━━━━━━━\u001b[0m\u001b[37m\u001b[0m \u001b[1m0s\u001b[0m 2ms/step \n",
                                    "\u001b[1m10/10\u001b[0m \u001b[32m━━━━━━━━━━━━━━━━━━━━\u001b[0m\u001b[37m\u001b[0m \u001b[1m0s\u001b[0m 2ms/step \n",
                                    "\u001b[1m10/10\u001b[0m \u001b[32m━━━━━━━━━━━━━━━━━━━━\u001b[0m\u001b[37m\u001b[0m \u001b[1m0s\u001b[0m 2ms/step \n",
                                    "\u001b[1m10/10\u001b[0m \u001b[32m━━━━━━━━━━━━━━━━━━━━\u001b[0m\u001b[37m\u001b[0m \u001b[1m0s\u001b[0m 2ms/step \n",
                                    "\u001b[1m10/10\u001b[0m \u001b[32m━━━━━━━━━━━━━━━━━━━━\u001b[0m\u001b[37m\u001b[0m \u001b[1m0s\u001b[0m 2ms/step \n",
                                    "\u001b[1m10/10\u001b[0m \u001b[32m━━━━━━━━━━━━━━━━━━━━\u001b[0m\u001b[37m\u001b[0m \u001b[1m0s\u001b[0m 2ms/step \n",
                                    "\u001b[1m10/10\u001b[0m \u001b[32m━━━━━━━━━━━━━━━━━━━━\u001b[0m\u001b[37m\u001b[0m \u001b[1m0s\u001b[0m 2ms/step \n",
                                    "\u001b[1m10/10\u001b[0m \u001b[32m━━━━━━━━━━━━━━━━━━━━\u001b[0m\u001b[37m\u001b[0m \u001b[1m0s\u001b[0m 2ms/step \n",
                                    "\u001b[1m10/10\u001b[0m \u001b[32m━━━━━━━━━━━━━━━━━━━━\u001b[0m\u001b[37m\u001b[0m \u001b[1m0s\u001b[0m 2ms/step \n",
                                    "\u001b[1m10/10\u001b[0m \u001b[32m━━━━━━━━━━━━━━━━━━━━\u001b[0m\u001b[37m\u001b[0m \u001b[1m0s\u001b[0m 2ms/step \n",
                                    "\u001b[1m10/10\u001b[0m \u001b[32m━━━━━━━━━━━━━━━━━━━━\u001b[0m\u001b[37m\u001b[0m \u001b[1m0s\u001b[0m 2ms/step \n",
                                    "\u001b[1m10/10\u001b[0m \u001b[32m━━━━━━━━━━━━━━━━━━━━\u001b[0m\u001b[37m\u001b[0m \u001b[1m0s\u001b[0m 2ms/step \n",
                                    "\u001b[1m10/10\u001b[0m \u001b[32m━━━━━━━━━━━━━━━━━━━━\u001b[0m\u001b[37m\u001b[0m \u001b[1m0s\u001b[0m 2ms/step \n",
                                    "\u001b[1m10/10\u001b[0m \u001b[32m━━━━━━━━━━━━━━━━━━━━\u001b[0m\u001b[37m\u001b[0m \u001b[1m0s\u001b[0m 2ms/step \n",
                                    "\u001b[1m10/10\u001b[0m \u001b[32m━━━━━━━━━━━━━━━━━━━━\u001b[0m\u001b[37m\u001b[0m \u001b[1m0s\u001b[0m 2ms/step \n",
                                    "\u001b[1m10/10\u001b[0m \u001b[32m━━━━━━━━━━━━━━━━━━━━\u001b[0m\u001b[37m\u001b[0m \u001b[1m0s\u001b[0m 2ms/step \n",
                                    "\u001b[1m10/10\u001b[0m \u001b[32m━━━━━━━━━━━━━━━━━━━━\u001b[0m\u001b[37m\u001b[0m \u001b[1m0s\u001b[0m 2ms/step \n",
                                    "\u001b[1m10/10\u001b[0m \u001b[32m━━━━━━━━━━━━━━━━━━━━\u001b[0m\u001b[37m\u001b[0m \u001b[1m0s\u001b[0m 2ms/step \n",
                                    "\u001b[1m10/10\u001b[0m \u001b[32m━━━━━━━━━━━━━━━━━━━━\u001b[0m\u001b[37m\u001b[0m \u001b[1m0s\u001b[0m 2ms/step \n",
                                    "\u001b[1m10/10\u001b[0m \u001b[32m━━━━━━━━━━━━━━━━━━━━\u001b[0m\u001b[37m\u001b[0m \u001b[1m0s\u001b[0m 2ms/step \n",
                                    "\u001b[1m10/10\u001b[0m \u001b[32m━━━━━━━━━━━━━━━━━━━━\u001b[0m\u001b[37m\u001b[0m \u001b[1m0s\u001b[0m 2ms/step \n",
                                    "\u001b[1m10/10\u001b[0m \u001b[32m━━━━━━━━━━━━━━━━━━━━\u001b[0m\u001b[37m\u001b[0m \u001b[1m0s\u001b[0m 2ms/step \n",
                                    "\u001b[1m10/10\u001b[0m \u001b[32m━━━━━━━━━━━━━━━━━━━━\u001b[0m\u001b[37m\u001b[0m \u001b[1m0s\u001b[0m 2ms/step \n",
                                    "\u001b[1m10/10\u001b[0m \u001b[32m━━━━━━━━━━━━━━━━━━━━\u001b[0m\u001b[37m\u001b[0m \u001b[1m0s\u001b[0m 2ms/step \n",
                                    "\u001b[1m10/10\u001b[0m \u001b[32m━━━━━━━━━━━━━━━━━━━━\u001b[0m\u001b[37m\u001b[0m \u001b[1m0s\u001b[0m 2ms/step \n",
                                    "\u001b[1m10/10\u001b[0m \u001b[32m━━━━━━━━━━━━━━━━━━━━\u001b[0m\u001b[37m\u001b[0m \u001b[1m0s\u001b[0m 2ms/step \n",
                                    "\u001b[1m10/10\u001b[0m \u001b[32m━━━━━━━━━━━━━━━━━━━━\u001b[0m\u001b[37m\u001b[0m \u001b[1m0s\u001b[0m 2ms/step \n",
                                    "\u001b[1m10/10\u001b[0m \u001b[32m━━━━━━━━━━━━━━━━━━━━\u001b[0m\u001b[37m\u001b[0m \u001b[1m0s\u001b[0m 2ms/step \n",
                                    "\u001b[1m10/10\u001b[0m \u001b[32m━━━━━━━━━━━━━━━━━━━━\u001b[0m\u001b[37m\u001b[0m \u001b[1m0s\u001b[0m 2ms/step \n",
                                    "\u001b[1m10/10\u001b[0m \u001b[32m━━━━━━━━━━━━━━━━━━━━\u001b[0m\u001b[37m\u001b[0m \u001b[1m0s\u001b[0m 2ms/step \n",
                                    "\u001b[1m10/10\u001b[0m \u001b[32m━━━━━━━━━━━━━━━━━━━━\u001b[0m\u001b[37m\u001b[0m \u001b[1m0s\u001b[0m 2ms/step \n",
                                    "\u001b[1m10/10\u001b[0m \u001b[32m━━━━━━━━━━━━━━━━━━━━\u001b[0m\u001b[37m\u001b[0m \u001b[1m0s\u001b[0m 2ms/step \n",
                                    "\u001b[1m10/10\u001b[0m \u001b[32m━━━━━━━━━━━━━━━━━━━━\u001b[0m\u001b[37m\u001b[0m \u001b[1m0s\u001b[0m 2ms/step \n",
                                    "\u001b[1m10/10\u001b[0m \u001b[32m━━━━━━━━━━━━━━━━━━━━\u001b[0m\u001b[37m\u001b[0m \u001b[1m0s\u001b[0m 2ms/step \n",
                                    "\u001b[1m10/10\u001b[0m \u001b[32m━━━━━━━━━━━━━━━━━━━━\u001b[0m\u001b[37m\u001b[0m \u001b[1m0s\u001b[0m 2ms/step \n",
                                    "\u001b[1m10/10\u001b[0m \u001b[32m━━━━━━━━━━━━━━━━━━━━\u001b[0m\u001b[37m\u001b[0m \u001b[1m0s\u001b[0m 2ms/step \n",
                                    "\u001b[1m10/10\u001b[0m \u001b[32m━━━━━━━━━━━━━━━━━━━━\u001b[0m\u001b[37m\u001b[0m \u001b[1m0s\u001b[0m 2ms/step \n",
                                    "\u001b[1m10/10\u001b[0m \u001b[32m━━━━━━━━━━━━━━━━━━━━\u001b[0m\u001b[37m\u001b[0m \u001b[1m0s\u001b[0m 2ms/step \n",
                                    "\u001b[1m10/10\u001b[0m \u001b[32m━━━━━━━━━━━━━━━━━━━━\u001b[0m\u001b[37m\u001b[0m \u001b[1m0s\u001b[0m 2ms/step \n",
                                    "\u001b[1m10/10\u001b[0m \u001b[32m━━━━━━━━━━━━━━━━━━━━\u001b[0m\u001b[37m\u001b[0m \u001b[1m0s\u001b[0m 2ms/step \n",
                                    "\u001b[1m10/10\u001b[0m \u001b[32m━━━━━━━━━━━━━━━━━━━━\u001b[0m\u001b[37m\u001b[0m \u001b[1m0s\u001b[0m 2ms/step \n",
                                    "\u001b[1m10/10\u001b[0m \u001b[32m━━━━━━━━━━━━━━━━━━━━\u001b[0m\u001b[37m\u001b[0m \u001b[1m0s\u001b[0m 2ms/step \n",
                                    "\u001b[1m10/10\u001b[0m \u001b[32m━━━━━━━━━━━━━━━━━━━━\u001b[0m\u001b[37m\u001b[0m \u001b[1m0s\u001b[0m 2ms/step \n",
                                    "\u001b[1m10/10\u001b[0m \u001b[32m━━━━━━━━━━━━━━━━━━━━\u001b[0m\u001b[37m\u001b[0m \u001b[1m0s\u001b[0m 2ms/step \n",
                                    "\u001b[1m10/10\u001b[0m \u001b[32m━━━━━━━━━━━━━━━━━━━━\u001b[0m\u001b[37m\u001b[0m \u001b[1m0s\u001b[0m 2ms/step \n",
                                    "\u001b[1m10/10\u001b[0m \u001b[32m━━━━━━━━━━━━━━━━━━━━\u001b[0m\u001b[37m\u001b[0m \u001b[1m0s\u001b[0m 2ms/step \n",
                                    "\u001b[1m10/10\u001b[0m \u001b[32m━━━━━━━━━━━━━━━━━━━━\u001b[0m\u001b[37m\u001b[0m \u001b[1m0s\u001b[0m 2ms/step \n",
                                    "\u001b[1m10/10\u001b[0m \u001b[32m━━━━━━━━━━━━━━━━━━━━\u001b[0m\u001b[37m\u001b[0m \u001b[1m0s\u001b[0m 2ms/step \n",
                                    "\u001b[1m10/10\u001b[0m \u001b[32m━━━━━━━━━━━━━━━━━━━━\u001b[0m\u001b[37m\u001b[0m \u001b[1m0s\u001b[0m 2ms/step \n",
                                    "\u001b[1m10/10\u001b[0m \u001b[32m━━━━━━━━━━━━━━━━━━━━\u001b[0m\u001b[37m\u001b[0m \u001b[1m0s\u001b[0m 2ms/step \n"
                              ]
                        }
                  ],
                  "source": [
                        "from sklearn.model_selection import train_test_split\n",
                        "from sklearn.metrics import mean_squared_error\n",
                        "\n",
                        "# Initialize list of mean squared errors\n",
                        "mse_list = []\n",
                        "\n",
                        "# Repeat the process 50 times\n",
                        "for _ in range(50):\n",
                        "    # Split the data\n",
                        "    X_train, X_test, y_train, y_test = train_test_split(predictors, target, test_size=0.3, random_state=None)\n",
                        "    \n",
                        "    # Build the model\n",
                        "    model = regression_model()\n",
                        "    \n",
                        "    # Train the model\n",
                        "    model.fit(X_train, y_train, epochs=50, verbose=0)\n",
                        "    \n",
                        "    # Predict on the test data\n",
                        "    y_pred = model.predict(X_test)\n",
                        "    \n",
                        "    # Compute mean squared error\n",
                        "    mse = mean_squared_error(y_test, y_pred)\n",
                        "    mse_list.append(mse)\n"
                  ]
            },
            {
                  "cell_type": "markdown",
                  "metadata": {},
                  "source": [
                        "## Report the mean and standard deviation of the mean squared errors"
                  ]
            },
            {
                  "cell_type": "code",
                  "execution_count": 21,
                  "metadata": {},
                  "outputs": [
                        {
                              "name": "stdout",
                              "output_type": "stream",
                              "text": [
                                    "Mean MSE: 326.64285909721934\n",
                                    "Standard Deviation of MSE: 398.3149510918722\n"
                              ]
                        }
                  ],
                  "source": [
                        "mean_mse = np.mean(mse_list)\n",
                        "std_mse = np.std(mse_list)\n",
                        "print(f'Mean MSE: {mean_mse}')\n",
                        "print(f'Standard Deviation of MSE: {std_mse}')"
                  ]
            }
      ],
      "metadata": {
            "kernelspec": {
                  "display_name": ".venv",
                  "language": "python",
                  "name": "python3"
            },
            "language_info": {
                  "codemirror_mode": {
                        "name": "ipython",
                        "version": 3
                  },
                  "file_extension": ".py",
                  "mimetype": "text/x-python",
                  "name": "python",
                  "nbconvert_exporter": "python",
                  "pygments_lexer": "ipython3",
                  "version": "3.11.9"
            }
      },
      "nbformat": 4,
      "nbformat_minor": 2
}
