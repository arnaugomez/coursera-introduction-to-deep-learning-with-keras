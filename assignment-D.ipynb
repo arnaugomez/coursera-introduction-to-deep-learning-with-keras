{
      "cells": [
            {
                  "cell_type": "markdown",
                  "metadata": {},
                  "source": [
                        "# Building a Regression Model with Keras: Predicting Concrete Compressive Strength from Multivariate Data\n",
                        "\n",
                        "Author: [Arnau Gómez](https://www.arnaugomez.com)\n",
                        "\n",
                        "Peer-graded Assignment: Build a Regression Model in Keras\n",
                        "\n",
                        "Exercise D: Increase the number of hidden layers (5 marks)"
                  ]
            },
            {
                  "cell_type": "markdown",
                  "metadata": {
                        "vscode": {
                              "languageId": "plaintext"
                        }
                  },
                  "source": [
                        "## Initial setup"
                  ]
            },
            {
                  "cell_type": "markdown",
                  "metadata": {},
                  "source": [
                        "Import dependencies"
                  ]
            },
            {
                  "cell_type": "code",
                  "execution_count": 1,
                  "metadata": {},
                  "outputs": [
                        {
                              "name": "stdout",
                              "output_type": "stream",
                              "text": [
                                    "Requirement already satisfied: pip in ./.venv/lib/python3.11/site-packages (24.3.1)\n",
                                    "Note: you may need to restart the kernel to use updated packages.\n",
                                    "Requirement already satisfied: pandas==2.2.3 in ./.venv/lib/python3.11/site-packages (2.2.3)\n",
                                    "Requirement already satisfied: keras==3.7.0 in ./.venv/lib/python3.11/site-packages (3.7.0)\n",
                                    "Requirement already satisfied: tensorflow==2.18.0 in ./.venv/lib/python3.11/site-packages (2.18.0)\n",
                                    "Requirement already satisfied: numpy==2.0.2 in ./.venv/lib/python3.11/site-packages (2.0.2)\n",
                                    "Requirement already satisfied: scikit-learn==1.6.0 in ./.venv/lib/python3.11/site-packages (1.6.0)\n",
                                    "Requirement already satisfied: python-dateutil>=2.8.2 in ./.venv/lib/python3.11/site-packages (from pandas==2.2.3) (2.9.0.post0)\n",
                                    "Requirement already satisfied: pytz>=2020.1 in ./.venv/lib/python3.11/site-packages (from pandas==2.2.3) (2024.2)\n",
                                    "Requirement already satisfied: tzdata>=2022.7 in ./.venv/lib/python3.11/site-packages (from pandas==2.2.3) (2024.2)\n",
                                    "Requirement already satisfied: absl-py in ./.venv/lib/python3.11/site-packages (from keras==3.7.0) (2.1.0)\n",
                                    "Requirement already satisfied: rich in ./.venv/lib/python3.11/site-packages (from keras==3.7.0) (13.9.4)\n",
                                    "Requirement already satisfied: namex in ./.venv/lib/python3.11/site-packages (from keras==3.7.0) (0.0.8)\n",
                                    "Requirement already satisfied: h5py in ./.venv/lib/python3.11/site-packages (from keras==3.7.0) (3.12.1)\n",
                                    "Requirement already satisfied: optree in ./.venv/lib/python3.11/site-packages (from keras==3.7.0) (0.13.1)\n",
                                    "Requirement already satisfied: ml-dtypes in ./.venv/lib/python3.11/site-packages (from keras==3.7.0) (0.4.1)\n",
                                    "Requirement already satisfied: packaging in ./.venv/lib/python3.11/site-packages (from keras==3.7.0) (24.2)\n",
                                    "Requirement already satisfied: astunparse>=1.6.0 in ./.venv/lib/python3.11/site-packages (from tensorflow==2.18.0) (1.6.3)\n",
                                    "Requirement already satisfied: flatbuffers>=24.3.25 in ./.venv/lib/python3.11/site-packages (from tensorflow==2.18.0) (24.3.25)\n",
                                    "Requirement already satisfied: gast!=0.5.0,!=0.5.1,!=0.5.2,>=0.2.1 in ./.venv/lib/python3.11/site-packages (from tensorflow==2.18.0) (0.6.0)\n",
                                    "Requirement already satisfied: google-pasta>=0.1.1 in ./.venv/lib/python3.11/site-packages (from tensorflow==2.18.0) (0.2.0)\n",
                                    "Requirement already satisfied: libclang>=13.0.0 in ./.venv/lib/python3.11/site-packages (from tensorflow==2.18.0) (18.1.1)\n",
                                    "Requirement already satisfied: opt-einsum>=2.3.2 in ./.venv/lib/python3.11/site-packages (from tensorflow==2.18.0) (3.4.0)\n",
                                    "Requirement already satisfied: protobuf!=4.21.0,!=4.21.1,!=4.21.2,!=4.21.3,!=4.21.4,!=4.21.5,<6.0.0dev,>=3.20.3 in ./.venv/lib/python3.11/site-packages (from tensorflow==2.18.0) (5.29.2)\n",
                                    "Requirement already satisfied: requests<3,>=2.21.0 in ./.venv/lib/python3.11/site-packages (from tensorflow==2.18.0) (2.32.3)\n",
                                    "Requirement already satisfied: setuptools in ./.venv/lib/python3.11/site-packages (from tensorflow==2.18.0) (65.5.0)\n",
                                    "Requirement already satisfied: six>=1.12.0 in ./.venv/lib/python3.11/site-packages (from tensorflow==2.18.0) (1.17.0)\n",
                                    "Requirement already satisfied: termcolor>=1.1.0 in ./.venv/lib/python3.11/site-packages (from tensorflow==2.18.0) (2.5.0)\n",
                                    "Requirement already satisfied: typing-extensions>=3.6.6 in ./.venv/lib/python3.11/site-packages (from tensorflow==2.18.0) (4.12.2)\n",
                                    "Requirement already satisfied: wrapt>=1.11.0 in ./.venv/lib/python3.11/site-packages (from tensorflow==2.18.0) (1.17.0)\n",
                                    "Requirement already satisfied: grpcio<2.0,>=1.24.3 in ./.venv/lib/python3.11/site-packages (from tensorflow==2.18.0) (1.68.1)\n",
                                    "Requirement already satisfied: tensorboard<2.19,>=2.18 in ./.venv/lib/python3.11/site-packages (from tensorflow==2.18.0) (2.18.0)\n",
                                    "Requirement already satisfied: tensorflow-io-gcs-filesystem>=0.23.1 in ./.venv/lib/python3.11/site-packages (from tensorflow==2.18.0) (0.37.1)\n",
                                    "Requirement already satisfied: scipy>=1.6.0 in ./.venv/lib/python3.11/site-packages (from scikit-learn==1.6.0) (1.14.1)\n",
                                    "Requirement already satisfied: joblib>=1.2.0 in ./.venv/lib/python3.11/site-packages (from scikit-learn==1.6.0) (1.4.2)\n",
                                    "Requirement already satisfied: threadpoolctl>=3.1.0 in ./.venv/lib/python3.11/site-packages (from scikit-learn==1.6.0) (3.5.0)\n",
                                    "Requirement already satisfied: wheel<1.0,>=0.23.0 in ./.venv/lib/python3.11/site-packages (from astunparse>=1.6.0->tensorflow==2.18.0) (0.45.1)\n",
                                    "Requirement already satisfied: charset-normalizer<4,>=2 in ./.venv/lib/python3.11/site-packages (from requests<3,>=2.21.0->tensorflow==2.18.0) (3.4.0)\n",
                                    "Requirement already satisfied: idna<4,>=2.5 in ./.venv/lib/python3.11/site-packages (from requests<3,>=2.21.0->tensorflow==2.18.0) (3.10)\n",
                                    "Requirement already satisfied: urllib3<3,>=1.21.1 in ./.venv/lib/python3.11/site-packages (from requests<3,>=2.21.0->tensorflow==2.18.0) (2.2.3)\n",
                                    "Requirement already satisfied: certifi>=2017.4.17 in ./.venv/lib/python3.11/site-packages (from requests<3,>=2.21.0->tensorflow==2.18.0) (2024.12.14)\n",
                                    "Requirement already satisfied: markdown>=2.6.8 in ./.venv/lib/python3.11/site-packages (from tensorboard<2.19,>=2.18->tensorflow==2.18.0) (3.7)\n",
                                    "Requirement already satisfied: tensorboard-data-server<0.8.0,>=0.7.0 in ./.venv/lib/python3.11/site-packages (from tensorboard<2.19,>=2.18->tensorflow==2.18.0) (0.7.2)\n",
                                    "Requirement already satisfied: werkzeug>=1.0.1 in ./.venv/lib/python3.11/site-packages (from tensorboard<2.19,>=2.18->tensorflow==2.18.0) (3.1.3)\n",
                                    "Requirement already satisfied: markdown-it-py>=2.2.0 in ./.venv/lib/python3.11/site-packages (from rich->keras==3.7.0) (3.0.0)\n",
                                    "Requirement already satisfied: pygments<3.0.0,>=2.13.0 in ./.venv/lib/python3.11/site-packages (from rich->keras==3.7.0) (2.18.0)\n",
                                    "Requirement already satisfied: mdurl~=0.1 in ./.venv/lib/python3.11/site-packages (from markdown-it-py>=2.2.0->rich->keras==3.7.0) (0.1.2)\n",
                                    "Requirement already satisfied: MarkupSafe>=2.1.1 in ./.venv/lib/python3.11/site-packages (from werkzeug>=1.0.1->tensorboard<2.19,>=2.18->tensorflow==2.18.0) (3.0.2)\n",
                                    "Note: you may need to restart the kernel to use updated packages.\n"
                              ]
                        }
                  ],
                  "source": [
                        "# Python version: 3.11.9\n",
                        "%pip install --upgrade pip\n",
                        "%pip install pandas==2.2.3 keras==3.7.0 tensorflow==2.18.0 numpy==2.0.2 scikit-learn==1.6.0"
                  ]
            },
            {
                  "cell_type": "markdown",
                  "metadata": {},
                  "source": [
                        "Import dependencies"
                  ]
            },
            {
                  "cell_type": "code",
                  "execution_count": 2,
                  "metadata": {},
                  "outputs": [],
                  "source": [
                        "import pandas as pd\n",
                        "import numpy as np\n",
                        "import keras\n",
                        "\n",
                        "import warnings\n",
                        "warnings.simplefilter('ignore', FutureWarning)"
                  ]
            },
            {
                  "cell_type": "markdown",
                  "metadata": {},
                  "source": [
                        "Import data"
                  ]
            },
            {
                  "cell_type": "code",
                  "execution_count": 3,
                  "metadata": {},
                  "outputs": [
                        {
                              "data": {
                                    "text/html": [
                                          "<div>\n",
                                          "<style scoped>\n",
                                          "    .dataframe tbody tr th:only-of-type {\n",
                                          "        vertical-align: middle;\n",
                                          "    }\n",
                                          "\n",
                                          "    .dataframe tbody tr th {\n",
                                          "        vertical-align: top;\n",
                                          "    }\n",
                                          "\n",
                                          "    .dataframe thead th {\n",
                                          "        text-align: right;\n",
                                          "    }\n",
                                          "</style>\n",
                                          "<table border=\"1\" class=\"dataframe\">\n",
                                          "  <thead>\n",
                                          "    <tr style=\"text-align: right;\">\n",
                                          "      <th></th>\n",
                                          "      <th>Cement</th>\n",
                                          "      <th>Blast Furnace Slag</th>\n",
                                          "      <th>Fly Ash</th>\n",
                                          "      <th>Water</th>\n",
                                          "      <th>Superplasticizer</th>\n",
                                          "      <th>Coarse Aggregate</th>\n",
                                          "      <th>Fine Aggregate</th>\n",
                                          "      <th>Age</th>\n",
                                          "      <th>Strength</th>\n",
                                          "    </tr>\n",
                                          "  </thead>\n",
                                          "  <tbody>\n",
                                          "    <tr>\n",
                                          "      <th>0</th>\n",
                                          "      <td>540.0</td>\n",
                                          "      <td>0.0</td>\n",
                                          "      <td>0.0</td>\n",
                                          "      <td>162.0</td>\n",
                                          "      <td>2.5</td>\n",
                                          "      <td>1040.0</td>\n",
                                          "      <td>676.0</td>\n",
                                          "      <td>28</td>\n",
                                          "      <td>79.99</td>\n",
                                          "    </tr>\n",
                                          "    <tr>\n",
                                          "      <th>1</th>\n",
                                          "      <td>540.0</td>\n",
                                          "      <td>0.0</td>\n",
                                          "      <td>0.0</td>\n",
                                          "      <td>162.0</td>\n",
                                          "      <td>2.5</td>\n",
                                          "      <td>1055.0</td>\n",
                                          "      <td>676.0</td>\n",
                                          "      <td>28</td>\n",
                                          "      <td>61.89</td>\n",
                                          "    </tr>\n",
                                          "    <tr>\n",
                                          "      <th>2</th>\n",
                                          "      <td>332.5</td>\n",
                                          "      <td>142.5</td>\n",
                                          "      <td>0.0</td>\n",
                                          "      <td>228.0</td>\n",
                                          "      <td>0.0</td>\n",
                                          "      <td>932.0</td>\n",
                                          "      <td>594.0</td>\n",
                                          "      <td>270</td>\n",
                                          "      <td>40.27</td>\n",
                                          "    </tr>\n",
                                          "    <tr>\n",
                                          "      <th>3</th>\n",
                                          "      <td>332.5</td>\n",
                                          "      <td>142.5</td>\n",
                                          "      <td>0.0</td>\n",
                                          "      <td>228.0</td>\n",
                                          "      <td>0.0</td>\n",
                                          "      <td>932.0</td>\n",
                                          "      <td>594.0</td>\n",
                                          "      <td>365</td>\n",
                                          "      <td>41.05</td>\n",
                                          "    </tr>\n",
                                          "    <tr>\n",
                                          "      <th>4</th>\n",
                                          "      <td>198.6</td>\n",
                                          "      <td>132.4</td>\n",
                                          "      <td>0.0</td>\n",
                                          "      <td>192.0</td>\n",
                                          "      <td>0.0</td>\n",
                                          "      <td>978.4</td>\n",
                                          "      <td>825.5</td>\n",
                                          "      <td>360</td>\n",
                                          "      <td>44.30</td>\n",
                                          "    </tr>\n",
                                          "  </tbody>\n",
                                          "</table>\n",
                                          "</div>"
                                    ],
                                    "text/plain": [
                                          "   Cement  Blast Furnace Slag  Fly Ash  Water  Superplasticizer  \\\n",
                                          "0   540.0                 0.0      0.0  162.0               2.5   \n",
                                          "1   540.0                 0.0      0.0  162.0               2.5   \n",
                                          "2   332.5               142.5      0.0  228.0               0.0   \n",
                                          "3   332.5               142.5      0.0  228.0               0.0   \n",
                                          "4   198.6               132.4      0.0  192.0               0.0   \n",
                                          "\n",
                                          "   Coarse Aggregate  Fine Aggregate  Age  Strength  \n",
                                          "0            1040.0           676.0   28     79.99  \n",
                                          "1            1055.0           676.0   28     61.89  \n",
                                          "2             932.0           594.0  270     40.27  \n",
                                          "3             932.0           594.0  365     41.05  \n",
                                          "4             978.4           825.5  360     44.30  "
                                    ]
                              },
                              "execution_count": 3,
                              "metadata": {},
                              "output_type": "execute_result"
                        }
                  ],
                  "source": [
                        "filepath='https://cocl.us/concrete_data'\n",
                        "concrete_data = pd.read_csv(filepath)\n",
                        "\n",
                        "\n",
                        "concrete_data.head()"
                  ]
            },
            {
                  "cell_type": "markdown",
                  "metadata": {},
                  "source": [
                        "Split data into predictors and target"
                  ]
            },
            {
                  "cell_type": "code",
                  "execution_count": 4,
                  "metadata": {},
                  "outputs": [
                        {
                              "data": {
                                    "text/html": [
                                          "<div>\n",
                                          "<style scoped>\n",
                                          "    .dataframe tbody tr th:only-of-type {\n",
                                          "        vertical-align: middle;\n",
                                          "    }\n",
                                          "\n",
                                          "    .dataframe tbody tr th {\n",
                                          "        vertical-align: top;\n",
                                          "    }\n",
                                          "\n",
                                          "    .dataframe thead th {\n",
                                          "        text-align: right;\n",
                                          "    }\n",
                                          "</style>\n",
                                          "<table border=\"1\" class=\"dataframe\">\n",
                                          "  <thead>\n",
                                          "    <tr style=\"text-align: right;\">\n",
                                          "      <th></th>\n",
                                          "      <th>Cement</th>\n",
                                          "      <th>Blast Furnace Slag</th>\n",
                                          "      <th>Fly Ash</th>\n",
                                          "      <th>Water</th>\n",
                                          "      <th>Superplasticizer</th>\n",
                                          "      <th>Coarse Aggregate</th>\n",
                                          "      <th>Fine Aggregate</th>\n",
                                          "      <th>Age</th>\n",
                                          "    </tr>\n",
                                          "  </thead>\n",
                                          "  <tbody>\n",
                                          "    <tr>\n",
                                          "      <th>0</th>\n",
                                          "      <td>540.0</td>\n",
                                          "      <td>0.0</td>\n",
                                          "      <td>0.0</td>\n",
                                          "      <td>162.0</td>\n",
                                          "      <td>2.5</td>\n",
                                          "      <td>1040.0</td>\n",
                                          "      <td>676.0</td>\n",
                                          "      <td>28</td>\n",
                                          "    </tr>\n",
                                          "    <tr>\n",
                                          "      <th>1</th>\n",
                                          "      <td>540.0</td>\n",
                                          "      <td>0.0</td>\n",
                                          "      <td>0.0</td>\n",
                                          "      <td>162.0</td>\n",
                                          "      <td>2.5</td>\n",
                                          "      <td>1055.0</td>\n",
                                          "      <td>676.0</td>\n",
                                          "      <td>28</td>\n",
                                          "    </tr>\n",
                                          "    <tr>\n",
                                          "      <th>2</th>\n",
                                          "      <td>332.5</td>\n",
                                          "      <td>142.5</td>\n",
                                          "      <td>0.0</td>\n",
                                          "      <td>228.0</td>\n",
                                          "      <td>0.0</td>\n",
                                          "      <td>932.0</td>\n",
                                          "      <td>594.0</td>\n",
                                          "      <td>270</td>\n",
                                          "    </tr>\n",
                                          "    <tr>\n",
                                          "      <th>3</th>\n",
                                          "      <td>332.5</td>\n",
                                          "      <td>142.5</td>\n",
                                          "      <td>0.0</td>\n",
                                          "      <td>228.0</td>\n",
                                          "      <td>0.0</td>\n",
                                          "      <td>932.0</td>\n",
                                          "      <td>594.0</td>\n",
                                          "      <td>365</td>\n",
                                          "    </tr>\n",
                                          "    <tr>\n",
                                          "      <th>4</th>\n",
                                          "      <td>198.6</td>\n",
                                          "      <td>132.4</td>\n",
                                          "      <td>0.0</td>\n",
                                          "      <td>192.0</td>\n",
                                          "      <td>0.0</td>\n",
                                          "      <td>978.4</td>\n",
                                          "      <td>825.5</td>\n",
                                          "      <td>360</td>\n",
                                          "    </tr>\n",
                                          "  </tbody>\n",
                                          "</table>\n",
                                          "</div>"
                                    ],
                                    "text/plain": [
                                          "   Cement  Blast Furnace Slag  Fly Ash  Water  Superplasticizer  \\\n",
                                          "0   540.0                 0.0      0.0  162.0               2.5   \n",
                                          "1   540.0                 0.0      0.0  162.0               2.5   \n",
                                          "2   332.5               142.5      0.0  228.0               0.0   \n",
                                          "3   332.5               142.5      0.0  228.0               0.0   \n",
                                          "4   198.6               132.4      0.0  192.0               0.0   \n",
                                          "\n",
                                          "   Coarse Aggregate  Fine Aggregate  Age  \n",
                                          "0            1040.0           676.0   28  \n",
                                          "1            1055.0           676.0   28  \n",
                                          "2             932.0           594.0  270  \n",
                                          "3             932.0           594.0  365  \n",
                                          "4             978.4           825.5  360  "
                                    ]
                              },
                              "execution_count": 4,
                              "metadata": {},
                              "output_type": "execute_result"
                        }
                  ],
                  "source": [
                        "predictors = concrete_data.drop(columns=['Strength'])\n",
                        "predictors.head()"
                  ]
            },
            {
                  "cell_type": "code",
                  "execution_count": 5,
                  "metadata": {},
                  "outputs": [
                        {
                              "data": {
                                    "text/plain": [
                                          "0    79.99\n",
                                          "1    61.89\n",
                                          "2    40.27\n",
                                          "3    41.05\n",
                                          "4    44.30\n",
                                          "Name: Strength, dtype: float64"
                                    ]
                              },
                              "execution_count": 5,
                              "metadata": {},
                              "output_type": "execute_result"
                        }
                  ],
                  "source": [
                        "target = concrete_data['Strength']\n",
                        "target.head()"
                  ]
            },
            {
                  "cell_type": "markdown",
                  "metadata": {},
                  "source": [
                        "Normalize the data by substracting the mean and dividing by the standard deviation."
                  ]
            },
            {
                  "cell_type": "code",
                  "execution_count": 6,
                  "metadata": {},
                  "outputs": [
                        {
                              "data": {
                                    "text/html": [
                                          "<div>\n",
                                          "<style scoped>\n",
                                          "    .dataframe tbody tr th:only-of-type {\n",
                                          "        vertical-align: middle;\n",
                                          "    }\n",
                                          "\n",
                                          "    .dataframe tbody tr th {\n",
                                          "        vertical-align: top;\n",
                                          "    }\n",
                                          "\n",
                                          "    .dataframe thead th {\n",
                                          "        text-align: right;\n",
                                          "    }\n",
                                          "</style>\n",
                                          "<table border=\"1\" class=\"dataframe\">\n",
                                          "  <thead>\n",
                                          "    <tr style=\"text-align: right;\">\n",
                                          "      <th></th>\n",
                                          "      <th>Cement</th>\n",
                                          "      <th>Blast Furnace Slag</th>\n",
                                          "      <th>Fly Ash</th>\n",
                                          "      <th>Water</th>\n",
                                          "      <th>Superplasticizer</th>\n",
                                          "      <th>Coarse Aggregate</th>\n",
                                          "      <th>Fine Aggregate</th>\n",
                                          "      <th>Age</th>\n",
                                          "    </tr>\n",
                                          "  </thead>\n",
                                          "  <tbody>\n",
                                          "    <tr>\n",
                                          "      <th>0</th>\n",
                                          "      <td>2.476712</td>\n",
                                          "      <td>-0.856472</td>\n",
                                          "      <td>-0.846733</td>\n",
                                          "      <td>-0.916319</td>\n",
                                          "      <td>-0.620147</td>\n",
                                          "      <td>0.862735</td>\n",
                                          "      <td>-1.217079</td>\n",
                                          "      <td>-0.279597</td>\n",
                                          "    </tr>\n",
                                          "    <tr>\n",
                                          "      <th>1</th>\n",
                                          "      <td>2.476712</td>\n",
                                          "      <td>-0.856472</td>\n",
                                          "      <td>-0.846733</td>\n",
                                          "      <td>-0.916319</td>\n",
                                          "      <td>-0.620147</td>\n",
                                          "      <td>1.055651</td>\n",
                                          "      <td>-1.217079</td>\n",
                                          "      <td>-0.279597</td>\n",
                                          "    </tr>\n",
                                          "    <tr>\n",
                                          "      <th>2</th>\n",
                                          "      <td>0.491187</td>\n",
                                          "      <td>0.795140</td>\n",
                                          "      <td>-0.846733</td>\n",
                                          "      <td>2.174405</td>\n",
                                          "      <td>-1.038638</td>\n",
                                          "      <td>-0.526262</td>\n",
                                          "      <td>-2.239829</td>\n",
                                          "      <td>3.551340</td>\n",
                                          "    </tr>\n",
                                          "    <tr>\n",
                                          "      <th>3</th>\n",
                                          "      <td>0.491187</td>\n",
                                          "      <td>0.795140</td>\n",
                                          "      <td>-0.846733</td>\n",
                                          "      <td>2.174405</td>\n",
                                          "      <td>-1.038638</td>\n",
                                          "      <td>-0.526262</td>\n",
                                          "      <td>-2.239829</td>\n",
                                          "      <td>5.055221</td>\n",
                                          "    </tr>\n",
                                          "    <tr>\n",
                                          "      <th>4</th>\n",
                                          "      <td>-0.790075</td>\n",
                                          "      <td>0.678079</td>\n",
                                          "      <td>-0.846733</td>\n",
                                          "      <td>0.488555</td>\n",
                                          "      <td>-1.038638</td>\n",
                                          "      <td>0.070492</td>\n",
                                          "      <td>0.647569</td>\n",
                                          "      <td>4.976069</td>\n",
                                          "    </tr>\n",
                                          "  </tbody>\n",
                                          "</table>\n",
                                          "</div>"
                                    ],
                                    "text/plain": [
                                          "     Cement  Blast Furnace Slag   Fly Ash     Water  Superplasticizer  \\\n",
                                          "0  2.476712           -0.856472 -0.846733 -0.916319         -0.620147   \n",
                                          "1  2.476712           -0.856472 -0.846733 -0.916319         -0.620147   \n",
                                          "2  0.491187            0.795140 -0.846733  2.174405         -1.038638   \n",
                                          "3  0.491187            0.795140 -0.846733  2.174405         -1.038638   \n",
                                          "4 -0.790075            0.678079 -0.846733  0.488555         -1.038638   \n",
                                          "\n",
                                          "   Coarse Aggregate  Fine Aggregate       Age  \n",
                                          "0          0.862735       -1.217079 -0.279597  \n",
                                          "1          1.055651       -1.217079 -0.279597  \n",
                                          "2         -0.526262       -2.239829  3.551340  \n",
                                          "3         -0.526262       -2.239829  5.055221  \n",
                                          "4          0.070492        0.647569  4.976069  "
                                    ]
                              },
                              "execution_count": 6,
                              "metadata": {},
                              "output_type": "execute_result"
                        }
                  ],
                  "source": [
                        "predictors_norm = (predictors - predictors.mean()) / predictors.std()\n",
                        "predictors_norm.head()"
                  ]
            },
            {
                  "cell_type": "markdown",
                  "metadata": {},
                  "source": [
                        "Compute number of input features"
                  ]
            },
            {
                  "cell_type": "code",
                  "execution_count": 7,
                  "metadata": {},
                  "outputs": [],
                  "source": [
                        "n_predictors = predictors.shape[1]"
                  ]
            },
            {
                  "cell_type": "markdown",
                  "metadata": {},
                  "source": [
                        "## Build the keras model"
                  ]
            },
            {
                  "cell_type": "code",
                  "execution_count": 8,
                  "metadata": {},
                  "outputs": [
                        {
                              "data": {
                                    "text/html": [
                                          "<pre style=\"white-space:pre;overflow-x:auto;line-height:normal;font-family:Menlo,'DejaVu Sans Mono',consolas,'Courier New',monospace\"><span style=\"font-weight: bold\">Model: \"sequential\"</span>\n",
                                          "</pre>\n"
                                    ],
                                    "text/plain": [
                                          "\u001b[1mModel: \"sequential\"\u001b[0m\n"
                                    ]
                              },
                              "metadata": {},
                              "output_type": "display_data"
                        },
                        {
                              "data": {
                                    "text/html": [
                                          "<pre style=\"white-space:pre;overflow-x:auto;line-height:normal;font-family:Menlo,'DejaVu Sans Mono',consolas,'Courier New',monospace\">┏━━━━━━━━━━━━━━━━━━━━━━━━━━━━━━━━━┳━━━━━━━━━━━━━━━━━━━━━━━━┳━━━━━━━━━━━━━━━┓\n",
                                          "┃<span style=\"font-weight: bold\"> Layer (type)                    </span>┃<span style=\"font-weight: bold\"> Output Shape           </span>┃<span style=\"font-weight: bold\">       Param # </span>┃\n",
                                          "┡━━━━━━━━━━━━━━━━━━━━━━━━━━━━━━━━━╇━━━━━━━━━━━━━━━━━━━━━━━━╇━━━━━━━━━━━━━━━┩\n",
                                          "│ dense (<span style=\"color: #0087ff; text-decoration-color: #0087ff\">Dense</span>)                   │ (<span style=\"color: #00d7ff; text-decoration-color: #00d7ff\">None</span>, <span style=\"color: #00af00; text-decoration-color: #00af00\">10</span>)             │            <span style=\"color: #00af00; text-decoration-color: #00af00\">90</span> │\n",
                                          "├─────────────────────────────────┼────────────────────────┼───────────────┤\n",
                                          "│ dense_1 (<span style=\"color: #0087ff; text-decoration-color: #0087ff\">Dense</span>)                 │ (<span style=\"color: #00d7ff; text-decoration-color: #00d7ff\">None</span>, <span style=\"color: #00af00; text-decoration-color: #00af00\">10</span>)             │           <span style=\"color: #00af00; text-decoration-color: #00af00\">110</span> │\n",
                                          "├─────────────────────────────────┼────────────────────────┼───────────────┤\n",
                                          "│ dense_2 (<span style=\"color: #0087ff; text-decoration-color: #0087ff\">Dense</span>)                 │ (<span style=\"color: #00d7ff; text-decoration-color: #00d7ff\">None</span>, <span style=\"color: #00af00; text-decoration-color: #00af00\">10</span>)             │           <span style=\"color: #00af00; text-decoration-color: #00af00\">110</span> │\n",
                                          "├─────────────────────────────────┼────────────────────────┼───────────────┤\n",
                                          "│ dense_3 (<span style=\"color: #0087ff; text-decoration-color: #0087ff\">Dense</span>)                 │ (<span style=\"color: #00d7ff; text-decoration-color: #00d7ff\">None</span>, <span style=\"color: #00af00; text-decoration-color: #00af00\">1</span>)              │            <span style=\"color: #00af00; text-decoration-color: #00af00\">11</span> │\n",
                                          "└─────────────────────────────────┴────────────────────────┴───────────────┘\n",
                                          "</pre>\n"
                                    ],
                                    "text/plain": [
                                          "┏━━━━━━━━━━━━━━━━━━━━━━━━━━━━━━━━━┳━━━━━━━━━━━━━━━━━━━━━━━━┳━━━━━━━━━━━━━━━┓\n",
                                          "┃\u001b[1m \u001b[0m\u001b[1mLayer (type)                   \u001b[0m\u001b[1m \u001b[0m┃\u001b[1m \u001b[0m\u001b[1mOutput Shape          \u001b[0m\u001b[1m \u001b[0m┃\u001b[1m \u001b[0m\u001b[1m      Param #\u001b[0m\u001b[1m \u001b[0m┃\n",
                                          "┡━━━━━━━━━━━━━━━━━━━━━━━━━━━━━━━━━╇━━━━━━━━━━━━━━━━━━━━━━━━╇━━━━━━━━━━━━━━━┩\n",
                                          "│ dense (\u001b[38;5;33mDense\u001b[0m)                   │ (\u001b[38;5;45mNone\u001b[0m, \u001b[38;5;34m10\u001b[0m)             │            \u001b[38;5;34m90\u001b[0m │\n",
                                          "├─────────────────────────────────┼────────────────────────┼───────────────┤\n",
                                          "│ dense_1 (\u001b[38;5;33mDense\u001b[0m)                 │ (\u001b[38;5;45mNone\u001b[0m, \u001b[38;5;34m10\u001b[0m)             │           \u001b[38;5;34m110\u001b[0m │\n",
                                          "├─────────────────────────────────┼────────────────────────┼───────────────┤\n",
                                          "│ dense_2 (\u001b[38;5;33mDense\u001b[0m)                 │ (\u001b[38;5;45mNone\u001b[0m, \u001b[38;5;34m10\u001b[0m)             │           \u001b[38;5;34m110\u001b[0m │\n",
                                          "├─────────────────────────────────┼────────────────────────┼───────────────┤\n",
                                          "│ dense_3 (\u001b[38;5;33mDense\u001b[0m)                 │ (\u001b[38;5;45mNone\u001b[0m, \u001b[38;5;34m1\u001b[0m)              │            \u001b[38;5;34m11\u001b[0m │\n",
                                          "└─────────────────────────────────┴────────────────────────┴───────────────┘\n"
                                    ]
                              },
                              "metadata": {},
                              "output_type": "display_data"
                        },
                        {
                              "data": {
                                    "text/html": [
                                          "<pre style=\"white-space:pre;overflow-x:auto;line-height:normal;font-family:Menlo,'DejaVu Sans Mono',consolas,'Courier New',monospace\"><span style=\"font-weight: bold\"> Total params: </span><span style=\"color: #00af00; text-decoration-color: #00af00\">321</span> (1.25 KB)\n",
                                          "</pre>\n"
                                    ],
                                    "text/plain": [
                                          "\u001b[1m Total params: \u001b[0m\u001b[38;5;34m321\u001b[0m (1.25 KB)\n"
                                    ]
                              },
                              "metadata": {},
                              "output_type": "display_data"
                        },
                        {
                              "data": {
                                    "text/html": [
                                          "<pre style=\"white-space:pre;overflow-x:auto;line-height:normal;font-family:Menlo,'DejaVu Sans Mono',consolas,'Courier New',monospace\"><span style=\"font-weight: bold\"> Trainable params: </span><span style=\"color: #00af00; text-decoration-color: #00af00\">321</span> (1.25 KB)\n",
                                          "</pre>\n"
                                    ],
                                    "text/plain": [
                                          "\u001b[1m Trainable params: \u001b[0m\u001b[38;5;34m321\u001b[0m (1.25 KB)\n"
                                    ]
                              },
                              "metadata": {},
                              "output_type": "display_data"
                        },
                        {
                              "data": {
                                    "text/html": [
                                          "<pre style=\"white-space:pre;overflow-x:auto;line-height:normal;font-family:Menlo,'DejaVu Sans Mono',consolas,'Courier New',monospace\"><span style=\"font-weight: bold\"> Non-trainable params: </span><span style=\"color: #00af00; text-decoration-color: #00af00\">0</span> (0.00 B)\n",
                                          "</pre>\n"
                                    ],
                                    "text/plain": [
                                          "\u001b[1m Non-trainable params: \u001b[0m\u001b[38;5;34m0\u001b[0m (0.00 B)\n"
                                    ]
                              },
                              "metadata": {},
                              "output_type": "display_data"
                        }
                  ],
                  "source": [
                        "from keras.models import Sequential\n",
                        "from keras.layers import Dense, Input\n",
                        "\n",
                        "# define regression model\n",
                        "def regression_model():\n",
                        "    # create model\n",
                        "    model = Sequential()\n",
                        "    model.add(Input(shape=(n_predictors,)))\n",
                        "    model.add(Dense(10, activation='relu'))\n",
                        "    model.add(Dense(10, activation='relu'))\n",
                        "    model.add(Dense(10, activation='relu'))\n",
                        "    model.add(Dense(1))\n",
                        "    \n",
                        "    # compile model\n",
                        "    model.compile(optimizer='adam', loss='mean_squared_error')\n",
                        "    return model\n",
                        "\n",
                        "# build the model\n",
                        "model = regression_model()\n",
                        "\n",
                        "# display model summary\n",
                        "model.summary()\n"
                  ]
            },
            {
                  "cell_type": "markdown",
                  "metadata": {},
                  "source": [
                        "## Train and test the model"
                  ]
            },
            {
                  "cell_type": "markdown",
                  "metadata": {},
                  "source": [
                        "Train and test it once:"
                  ]
            },
            {
                  "cell_type": "code",
                  "execution_count": 9,
                  "metadata": {},
                  "outputs": [
                        {
                              "name": "stdout",
                              "output_type": "stream",
                              "text": [
                                    "Epoch 1/50\n",
                                    "23/23 - 0s - 19ms/step - loss: 1655.3156 - val_loss: 1192.2191\n",
                                    "Epoch 2/50\n",
                                    "23/23 - 0s - 2ms/step - loss: 1615.3130 - val_loss: 1160.1373\n",
                                    "Epoch 3/50\n",
                                    "23/23 - 0s - 2ms/step - loss: 1554.5983 - val_loss: 1109.6897\n",
                                    "Epoch 4/50\n",
                                    "23/23 - 0s - 2ms/step - loss: 1463.6509 - val_loss: 1036.7717\n",
                                    "Epoch 5/50\n",
                                    "23/23 - 0s - 1ms/step - loss: 1335.0931 - val_loss: 938.2257\n",
                                    "Epoch 6/50\n",
                                    "23/23 - 0s - 1ms/step - loss: 1162.8563 - val_loss: 813.3467\n",
                                    "Epoch 7/50\n",
                                    "23/23 - 0s - 1ms/step - loss: 949.6710 - val_loss: 663.2787\n",
                                    "Epoch 8/50\n",
                                    "23/23 - 0s - 1ms/step - loss: 703.8416 - val_loss: 512.1061\n",
                                    "Epoch 9/50\n",
                                    "23/23 - 0s - 1ms/step - loss: 490.2215 - val_loss: 389.3141\n",
                                    "Epoch 10/50\n",
                                    "23/23 - 0s - 1ms/step - loss: 359.4137 - val_loss: 312.8605\n",
                                    "Epoch 11/50\n",
                                    "23/23 - 0s - 1ms/step - loss: 301.4568 - val_loss: 262.0592\n",
                                    "Epoch 12/50\n",
                                    "23/23 - 0s - 1ms/step - loss: 271.0792 - val_loss: 233.5633\n",
                                    "Epoch 13/50\n",
                                    "23/23 - 0s - 1ms/step - loss: 253.7307 - val_loss: 213.8286\n",
                                    "Epoch 14/50\n",
                                    "23/23 - 0s - 1ms/step - loss: 241.1207 - val_loss: 199.0003\n",
                                    "Epoch 15/50\n",
                                    "23/23 - 0s - 1ms/step - loss: 231.1579 - val_loss: 188.2676\n",
                                    "Epoch 16/50\n",
                                    "23/23 - 0s - 1ms/step - loss: 222.5110 - val_loss: 179.0959\n",
                                    "Epoch 17/50\n",
                                    "23/23 - 0s - 1ms/step - loss: 214.4362 - val_loss: 173.5627\n",
                                    "Epoch 18/50\n",
                                    "23/23 - 0s - 1ms/step - loss: 207.7726 - val_loss: 167.9940\n",
                                    "Epoch 19/50\n",
                                    "23/23 - 0s - 1ms/step - loss: 201.5918 - val_loss: 162.6307\n",
                                    "Epoch 20/50\n",
                                    "23/23 - 0s - 2ms/step - loss: 195.8737 - val_loss: 159.1879\n",
                                    "Epoch 21/50\n",
                                    "23/23 - 0s - 1ms/step - loss: 191.0667 - val_loss: 156.2883\n",
                                    "Epoch 22/50\n",
                                    "23/23 - 0s - 1ms/step - loss: 186.0834 - val_loss: 155.2647\n",
                                    "Epoch 23/50\n",
                                    "23/23 - 0s - 1ms/step - loss: 181.7158 - val_loss: 152.2602\n",
                                    "Epoch 24/50\n",
                                    "23/23 - 0s - 1ms/step - loss: 178.5195 - val_loss: 148.4578\n",
                                    "Epoch 25/50\n",
                                    "23/23 - 0s - 1ms/step - loss: 174.2349 - val_loss: 149.4757\n",
                                    "Epoch 26/50\n",
                                    "23/23 - 0s - 1ms/step - loss: 171.0001 - val_loss: 149.1014\n",
                                    "Epoch 27/50\n",
                                    "23/23 - 0s - 1ms/step - loss: 167.8891 - val_loss: 146.1572\n",
                                    "Epoch 28/50\n",
                                    "23/23 - 0s - 1ms/step - loss: 164.8882 - val_loss: 146.7087\n",
                                    "Epoch 29/50\n",
                                    "23/23 - 0s - 1ms/step - loss: 161.8552 - val_loss: 144.8954\n",
                                    "Epoch 30/50\n",
                                    "23/23 - 0s - 1ms/step - loss: 159.0522 - val_loss: 145.3089\n",
                                    "Epoch 31/50\n",
                                    "23/23 - 0s - 1ms/step - loss: 155.9720 - val_loss: 143.7523\n",
                                    "Epoch 32/50\n",
                                    "23/23 - 0s - 1ms/step - loss: 153.0318 - val_loss: 144.0358\n",
                                    "Epoch 33/50\n",
                                    "23/23 - 0s - 1ms/step - loss: 149.0659 - val_loss: 145.1517\n",
                                    "Epoch 34/50\n",
                                    "23/23 - 0s - 1ms/step - loss: 146.0774 - val_loss: 143.1245\n",
                                    "Epoch 35/50\n",
                                    "23/23 - 0s - 1ms/step - loss: 142.6883 - val_loss: 145.5831\n",
                                    "Epoch 36/50\n",
                                    "23/23 - 0s - 1ms/step - loss: 138.9718 - val_loss: 142.2872\n",
                                    "Epoch 37/50\n",
                                    "23/23 - 0s - 1ms/step - loss: 135.3960 - val_loss: 141.1107\n",
                                    "Epoch 38/50\n",
                                    "23/23 - 0s - 1ms/step - loss: 130.8150 - val_loss: 138.9696\n",
                                    "Epoch 39/50\n",
                                    "23/23 - 0s - 3ms/step - loss: 126.1904 - val_loss: 137.8739\n",
                                    "Epoch 40/50\n",
                                    "23/23 - 0s - 1ms/step - loss: 120.9306 - val_loss: 133.5403\n",
                                    "Epoch 41/50\n",
                                    "23/23 - 0s - 1ms/step - loss: 116.1226 - val_loss: 129.6836\n",
                                    "Epoch 42/50\n",
                                    "23/23 - 0s - 1ms/step - loss: 111.0550 - val_loss: 128.8183\n",
                                    "Epoch 43/50\n",
                                    "23/23 - 0s - 1ms/step - loss: 105.6841 - val_loss: 126.1571\n",
                                    "Epoch 44/50\n",
                                    "23/23 - 0s - 1ms/step - loss: 101.0655 - val_loss: 125.3595\n",
                                    "Epoch 45/50\n",
                                    "23/23 - 0s - 1ms/step - loss: 96.4121 - val_loss: 121.9969\n",
                                    "Epoch 46/50\n",
                                    "23/23 - 0s - 1ms/step - loss: 92.3342 - val_loss: 119.6293\n",
                                    "Epoch 47/50\n",
                                    "23/23 - 0s - 1ms/step - loss: 89.0011 - val_loss: 118.6343\n",
                                    "Epoch 48/50\n",
                                    "23/23 - 0s - 2ms/step - loss: 85.5169 - val_loss: 115.9225\n",
                                    "Epoch 49/50\n",
                                    "23/23 - 0s - 2ms/step - loss: 82.5610 - val_loss: 116.8742\n",
                                    "Epoch 50/50\n",
                                    "23/23 - 0s - 1ms/step - loss: 79.9709 - val_loss: 115.7873\n"
                              ]
                        },
                        {
                              "data": {
                                    "text/plain": [
                                          "<keras.src.callbacks.history.History at 0x144c85ad0>"
                                    ]
                              },
                              "execution_count": 9,
                              "metadata": {},
                              "output_type": "execute_result"
                        }
                  ],
                  "source": [
                        "model.fit(predictors_norm, target, validation_split=0.3, epochs=50, verbose=2)"
                  ]
            },
            {
                  "cell_type": "markdown",
                  "metadata": {},
                  "source": [
                        "Train and test it 50 times:"
                  ]
            },
            {
                  "cell_type": "code",
                  "execution_count": 10,
                  "metadata": {},
                  "outputs": [
                        {
                              "name": "stdout",
                              "output_type": "stream",
                              "text": [
                                    "[118.14382012504592, 139.7038574230891, 102.79368025911762, 141.67150635608232, 124.67995964198654, 113.30873088750786, 133.2430756807141, 152.98247560662082, 149.2900653085746, 143.28911306270606, 120.61916697038396, 136.30859712145454, 147.79695556285677, 133.58760709564032, 109.77134473095754, 144.71526531520968, 132.15287580915972, 117.3092539496814, 145.94227977225523, 127.84897821457517, 133.27648183573746, 90.93791559257676, 136.36622221990746, 136.1265401490851, 122.20011291832095, 143.23044005121784, 150.5771255540155, 124.44154604900793, 140.3592209120131, 126.73555400440793, 147.02739258718563, 140.69059563320835, 122.39073423725445, 147.75239373222018, 114.85629652678085, 95.94510679083123, 141.3650541558098, 139.64868360110586, 137.7616130511026, 122.43932165266587, 146.46645390324673, 148.1971853109503, 125.68692618671585, 151.8430924549709, 132.12978678543394, 104.99025545547823, 142.9108807628334, 155.36797716518754, 128.008367556934, 110.94659446936667]\n"
                              ]
                        }
                  ],
                  "source": [
                        "from sklearn.model_selection import train_test_split\n",
                        "from sklearn.metrics import mean_squared_error\n",
                        "\n",
                        "# Initialize list of mean squared errors\n",
                        "mse_list = []\n",
                        "\n",
                        "# Repeat the process 50 times\n",
                        "for _ in range(50):\n",
                        "    # Split the data\n",
                        "    X_train, X_test, y_train, y_test = train_test_split(predictors_norm, target, test_size=0.3, random_state=None)\n",
                        "    \n",
                        "    # Build the model\n",
                        "    model = regression_model()\n",
                        "    \n",
                        "    # Train the model\n",
                        "    model.fit(X_train, y_train, epochs=50, verbose=0)\n",
                        "    \n",
                        "    # Predict on the test data\n",
                        "    y_pred = model.predict(X_test, verbose=0)\n",
                        "    \n",
                        "    # Compute mean squared error\n",
                        "    mse = mean_squared_error(y_test, y_pred)\n",
                        "    mse_list.append(mse)\n",
                        "\n",
                        "print(mse_list)\n"
                  ]
            },
            {
                  "cell_type": "markdown",
                  "metadata": {},
                  "source": [
                        "## Report the mean and standard deviation of the mean squared errors"
                  ]
            },
            {
                  "cell_type": "code",
                  "execution_count": 11,
                  "metadata": {},
                  "outputs": [
                        {
                              "name": "stdout",
                              "output_type": "stream",
                              "text": [
                                    "Mean MSE: 131.91668960398383\n",
                                    "Standard Deviation of MSE: 15.27315166223265\n"
                              ]
                        }
                  ],
                  "source": [
                        "mean_mse = np.mean(mse_list)\n",
                        "std_mse = np.std(mse_list)\n",
                        "print(f'Mean MSE: {mean_mse}')\n",
                        "print(f'Standard Deviation of MSE: {std_mse}')"
                  ]
            },
            {
                  "cell_type": "markdown",
                  "metadata": {},
                  "source": [
                        "## How does the mean of the mean squared errors compare to that from Step B?"
                  ]
            },
            {
                  "cell_type": "markdown",
                  "metadata": {},
                  "source": [
                        "The mean of the mean squared errors (MSE) from the current exercise is lower than the mean MSE from Step B. This indicates that increasing the number of hidden layers from 1 to 3 has further improved the model's performance. Additionally, the standard deviation of the MSE is slightly higher, suggesting a slight increase in variability across different splits of the data.\n",
                        "\n",
                        "| Metric | Step A | Step B | Step D |\n",
                        "|--------|--------|--------|------------------|\n",
                        "| Mean MSE | 416.851 | 349.821 | 131.917 |\n",
                        "| Standard Deviation of MSE | 595.123 | 90.653 | 15.273 |\n",
                        "\n",
                        "\n"
                  ]
            },
            {
                  "cell_type": "markdown",
                  "metadata": {},
                  "source": [
                        "## Conclusion\n",
                        "\n",
                        "In this exercise, we have demonstrated the effectiveness of neural networks in predicting numerical values, specifically the compressive strength of concrete. The results indicate that neural networks can serve as powerful predictors when the input data is clean and accurate. By normalizing the data and carefully designing the network architecture, we achieved a significant reduction in the mean squared error (MSE) compared to previous steps.\n",
                        "\n",
                        "Furthermore, executing the model multiple times and averaging the results provides a more reliable measure of its accuracy than a single execution. This approach helps to account for variability in the data splits and ensures that the reported performance metrics are robust.\n",
                        "\n",
                        "To further improve the model's accuracy and reduce overfitting, two key strategies can be employed: increasing the number of epochs and increasing the number of hidden layers. Increasing the number of epochs allows the model to learn more thoroughly from the training data, while additional hidden layers can capture more complex patterns and interactions within the data. Both measures contribute to enhancing the model's predictive capabilities.\n",
                        "\n",
                        "In conclusion, neural networks, when properly configured and trained, can effectively predict numerical outcomes. The iterative process of training and testing, along with architectural adjustments, plays a crucial role in optimizing model performance."
                  ]
            }
      ],
      "metadata": {
            "kernelspec": {
                  "display_name": ".venv",
                  "language": "python",
                  "name": "python3"
            },
            "language_info": {
                  "codemirror_mode": {
                        "name": "ipython",
                        "version": 3
                  },
                  "file_extension": ".py",
                  "mimetype": "text/x-python",
                  "name": "python",
                  "nbconvert_exporter": "python",
                  "pygments_lexer": "ipython3",
                  "version": "3.11.9"
            }
      },
      "nbformat": 4,
      "nbformat_minor": 2
}
