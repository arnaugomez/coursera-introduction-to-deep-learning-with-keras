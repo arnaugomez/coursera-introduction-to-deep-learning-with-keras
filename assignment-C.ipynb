{
      "cells": [
            {
                  "cell_type": "markdown",
                  "metadata": {},
                  "source": [
                        "# Building a Regression Model with Keras: Predicting Concrete Compressive Strength from Multivariate Data\n",
                        "\n",
                        "Author: [Arnau Gómez](https://www.arnaugomez.com)\n",
                        "\n",
                        "Peer-graded Assignment: Build a Regression Model in Keras\n",
                        "\n",
                        "Exercise C: Increate the number of epochs (5 marks) "
                  ]
            },
            {
                  "cell_type": "markdown",
                  "metadata": {
                        "vscode": {
                              "languageId": "plaintext"
                        }
                  },
                  "source": [
                        "## Initial setup"
                  ]
            },
            {
                  "cell_type": "markdown",
                  "metadata": {},
                  "source": [
                        "Import dependencies"
                  ]
            },
            {
                  "cell_type": "code",
                  "execution_count": 1,
                  "metadata": {},
                  "outputs": [
                        {
                              "name": "stdout",
                              "output_type": "stream",
                              "text": [
                                    "Requirement already satisfied: pip in ./.venv/lib/python3.11/site-packages (24.3.1)\n",
                                    "Note: you may need to restart the kernel to use updated packages.\n",
                                    "Requirement already satisfied: pandas==2.2.3 in ./.venv/lib/python3.11/site-packages (2.2.3)\n",
                                    "Requirement already satisfied: keras==3.7.0 in ./.venv/lib/python3.11/site-packages (3.7.0)\n",
                                    "Requirement already satisfied: tensorflow==2.18.0 in ./.venv/lib/python3.11/site-packages (2.18.0)\n",
                                    "Requirement already satisfied: numpy==2.0.2 in ./.venv/lib/python3.11/site-packages (2.0.2)\n",
                                    "Requirement already satisfied: scikit-learn==1.6.0 in ./.venv/lib/python3.11/site-packages (1.6.0)\n",
                                    "Requirement already satisfied: python-dateutil>=2.8.2 in ./.venv/lib/python3.11/site-packages (from pandas==2.2.3) (2.9.0.post0)\n",
                                    "Requirement already satisfied: pytz>=2020.1 in ./.venv/lib/python3.11/site-packages (from pandas==2.2.3) (2024.2)\n",
                                    "Requirement already satisfied: tzdata>=2022.7 in ./.venv/lib/python3.11/site-packages (from pandas==2.2.3) (2024.2)\n",
                                    "Requirement already satisfied: absl-py in ./.venv/lib/python3.11/site-packages (from keras==3.7.0) (2.1.0)\n",
                                    "Requirement already satisfied: rich in ./.venv/lib/python3.11/site-packages (from keras==3.7.0) (13.9.4)\n",
                                    "Requirement already satisfied: namex in ./.venv/lib/python3.11/site-packages (from keras==3.7.0) (0.0.8)\n",
                                    "Requirement already satisfied: h5py in ./.venv/lib/python3.11/site-packages (from keras==3.7.0) (3.12.1)\n",
                                    "Requirement already satisfied: optree in ./.venv/lib/python3.11/site-packages (from keras==3.7.0) (0.13.1)\n",
                                    "Requirement already satisfied: ml-dtypes in ./.venv/lib/python3.11/site-packages (from keras==3.7.0) (0.4.1)\n",
                                    "Requirement already satisfied: packaging in ./.venv/lib/python3.11/site-packages (from keras==3.7.0) (24.2)\n",
                                    "Requirement already satisfied: astunparse>=1.6.0 in ./.venv/lib/python3.11/site-packages (from tensorflow==2.18.0) (1.6.3)\n",
                                    "Requirement already satisfied: flatbuffers>=24.3.25 in ./.venv/lib/python3.11/site-packages (from tensorflow==2.18.0) (24.3.25)\n",
                                    "Requirement already satisfied: gast!=0.5.0,!=0.5.1,!=0.5.2,>=0.2.1 in ./.venv/lib/python3.11/site-packages (from tensorflow==2.18.0) (0.6.0)\n",
                                    "Requirement already satisfied: google-pasta>=0.1.1 in ./.venv/lib/python3.11/site-packages (from tensorflow==2.18.0) (0.2.0)\n",
                                    "Requirement already satisfied: libclang>=13.0.0 in ./.venv/lib/python3.11/site-packages (from tensorflow==2.18.0) (18.1.1)\n",
                                    "Requirement already satisfied: opt-einsum>=2.3.2 in ./.venv/lib/python3.11/site-packages (from tensorflow==2.18.0) (3.4.0)\n",
                                    "Requirement already satisfied: protobuf!=4.21.0,!=4.21.1,!=4.21.2,!=4.21.3,!=4.21.4,!=4.21.5,<6.0.0dev,>=3.20.3 in ./.venv/lib/python3.11/site-packages (from tensorflow==2.18.0) (5.29.2)\n",
                                    "Requirement already satisfied: requests<3,>=2.21.0 in ./.venv/lib/python3.11/site-packages (from tensorflow==2.18.0) (2.32.3)\n",
                                    "Requirement already satisfied: setuptools in ./.venv/lib/python3.11/site-packages (from tensorflow==2.18.0) (65.5.0)\n",
                                    "Requirement already satisfied: six>=1.12.0 in ./.venv/lib/python3.11/site-packages (from tensorflow==2.18.0) (1.17.0)\n",
                                    "Requirement already satisfied: termcolor>=1.1.0 in ./.venv/lib/python3.11/site-packages (from tensorflow==2.18.0) (2.5.0)\n",
                                    "Requirement already satisfied: typing-extensions>=3.6.6 in ./.venv/lib/python3.11/site-packages (from tensorflow==2.18.0) (4.12.2)\n",
                                    "Requirement already satisfied: wrapt>=1.11.0 in ./.venv/lib/python3.11/site-packages (from tensorflow==2.18.0) (1.17.0)\n",
                                    "Requirement already satisfied: grpcio<2.0,>=1.24.3 in ./.venv/lib/python3.11/site-packages (from tensorflow==2.18.0) (1.68.1)\n",
                                    "Requirement already satisfied: tensorboard<2.19,>=2.18 in ./.venv/lib/python3.11/site-packages (from tensorflow==2.18.0) (2.18.0)\n",
                                    "Requirement already satisfied: tensorflow-io-gcs-filesystem>=0.23.1 in ./.venv/lib/python3.11/site-packages (from tensorflow==2.18.0) (0.37.1)\n",
                                    "Requirement already satisfied: scipy>=1.6.0 in ./.venv/lib/python3.11/site-packages (from scikit-learn==1.6.0) (1.14.1)\n",
                                    "Requirement already satisfied: joblib>=1.2.0 in ./.venv/lib/python3.11/site-packages (from scikit-learn==1.6.0) (1.4.2)\n",
                                    "Requirement already satisfied: threadpoolctl>=3.1.0 in ./.venv/lib/python3.11/site-packages (from scikit-learn==1.6.0) (3.5.0)\n",
                                    "Requirement already satisfied: wheel<1.0,>=0.23.0 in ./.venv/lib/python3.11/site-packages (from astunparse>=1.6.0->tensorflow==2.18.0) (0.45.1)\n",
                                    "Requirement already satisfied: charset-normalizer<4,>=2 in ./.venv/lib/python3.11/site-packages (from requests<3,>=2.21.0->tensorflow==2.18.0) (3.4.0)\n",
                                    "Requirement already satisfied: idna<4,>=2.5 in ./.venv/lib/python3.11/site-packages (from requests<3,>=2.21.0->tensorflow==2.18.0) (3.10)\n",
                                    "Requirement already satisfied: urllib3<3,>=1.21.1 in ./.venv/lib/python3.11/site-packages (from requests<3,>=2.21.0->tensorflow==2.18.0) (2.2.3)\n",
                                    "Requirement already satisfied: certifi>=2017.4.17 in ./.venv/lib/python3.11/site-packages (from requests<3,>=2.21.0->tensorflow==2.18.0) (2024.12.14)\n",
                                    "Requirement already satisfied: markdown>=2.6.8 in ./.venv/lib/python3.11/site-packages (from tensorboard<2.19,>=2.18->tensorflow==2.18.0) (3.7)\n",
                                    "Requirement already satisfied: tensorboard-data-server<0.8.0,>=0.7.0 in ./.venv/lib/python3.11/site-packages (from tensorboard<2.19,>=2.18->tensorflow==2.18.0) (0.7.2)\n",
                                    "Requirement already satisfied: werkzeug>=1.0.1 in ./.venv/lib/python3.11/site-packages (from tensorboard<2.19,>=2.18->tensorflow==2.18.0) (3.1.3)\n",
                                    "Requirement already satisfied: markdown-it-py>=2.2.0 in ./.venv/lib/python3.11/site-packages (from rich->keras==3.7.0) (3.0.0)\n",
                                    "Requirement already satisfied: pygments<3.0.0,>=2.13.0 in ./.venv/lib/python3.11/site-packages (from rich->keras==3.7.0) (2.18.0)\n",
                                    "Requirement already satisfied: mdurl~=0.1 in ./.venv/lib/python3.11/site-packages (from markdown-it-py>=2.2.0->rich->keras==3.7.0) (0.1.2)\n",
                                    "Requirement already satisfied: MarkupSafe>=2.1.1 in ./.venv/lib/python3.11/site-packages (from werkzeug>=1.0.1->tensorboard<2.19,>=2.18->tensorflow==2.18.0) (3.0.2)\n",
                                    "Note: you may need to restart the kernel to use updated packages.\n"
                              ]
                        }
                  ],
                  "source": [
                        "# Python version: 3.11.9\n",
                        "%pip install --upgrade pip\n",
                        "%pip install pandas==2.2.3 keras==3.7.0 tensorflow==2.18.0 numpy==2.0.2 scikit-learn==1.6.0"
                  ]
            },
            {
                  "cell_type": "markdown",
                  "metadata": {},
                  "source": [
                        "Import dependencies"
                  ]
            },
            {
                  "cell_type": "code",
                  "execution_count": 2,
                  "metadata": {},
                  "outputs": [],
                  "source": [
                        "import pandas as pd\n",
                        "import numpy as np\n",
                        "import keras\n",
                        "\n",
                        "import warnings\n",
                        "warnings.simplefilter('ignore', FutureWarning)"
                  ]
            },
            {
                  "cell_type": "markdown",
                  "metadata": {},
                  "source": [
                        "Import data"
                  ]
            },
            {
                  "cell_type": "code",
                  "execution_count": 3,
                  "metadata": {},
                  "outputs": [
                        {
                              "data": {
                                    "text/html": [
                                          "<div>\n",
                                          "<style scoped>\n",
                                          "    .dataframe tbody tr th:only-of-type {\n",
                                          "        vertical-align: middle;\n",
                                          "    }\n",
                                          "\n",
                                          "    .dataframe tbody tr th {\n",
                                          "        vertical-align: top;\n",
                                          "    }\n",
                                          "\n",
                                          "    .dataframe thead th {\n",
                                          "        text-align: right;\n",
                                          "    }\n",
                                          "</style>\n",
                                          "<table border=\"1\" class=\"dataframe\">\n",
                                          "  <thead>\n",
                                          "    <tr style=\"text-align: right;\">\n",
                                          "      <th></th>\n",
                                          "      <th>Cement</th>\n",
                                          "      <th>Blast Furnace Slag</th>\n",
                                          "      <th>Fly Ash</th>\n",
                                          "      <th>Water</th>\n",
                                          "      <th>Superplasticizer</th>\n",
                                          "      <th>Coarse Aggregate</th>\n",
                                          "      <th>Fine Aggregate</th>\n",
                                          "      <th>Age</th>\n",
                                          "      <th>Strength</th>\n",
                                          "    </tr>\n",
                                          "  </thead>\n",
                                          "  <tbody>\n",
                                          "    <tr>\n",
                                          "      <th>0</th>\n",
                                          "      <td>540.0</td>\n",
                                          "      <td>0.0</td>\n",
                                          "      <td>0.0</td>\n",
                                          "      <td>162.0</td>\n",
                                          "      <td>2.5</td>\n",
                                          "      <td>1040.0</td>\n",
                                          "      <td>676.0</td>\n",
                                          "      <td>28</td>\n",
                                          "      <td>79.99</td>\n",
                                          "    </tr>\n",
                                          "    <tr>\n",
                                          "      <th>1</th>\n",
                                          "      <td>540.0</td>\n",
                                          "      <td>0.0</td>\n",
                                          "      <td>0.0</td>\n",
                                          "      <td>162.0</td>\n",
                                          "      <td>2.5</td>\n",
                                          "      <td>1055.0</td>\n",
                                          "      <td>676.0</td>\n",
                                          "      <td>28</td>\n",
                                          "      <td>61.89</td>\n",
                                          "    </tr>\n",
                                          "    <tr>\n",
                                          "      <th>2</th>\n",
                                          "      <td>332.5</td>\n",
                                          "      <td>142.5</td>\n",
                                          "      <td>0.0</td>\n",
                                          "      <td>228.0</td>\n",
                                          "      <td>0.0</td>\n",
                                          "      <td>932.0</td>\n",
                                          "      <td>594.0</td>\n",
                                          "      <td>270</td>\n",
                                          "      <td>40.27</td>\n",
                                          "    </tr>\n",
                                          "    <tr>\n",
                                          "      <th>3</th>\n",
                                          "      <td>332.5</td>\n",
                                          "      <td>142.5</td>\n",
                                          "      <td>0.0</td>\n",
                                          "      <td>228.0</td>\n",
                                          "      <td>0.0</td>\n",
                                          "      <td>932.0</td>\n",
                                          "      <td>594.0</td>\n",
                                          "      <td>365</td>\n",
                                          "      <td>41.05</td>\n",
                                          "    </tr>\n",
                                          "    <tr>\n",
                                          "      <th>4</th>\n",
                                          "      <td>198.6</td>\n",
                                          "      <td>132.4</td>\n",
                                          "      <td>0.0</td>\n",
                                          "      <td>192.0</td>\n",
                                          "      <td>0.0</td>\n",
                                          "      <td>978.4</td>\n",
                                          "      <td>825.5</td>\n",
                                          "      <td>360</td>\n",
                                          "      <td>44.30</td>\n",
                                          "    </tr>\n",
                                          "  </tbody>\n",
                                          "</table>\n",
                                          "</div>"
                                    ],
                                    "text/plain": [
                                          "   Cement  Blast Furnace Slag  Fly Ash  Water  Superplasticizer  \\\n",
                                          "0   540.0                 0.0      0.0  162.0               2.5   \n",
                                          "1   540.0                 0.0      0.0  162.0               2.5   \n",
                                          "2   332.5               142.5      0.0  228.0               0.0   \n",
                                          "3   332.5               142.5      0.0  228.0               0.0   \n",
                                          "4   198.6               132.4      0.0  192.0               0.0   \n",
                                          "\n",
                                          "   Coarse Aggregate  Fine Aggregate  Age  Strength  \n",
                                          "0            1040.0           676.0   28     79.99  \n",
                                          "1            1055.0           676.0   28     61.89  \n",
                                          "2             932.0           594.0  270     40.27  \n",
                                          "3             932.0           594.0  365     41.05  \n",
                                          "4             978.4           825.5  360     44.30  "
                                    ]
                              },
                              "execution_count": 3,
                              "metadata": {},
                              "output_type": "execute_result"
                        }
                  ],
                  "source": [
                        "filepath='https://cocl.us/concrete_data'\n",
                        "concrete_data = pd.read_csv(filepath)\n",
                        "\n",
                        "\n",
                        "concrete_data.head()"
                  ]
            },
            {
                  "cell_type": "markdown",
                  "metadata": {},
                  "source": [
                        "Split data into predictors and target"
                  ]
            },
            {
                  "cell_type": "code",
                  "execution_count": 4,
                  "metadata": {},
                  "outputs": [
                        {
                              "data": {
                                    "text/html": [
                                          "<div>\n",
                                          "<style scoped>\n",
                                          "    .dataframe tbody tr th:only-of-type {\n",
                                          "        vertical-align: middle;\n",
                                          "    }\n",
                                          "\n",
                                          "    .dataframe tbody tr th {\n",
                                          "        vertical-align: top;\n",
                                          "    }\n",
                                          "\n",
                                          "    .dataframe thead th {\n",
                                          "        text-align: right;\n",
                                          "    }\n",
                                          "</style>\n",
                                          "<table border=\"1\" class=\"dataframe\">\n",
                                          "  <thead>\n",
                                          "    <tr style=\"text-align: right;\">\n",
                                          "      <th></th>\n",
                                          "      <th>Cement</th>\n",
                                          "      <th>Blast Furnace Slag</th>\n",
                                          "      <th>Fly Ash</th>\n",
                                          "      <th>Water</th>\n",
                                          "      <th>Superplasticizer</th>\n",
                                          "      <th>Coarse Aggregate</th>\n",
                                          "      <th>Fine Aggregate</th>\n",
                                          "      <th>Age</th>\n",
                                          "    </tr>\n",
                                          "  </thead>\n",
                                          "  <tbody>\n",
                                          "    <tr>\n",
                                          "      <th>0</th>\n",
                                          "      <td>540.0</td>\n",
                                          "      <td>0.0</td>\n",
                                          "      <td>0.0</td>\n",
                                          "      <td>162.0</td>\n",
                                          "      <td>2.5</td>\n",
                                          "      <td>1040.0</td>\n",
                                          "      <td>676.0</td>\n",
                                          "      <td>28</td>\n",
                                          "    </tr>\n",
                                          "    <tr>\n",
                                          "      <th>1</th>\n",
                                          "      <td>540.0</td>\n",
                                          "      <td>0.0</td>\n",
                                          "      <td>0.0</td>\n",
                                          "      <td>162.0</td>\n",
                                          "      <td>2.5</td>\n",
                                          "      <td>1055.0</td>\n",
                                          "      <td>676.0</td>\n",
                                          "      <td>28</td>\n",
                                          "    </tr>\n",
                                          "    <tr>\n",
                                          "      <th>2</th>\n",
                                          "      <td>332.5</td>\n",
                                          "      <td>142.5</td>\n",
                                          "      <td>0.0</td>\n",
                                          "      <td>228.0</td>\n",
                                          "      <td>0.0</td>\n",
                                          "      <td>932.0</td>\n",
                                          "      <td>594.0</td>\n",
                                          "      <td>270</td>\n",
                                          "    </tr>\n",
                                          "    <tr>\n",
                                          "      <th>3</th>\n",
                                          "      <td>332.5</td>\n",
                                          "      <td>142.5</td>\n",
                                          "      <td>0.0</td>\n",
                                          "      <td>228.0</td>\n",
                                          "      <td>0.0</td>\n",
                                          "      <td>932.0</td>\n",
                                          "      <td>594.0</td>\n",
                                          "      <td>365</td>\n",
                                          "    </tr>\n",
                                          "    <tr>\n",
                                          "      <th>4</th>\n",
                                          "      <td>198.6</td>\n",
                                          "      <td>132.4</td>\n",
                                          "      <td>0.0</td>\n",
                                          "      <td>192.0</td>\n",
                                          "      <td>0.0</td>\n",
                                          "      <td>978.4</td>\n",
                                          "      <td>825.5</td>\n",
                                          "      <td>360</td>\n",
                                          "    </tr>\n",
                                          "  </tbody>\n",
                                          "</table>\n",
                                          "</div>"
                                    ],
                                    "text/plain": [
                                          "   Cement  Blast Furnace Slag  Fly Ash  Water  Superplasticizer  \\\n",
                                          "0   540.0                 0.0      0.0  162.0               2.5   \n",
                                          "1   540.0                 0.0      0.0  162.0               2.5   \n",
                                          "2   332.5               142.5      0.0  228.0               0.0   \n",
                                          "3   332.5               142.5      0.0  228.0               0.0   \n",
                                          "4   198.6               132.4      0.0  192.0               0.0   \n",
                                          "\n",
                                          "   Coarse Aggregate  Fine Aggregate  Age  \n",
                                          "0            1040.0           676.0   28  \n",
                                          "1            1055.0           676.0   28  \n",
                                          "2             932.0           594.0  270  \n",
                                          "3             932.0           594.0  365  \n",
                                          "4             978.4           825.5  360  "
                                    ]
                              },
                              "execution_count": 4,
                              "metadata": {},
                              "output_type": "execute_result"
                        }
                  ],
                  "source": [
                        "predictors = concrete_data.drop(columns=['Strength'])\n",
                        "predictors.head()"
                  ]
            },
            {
                  "cell_type": "code",
                  "execution_count": 5,
                  "metadata": {},
                  "outputs": [
                        {
                              "data": {
                                    "text/plain": [
                                          "0    79.99\n",
                                          "1    61.89\n",
                                          "2    40.27\n",
                                          "3    41.05\n",
                                          "4    44.30\n",
                                          "Name: Strength, dtype: float64"
                                    ]
                              },
                              "execution_count": 5,
                              "metadata": {},
                              "output_type": "execute_result"
                        }
                  ],
                  "source": [
                        "target = concrete_data['Strength']\n",
                        "target.head()"
                  ]
            },
            {
                  "cell_type": "markdown",
                  "metadata": {},
                  "source": [
                        "Normalize the data by substracting the mean and dividing by the standard deviation."
                  ]
            },
            {
                  "cell_type": "code",
                  "execution_count": 6,
                  "metadata": {},
                  "outputs": [
                        {
                              "data": {
                                    "text/html": [
                                          "<div>\n",
                                          "<style scoped>\n",
                                          "    .dataframe tbody tr th:only-of-type {\n",
                                          "        vertical-align: middle;\n",
                                          "    }\n",
                                          "\n",
                                          "    .dataframe tbody tr th {\n",
                                          "        vertical-align: top;\n",
                                          "    }\n",
                                          "\n",
                                          "    .dataframe thead th {\n",
                                          "        text-align: right;\n",
                                          "    }\n",
                                          "</style>\n",
                                          "<table border=\"1\" class=\"dataframe\">\n",
                                          "  <thead>\n",
                                          "    <tr style=\"text-align: right;\">\n",
                                          "      <th></th>\n",
                                          "      <th>Cement</th>\n",
                                          "      <th>Blast Furnace Slag</th>\n",
                                          "      <th>Fly Ash</th>\n",
                                          "      <th>Water</th>\n",
                                          "      <th>Superplasticizer</th>\n",
                                          "      <th>Coarse Aggregate</th>\n",
                                          "      <th>Fine Aggregate</th>\n",
                                          "      <th>Age</th>\n",
                                          "    </tr>\n",
                                          "  </thead>\n",
                                          "  <tbody>\n",
                                          "    <tr>\n",
                                          "      <th>0</th>\n",
                                          "      <td>2.476712</td>\n",
                                          "      <td>-0.856472</td>\n",
                                          "      <td>-0.846733</td>\n",
                                          "      <td>-0.916319</td>\n",
                                          "      <td>-0.620147</td>\n",
                                          "      <td>0.862735</td>\n",
                                          "      <td>-1.217079</td>\n",
                                          "      <td>-0.279597</td>\n",
                                          "    </tr>\n",
                                          "    <tr>\n",
                                          "      <th>1</th>\n",
                                          "      <td>2.476712</td>\n",
                                          "      <td>-0.856472</td>\n",
                                          "      <td>-0.846733</td>\n",
                                          "      <td>-0.916319</td>\n",
                                          "      <td>-0.620147</td>\n",
                                          "      <td>1.055651</td>\n",
                                          "      <td>-1.217079</td>\n",
                                          "      <td>-0.279597</td>\n",
                                          "    </tr>\n",
                                          "    <tr>\n",
                                          "      <th>2</th>\n",
                                          "      <td>0.491187</td>\n",
                                          "      <td>0.795140</td>\n",
                                          "      <td>-0.846733</td>\n",
                                          "      <td>2.174405</td>\n",
                                          "      <td>-1.038638</td>\n",
                                          "      <td>-0.526262</td>\n",
                                          "      <td>-2.239829</td>\n",
                                          "      <td>3.551340</td>\n",
                                          "    </tr>\n",
                                          "    <tr>\n",
                                          "      <th>3</th>\n",
                                          "      <td>0.491187</td>\n",
                                          "      <td>0.795140</td>\n",
                                          "      <td>-0.846733</td>\n",
                                          "      <td>2.174405</td>\n",
                                          "      <td>-1.038638</td>\n",
                                          "      <td>-0.526262</td>\n",
                                          "      <td>-2.239829</td>\n",
                                          "      <td>5.055221</td>\n",
                                          "    </tr>\n",
                                          "    <tr>\n",
                                          "      <th>4</th>\n",
                                          "      <td>-0.790075</td>\n",
                                          "      <td>0.678079</td>\n",
                                          "      <td>-0.846733</td>\n",
                                          "      <td>0.488555</td>\n",
                                          "      <td>-1.038638</td>\n",
                                          "      <td>0.070492</td>\n",
                                          "      <td>0.647569</td>\n",
                                          "      <td>4.976069</td>\n",
                                          "    </tr>\n",
                                          "  </tbody>\n",
                                          "</table>\n",
                                          "</div>"
                                    ],
                                    "text/plain": [
                                          "     Cement  Blast Furnace Slag   Fly Ash     Water  Superplasticizer  \\\n",
                                          "0  2.476712           -0.856472 -0.846733 -0.916319         -0.620147   \n",
                                          "1  2.476712           -0.856472 -0.846733 -0.916319         -0.620147   \n",
                                          "2  0.491187            0.795140 -0.846733  2.174405         -1.038638   \n",
                                          "3  0.491187            0.795140 -0.846733  2.174405         -1.038638   \n",
                                          "4 -0.790075            0.678079 -0.846733  0.488555         -1.038638   \n",
                                          "\n",
                                          "   Coarse Aggregate  Fine Aggregate       Age  \n",
                                          "0          0.862735       -1.217079 -0.279597  \n",
                                          "1          1.055651       -1.217079 -0.279597  \n",
                                          "2         -0.526262       -2.239829  3.551340  \n",
                                          "3         -0.526262       -2.239829  5.055221  \n",
                                          "4          0.070492        0.647569  4.976069  "
                                    ]
                              },
                              "execution_count": 6,
                              "metadata": {},
                              "output_type": "execute_result"
                        }
                  ],
                  "source": [
                        "predictors_norm = (predictors - predictors.mean()) / predictors.std()\n",
                        "predictors_norm.head()"
                  ]
            },
            {
                  "cell_type": "markdown",
                  "metadata": {},
                  "source": [
                        "Compute number of input features"
                  ]
            },
            {
                  "cell_type": "code",
                  "execution_count": 7,
                  "metadata": {},
                  "outputs": [],
                  "source": [
                        "n_predictors = predictors.shape[1]"
                  ]
            },
            {
                  "cell_type": "markdown",
                  "metadata": {},
                  "source": [
                        "## Build the keras model"
                  ]
            },
            {
                  "cell_type": "code",
                  "execution_count": 8,
                  "metadata": {},
                  "outputs": [
                        {
                              "data": {
                                    "text/html": [
                                          "<pre style=\"white-space:pre;overflow-x:auto;line-height:normal;font-family:Menlo,'DejaVu Sans Mono',consolas,'Courier New',monospace\"><span style=\"font-weight: bold\">Model: \"sequential\"</span>\n",
                                          "</pre>\n"
                                    ],
                                    "text/plain": [
                                          "\u001b[1mModel: \"sequential\"\u001b[0m\n"
                                    ]
                              },
                              "metadata": {},
                              "output_type": "display_data"
                        },
                        {
                              "data": {
                                    "text/html": [
                                          "<pre style=\"white-space:pre;overflow-x:auto;line-height:normal;font-family:Menlo,'DejaVu Sans Mono',consolas,'Courier New',monospace\">┏━━━━━━━━━━━━━━━━━━━━━━━━━━━━━━━━━┳━━━━━━━━━━━━━━━━━━━━━━━━┳━━━━━━━━━━━━━━━┓\n",
                                          "┃<span style=\"font-weight: bold\"> Layer (type)                    </span>┃<span style=\"font-weight: bold\"> Output Shape           </span>┃<span style=\"font-weight: bold\">       Param # </span>┃\n",
                                          "┡━━━━━━━━━━━━━━━━━━━━━━━━━━━━━━━━━╇━━━━━━━━━━━━━━━━━━━━━━━━╇━━━━━━━━━━━━━━━┩\n",
                                          "│ dense (<span style=\"color: #0087ff; text-decoration-color: #0087ff\">Dense</span>)                   │ (<span style=\"color: #00d7ff; text-decoration-color: #00d7ff\">None</span>, <span style=\"color: #00af00; text-decoration-color: #00af00\">10</span>)             │            <span style=\"color: #00af00; text-decoration-color: #00af00\">90</span> │\n",
                                          "├─────────────────────────────────┼────────────────────────┼───────────────┤\n",
                                          "│ dense_1 (<span style=\"color: #0087ff; text-decoration-color: #0087ff\">Dense</span>)                 │ (<span style=\"color: #00d7ff; text-decoration-color: #00d7ff\">None</span>, <span style=\"color: #00af00; text-decoration-color: #00af00\">1</span>)              │            <span style=\"color: #00af00; text-decoration-color: #00af00\">11</span> │\n",
                                          "└─────────────────────────────────┴────────────────────────┴───────────────┘\n",
                                          "</pre>\n"
                                    ],
                                    "text/plain": [
                                          "┏━━━━━━━━━━━━━━━━━━━━━━━━━━━━━━━━━┳━━━━━━━━━━━━━━━━━━━━━━━━┳━━━━━━━━━━━━━━━┓\n",
                                          "┃\u001b[1m \u001b[0m\u001b[1mLayer (type)                   \u001b[0m\u001b[1m \u001b[0m┃\u001b[1m \u001b[0m\u001b[1mOutput Shape          \u001b[0m\u001b[1m \u001b[0m┃\u001b[1m \u001b[0m\u001b[1m      Param #\u001b[0m\u001b[1m \u001b[0m┃\n",
                                          "┡━━━━━━━━━━━━━━━━━━━━━━━━━━━━━━━━━╇━━━━━━━━━━━━━━━━━━━━━━━━╇━━━━━━━━━━━━━━━┩\n",
                                          "│ dense (\u001b[38;5;33mDense\u001b[0m)                   │ (\u001b[38;5;45mNone\u001b[0m, \u001b[38;5;34m10\u001b[0m)             │            \u001b[38;5;34m90\u001b[0m │\n",
                                          "├─────────────────────────────────┼────────────────────────┼───────────────┤\n",
                                          "│ dense_1 (\u001b[38;5;33mDense\u001b[0m)                 │ (\u001b[38;5;45mNone\u001b[0m, \u001b[38;5;34m1\u001b[0m)              │            \u001b[38;5;34m11\u001b[0m │\n",
                                          "└─────────────────────────────────┴────────────────────────┴───────────────┘\n"
                                    ]
                              },
                              "metadata": {},
                              "output_type": "display_data"
                        },
                        {
                              "data": {
                                    "text/html": [
                                          "<pre style=\"white-space:pre;overflow-x:auto;line-height:normal;font-family:Menlo,'DejaVu Sans Mono',consolas,'Courier New',monospace\"><span style=\"font-weight: bold\"> Total params: </span><span style=\"color: #00af00; text-decoration-color: #00af00\">101</span> (404.00 B)\n",
                                          "</pre>\n"
                                    ],
                                    "text/plain": [
                                          "\u001b[1m Total params: \u001b[0m\u001b[38;5;34m101\u001b[0m (404.00 B)\n"
                                    ]
                              },
                              "metadata": {},
                              "output_type": "display_data"
                        },
                        {
                              "data": {
                                    "text/html": [
                                          "<pre style=\"white-space:pre;overflow-x:auto;line-height:normal;font-family:Menlo,'DejaVu Sans Mono',consolas,'Courier New',monospace\"><span style=\"font-weight: bold\"> Trainable params: </span><span style=\"color: #00af00; text-decoration-color: #00af00\">101</span> (404.00 B)\n",
                                          "</pre>\n"
                                    ],
                                    "text/plain": [
                                          "\u001b[1m Trainable params: \u001b[0m\u001b[38;5;34m101\u001b[0m (404.00 B)\n"
                                    ]
                              },
                              "metadata": {},
                              "output_type": "display_data"
                        },
                        {
                              "data": {
                                    "text/html": [
                                          "<pre style=\"white-space:pre;overflow-x:auto;line-height:normal;font-family:Menlo,'DejaVu Sans Mono',consolas,'Courier New',monospace\"><span style=\"font-weight: bold\"> Non-trainable params: </span><span style=\"color: #00af00; text-decoration-color: #00af00\">0</span> (0.00 B)\n",
                                          "</pre>\n"
                                    ],
                                    "text/plain": [
                                          "\u001b[1m Non-trainable params: \u001b[0m\u001b[38;5;34m0\u001b[0m (0.00 B)\n"
                                    ]
                              },
                              "metadata": {},
                              "output_type": "display_data"
                        }
                  ],
                  "source": [
                        "from keras.models import Sequential\n",
                        "from keras.layers import Dense, Input\n",
                        "\n",
                        "# define regression model\n",
                        "def regression_model():\n",
                        "    # create model\n",
                        "    model = Sequential()\n",
                        "    model.add(Input(shape=(n_predictors,)))\n",
                        "    model.add(Dense(10, activation='relu'))\n",
                        "    model.add(Dense(1))\n",
                        "    \n",
                        "    # compile model\n",
                        "    model.compile(optimizer='adam', loss='mean_squared_error')\n",
                        "    return model\n",
                        "\n",
                        "# build the model\n",
                        "model = regression_model()\n",
                        "\n",
                        "# display model summary\n",
                        "model.summary()\n"
                  ]
            },
            {
                  "cell_type": "markdown",
                  "metadata": {},
                  "source": [
                        "## Train and test the model"
                  ]
            },
            {
                  "cell_type": "markdown",
                  "metadata": {},
                  "source": [
                        "Train and test it once:"
                  ]
            },
            {
                  "cell_type": "code",
                  "execution_count": 9,
                  "metadata": {},
                  "outputs": [
                        {
                              "name": "stdout",
                              "output_type": "stream",
                              "text": [
                                    "Epoch 1/100\n",
                                    "23/23 - 0s - 13ms/step - loss: 1705.5961 - val_loss: 1248.2408\n",
                                    "Epoch 2/100\n",
                                    "23/23 - 0s - 2ms/step - loss: 1689.5896 - val_loss: 1237.0475\n",
                                    "Epoch 3/100\n",
                                    "23/23 - 0s - 1ms/step - loss: 1673.6882 - val_loss: 1225.8470\n",
                                    "Epoch 4/100\n",
                                    "23/23 - 0s - 1ms/step - loss: 1656.9634 - val_loss: 1214.5431\n",
                                    "Epoch 5/100\n",
                                    "23/23 - 0s - 1ms/step - loss: 1639.6401 - val_loss: 1202.9633\n",
                                    "Epoch 6/100\n",
                                    "23/23 - 0s - 1ms/step - loss: 1621.1881 - val_loss: 1190.8662\n",
                                    "Epoch 7/100\n",
                                    "23/23 - 0s - 1ms/step - loss: 1601.4955 - val_loss: 1178.4128\n",
                                    "Epoch 8/100\n",
                                    "23/23 - 0s - 1ms/step - loss: 1580.3988 - val_loss: 1165.5964\n",
                                    "Epoch 9/100\n",
                                    "23/23 - 0s - 1ms/step - loss: 1558.0848 - val_loss: 1151.9738\n",
                                    "Epoch 10/100\n",
                                    "23/23 - 0s - 1ms/step - loss: 1533.9250 - val_loss: 1137.9211\n",
                                    "Epoch 11/100\n",
                                    "23/23 - 0s - 1ms/step - loss: 1508.2274 - val_loss: 1123.2195\n",
                                    "Epoch 12/100\n",
                                    "23/23 - 0s - 1ms/step - loss: 1481.0731 - val_loss: 1107.8225\n",
                                    "Epoch 13/100\n",
                                    "23/23 - 0s - 1ms/step - loss: 1452.1056 - val_loss: 1092.0026\n",
                                    "Epoch 14/100\n",
                                    "23/23 - 0s - 1ms/step - loss: 1421.4170 - val_loss: 1075.5184\n",
                                    "Epoch 15/100\n",
                                    "23/23 - 0s - 1ms/step - loss: 1389.6055 - val_loss: 1058.2502\n",
                                    "Epoch 16/100\n",
                                    "23/23 - 0s - 1ms/step - loss: 1356.2181 - val_loss: 1040.8098\n",
                                    "Epoch 17/100\n",
                                    "23/23 - 0s - 1ms/step - loss: 1321.4834 - val_loss: 1022.6746\n",
                                    "Epoch 18/100\n",
                                    "23/23 - 0s - 1ms/step - loss: 1286.2050 - val_loss: 1004.2224\n",
                                    "Epoch 19/100\n",
                                    "23/23 - 0s - 1ms/step - loss: 1249.6125 - val_loss: 985.1893\n",
                                    "Epoch 20/100\n",
                                    "23/23 - 0s - 1ms/step - loss: 1212.2546 - val_loss: 965.4432\n",
                                    "Epoch 21/100\n",
                                    "23/23 - 0s - 2ms/step - loss: 1174.2455 - val_loss: 945.6167\n",
                                    "Epoch 22/100\n",
                                    "23/23 - 0s - 1ms/step - loss: 1135.6826 - val_loss: 925.0529\n",
                                    "Epoch 23/100\n",
                                    "23/23 - 0s - 1ms/step - loss: 1096.3754 - val_loss: 904.0474\n",
                                    "Epoch 24/100\n",
                                    "23/23 - 0s - 1ms/step - loss: 1057.2377 - val_loss: 882.1680\n",
                                    "Epoch 25/100\n",
                                    "23/23 - 0s - 1ms/step - loss: 1017.5750 - val_loss: 859.6663\n",
                                    "Epoch 26/100\n",
                                    "23/23 - 0s - 1ms/step - loss: 977.7488 - val_loss: 836.8981\n",
                                    "Epoch 27/100\n",
                                    "23/23 - 0s - 2ms/step - loss: 937.8987 - val_loss: 814.1221\n",
                                    "Epoch 28/100\n",
                                    "23/23 - 0s - 2ms/step - loss: 898.6154 - val_loss: 790.9609\n",
                                    "Epoch 29/100\n",
                                    "23/23 - 0s - 1ms/step - loss: 859.5276 - val_loss: 766.8594\n",
                                    "Epoch 30/100\n",
                                    "23/23 - 0s - 2ms/step - loss: 821.0829 - val_loss: 743.1546\n",
                                    "Epoch 31/100\n",
                                    "23/23 - 0s - 1ms/step - loss: 783.8276 - val_loss: 719.3482\n",
                                    "Epoch 32/100\n",
                                    "23/23 - 0s - 1ms/step - loss: 747.3142 - val_loss: 695.7415\n",
                                    "Epoch 33/100\n",
                                    "23/23 - 0s - 1ms/step - loss: 712.0414 - val_loss: 672.6530\n",
                                    "Epoch 34/100\n",
                                    "23/23 - 0s - 1ms/step - loss: 678.0815 - val_loss: 650.1559\n",
                                    "Epoch 35/100\n",
                                    "23/23 - 0s - 1ms/step - loss: 645.6530 - val_loss: 627.3636\n",
                                    "Epoch 36/100\n",
                                    "23/23 - 0s - 1ms/step - loss: 614.4748 - val_loss: 605.7817\n",
                                    "Epoch 37/100\n",
                                    "23/23 - 0s - 1ms/step - loss: 585.1505 - val_loss: 584.4978\n",
                                    "Epoch 38/100\n",
                                    "23/23 - 0s - 2ms/step - loss: 556.9189 - val_loss: 564.1099\n",
                                    "Epoch 39/100\n",
                                    "23/23 - 0s - 2ms/step - loss: 530.6071 - val_loss: 543.8870\n",
                                    "Epoch 40/100\n",
                                    "23/23 - 0s - 2ms/step - loss: 505.7129 - val_loss: 524.8953\n",
                                    "Epoch 41/100\n",
                                    "23/23 - 0s - 2ms/step - loss: 482.2297 - val_loss: 505.6917\n",
                                    "Epoch 42/100\n",
                                    "23/23 - 0s - 2ms/step - loss: 460.1232 - val_loss: 487.6918\n",
                                    "Epoch 43/100\n",
                                    "23/23 - 0s - 1ms/step - loss: 439.8849 - val_loss: 470.9160\n",
                                    "Epoch 44/100\n",
                                    "23/23 - 0s - 1ms/step - loss: 420.9048 - val_loss: 454.5892\n",
                                    "Epoch 45/100\n",
                                    "23/23 - 0s - 1ms/step - loss: 403.2255 - val_loss: 438.5747\n",
                                    "Epoch 46/100\n",
                                    "23/23 - 0s - 1ms/step - loss: 386.7100 - val_loss: 423.8643\n",
                                    "Epoch 47/100\n",
                                    "23/23 - 0s - 2ms/step - loss: 371.7479 - val_loss: 409.8725\n",
                                    "Epoch 48/100\n",
                                    "23/23 - 0s - 1ms/step - loss: 358.1197 - val_loss: 396.1142\n",
                                    "Epoch 49/100\n",
                                    "23/23 - 0s - 1ms/step - loss: 345.1984 - val_loss: 383.3224\n",
                                    "Epoch 50/100\n",
                                    "23/23 - 0s - 1ms/step - loss: 333.3384 - val_loss: 371.6611\n",
                                    "Epoch 51/100\n",
                                    "23/23 - 0s - 1ms/step - loss: 322.9848 - val_loss: 360.3493\n",
                                    "Epoch 52/100\n",
                                    "23/23 - 0s - 1ms/step - loss: 312.9798 - val_loss: 349.8969\n",
                                    "Epoch 53/100\n",
                                    "23/23 - 0s - 1ms/step - loss: 303.9106 - val_loss: 340.0098\n",
                                    "Epoch 54/100\n",
                                    "23/23 - 0s - 1ms/step - loss: 295.8996 - val_loss: 330.1813\n",
                                    "Epoch 55/100\n",
                                    "23/23 - 0s - 1ms/step - loss: 288.2737 - val_loss: 322.4124\n",
                                    "Epoch 56/100\n",
                                    "23/23 - 0s - 2ms/step - loss: 281.3782 - val_loss: 313.9825\n",
                                    "Epoch 57/100\n",
                                    "23/23 - 0s - 1ms/step - loss: 275.1581 - val_loss: 306.7104\n",
                                    "Epoch 58/100\n",
                                    "23/23 - 0s - 1ms/step - loss: 269.4003 - val_loss: 299.9629\n",
                                    "Epoch 59/100\n",
                                    "23/23 - 0s - 1ms/step - loss: 264.2951 - val_loss: 292.8665\n",
                                    "Epoch 60/100\n",
                                    "23/23 - 0s - 1ms/step - loss: 259.3316 - val_loss: 286.8419\n",
                                    "Epoch 61/100\n",
                                    "23/23 - 0s - 1ms/step - loss: 254.8053 - val_loss: 281.4397\n",
                                    "Epoch 62/100\n",
                                    "23/23 - 0s - 1ms/step - loss: 250.8238 - val_loss: 275.8645\n",
                                    "Epoch 63/100\n",
                                    "23/23 - 0s - 1ms/step - loss: 247.0118 - val_loss: 271.5637\n",
                                    "Epoch 64/100\n",
                                    "23/23 - 0s - 1ms/step - loss: 243.6120 - val_loss: 266.8828\n",
                                    "Epoch 65/100\n",
                                    "23/23 - 0s - 1ms/step - loss: 240.2997 - val_loss: 262.4810\n",
                                    "Epoch 66/100\n",
                                    "23/23 - 0s - 1ms/step - loss: 237.2425 - val_loss: 259.0806\n",
                                    "Epoch 67/100\n",
                                    "23/23 - 0s - 1ms/step - loss: 234.3951 - val_loss: 255.4388\n",
                                    "Epoch 68/100\n",
                                    "23/23 - 0s - 3ms/step - loss: 231.6925 - val_loss: 251.8358\n",
                                    "Epoch 69/100\n",
                                    "23/23 - 0s - 1ms/step - loss: 229.1404 - val_loss: 248.5529\n",
                                    "Epoch 70/100\n",
                                    "23/23 - 0s - 1ms/step - loss: 226.7610 - val_loss: 245.2927\n",
                                    "Epoch 71/100\n",
                                    "23/23 - 0s - 1ms/step - loss: 224.4852 - val_loss: 242.6822\n",
                                    "Epoch 72/100\n",
                                    "23/23 - 0s - 1ms/step - loss: 222.2785 - val_loss: 240.1866\n",
                                    "Epoch 73/100\n",
                                    "23/23 - 0s - 1ms/step - loss: 220.1481 - val_loss: 237.6784\n",
                                    "Epoch 74/100\n",
                                    "23/23 - 0s - 1ms/step - loss: 218.2392 - val_loss: 235.2745\n",
                                    "Epoch 75/100\n",
                                    "23/23 - 0s - 1ms/step - loss: 216.3085 - val_loss: 232.9302\n",
                                    "Epoch 76/100\n",
                                    "23/23 - 0s - 1ms/step - loss: 214.4984 - val_loss: 231.2375\n",
                                    "Epoch 77/100\n",
                                    "23/23 - 0s - 1ms/step - loss: 212.8439 - val_loss: 228.9727\n",
                                    "Epoch 78/100\n",
                                    "23/23 - 0s - 1ms/step - loss: 211.0482 - val_loss: 227.7842\n",
                                    "Epoch 79/100\n",
                                    "23/23 - 0s - 1ms/step - loss: 209.5202 - val_loss: 226.2018\n",
                                    "Epoch 80/100\n",
                                    "23/23 - 0s - 1ms/step - loss: 207.9245 - val_loss: 224.4931\n",
                                    "Epoch 81/100\n",
                                    "23/23 - 0s - 1ms/step - loss: 206.3300 - val_loss: 222.7667\n",
                                    "Epoch 82/100\n",
                                    "23/23 - 0s - 1ms/step - loss: 204.7673 - val_loss: 222.0700\n",
                                    "Epoch 83/100\n",
                                    "23/23 - 0s - 1ms/step - loss: 203.3684 - val_loss: 220.7042\n",
                                    "Epoch 84/100\n",
                                    "23/23 - 0s - 1ms/step - loss: 201.9845 - val_loss: 219.5492\n",
                                    "Epoch 85/100\n",
                                    "23/23 - 0s - 1ms/step - loss: 200.6193 - val_loss: 217.9776\n",
                                    "Epoch 86/100\n",
                                    "23/23 - 0s - 1ms/step - loss: 199.3231 - val_loss: 216.9302\n",
                                    "Epoch 87/100\n",
                                    "23/23 - 0s - 1ms/step - loss: 198.0768 - val_loss: 215.4919\n",
                                    "Epoch 88/100\n",
                                    "23/23 - 0s - 1ms/step - loss: 196.7903 - val_loss: 214.6011\n",
                                    "Epoch 89/100\n",
                                    "23/23 - 0s - 1ms/step - loss: 195.5156 - val_loss: 213.3197\n",
                                    "Epoch 90/100\n",
                                    "23/23 - 0s - 1ms/step - loss: 194.3174 - val_loss: 212.1502\n",
                                    "Epoch 91/100\n",
                                    "23/23 - 0s - 1ms/step - loss: 193.1687 - val_loss: 211.2079\n",
                                    "Epoch 92/100\n",
                                    "23/23 - 0s - 1ms/step - loss: 191.9411 - val_loss: 209.8437\n",
                                    "Epoch 93/100\n",
                                    "23/23 - 0s - 1ms/step - loss: 190.8459 - val_loss: 208.5148\n",
                                    "Epoch 94/100\n",
                                    "23/23 - 0s - 1ms/step - loss: 189.7139 - val_loss: 207.6723\n",
                                    "Epoch 95/100\n",
                                    "23/23 - 0s - 1ms/step - loss: 188.6022 - val_loss: 207.1178\n",
                                    "Epoch 96/100\n",
                                    "23/23 - 0s - 1ms/step - loss: 187.3944 - val_loss: 205.6202\n",
                                    "Epoch 97/100\n",
                                    "23/23 - 0s - 1ms/step - loss: 186.3000 - val_loss: 204.2838\n",
                                    "Epoch 98/100\n",
                                    "23/23 - 0s - 1ms/step - loss: 185.2161 - val_loss: 203.2451\n",
                                    "Epoch 99/100\n",
                                    "23/23 - 0s - 1ms/step - loss: 184.1244 - val_loss: 202.9314\n",
                                    "Epoch 100/100\n",
                                    "23/23 - 0s - 1ms/step - loss: 183.1055 - val_loss: 202.0096\n"
                              ]
                        },
                        {
                              "data": {
                                    "text/plain": [
                                          "<keras.src.callbacks.history.History at 0x11ee4d2d0>"
                                    ]
                              },
                              "execution_count": 9,
                              "metadata": {},
                              "output_type": "execute_result"
                        }
                  ],
                  "source": [
                        "model.fit(predictors_norm, target, validation_split=0.3, epochs=100, verbose=2)"
                  ]
            },
            {
                  "cell_type": "markdown",
                  "metadata": {},
                  "source": [
                        "Train and test it 50 times:"
                  ]
            },
            {
                  "cell_type": "code",
                  "execution_count": 10,
                  "metadata": {},
                  "outputs": [
                        {
                              "name": "stdout",
                              "output_type": "stream",
                              "text": [
                                    "[164.13018576548336, 163.93970739075806, 157.10082952076482, 155.07162197607636, 185.60367781516922, 143.7784289015595, 176.84046657604068, 190.38762596428705, 170.8662229557219, 170.91157760917704, 167.83522408905884, 164.16086619850032, 151.76301683874445, 159.5327550331351, 195.57727032620355, 132.5662930771953, 163.11123620145975, 153.25316402425068, 154.64237170441078, 168.81259921192932, 149.18104048886528, 211.31463842097386, 148.1868874141703, 172.66507463901286, 159.58744003542145, 181.13559442411506, 160.7115859319323, 159.83924537808912, 168.41776633599451, 187.04354855777942, 160.86929135947338, 153.20664925291024, 149.48695020193918, 201.72721597734116, 186.43801064558298, 176.62769853205842, 165.5836322649659, 177.03049537556245, 163.91888443183913, 157.2735102023235, 176.05126771636054, 170.72255176201477, 155.9165159258511, 157.95646334140858, 160.96676210129075, 169.32413941279273, 166.35435983685073, 175.64552367278552, 155.199964632281, 164.9722532519587]\n"
                              ]
                        }
                  ],
                  "source": [
                        "from sklearn.model_selection import train_test_split\n",
                        "from sklearn.metrics import mean_squared error\n",
                        "\n",
                        "# Initialize list of mean squared errors\n",
                        "mse_list = []\n",
                        "\n",
                        "# Repeat the process 50 times\n",
                        "for _ in range(50):\n",
                        "    # Split the data\n",
                        "    X_train, X_test, y_train, y_test = train_test_split(predictors_norm, target, test_size=0.3, random_state=None)\n",
                        "    \n",
                        "    # Build the model\n",
                        "    model = regression_model()\n",
                        "    \n",
                        "    # Train the model\n",
                        "    model.fit(X_train, y_train, epochs=100, verbose=0)\n",
                        "    \n",
                        "    # Predict on the test data\n",
                        "    y_pred = model.predict(X_test, verbose=0)\n",
                        "    \n",
                        "    # Compute mean squared error\n",
                        "    mse = mean_squared_error(y_test, y_pred)\n",
                        "    mse_list.append(mse)\n",
                        "\n",
                        "print(mse_list)\n"
                  ]
            },
            {
                  "cell_type": "markdown",
                  "metadata": {},
                  "source": [
                        "## Report the mean and standard deviation of the mean squared errors"
                  ]
            },
            {
                  "cell_type": "code",
                  "execution_count": 11,
                  "metadata": {},
                  "outputs": [
                        {
                              "name": "stdout",
                              "output_type": "stream",
                              "text": [
                                    "Mean MSE: 166.6648020540774\n",
                                    "Standard Deviation of MSE: 14.741742504554889\n"
                              ]
                        }
                  ],
                  "source": [
                        "mean_mse = np.mean(mse_list)\n",
                        "std_mse = np.std(mse_list)\n",
                        "print(f'Mean MSE: {mean_mse}')\n",
                        "print(f'Standard Deviation of MSE: {std_mse}')"
                  ]
            },
            {
                  "cell_type": "markdown",
                  "metadata": {},
                  "source": [
                        "## How does the mean of the mean squared errors compare to that from Step B?"
                  ]
            },
            {
                  "cell_type": "markdown",
                  "metadata": {},
                  "source": [
                        "The mean of the mean squared errors (MSE) from the current exercise is lower than the mean MSE from Step B. This indicates that increasing the number of epochs from 50 to 100 has further improved the model's performance. Additionally, the standard deviation of the MSE is slightly lower, suggesting that the model's performance is more consistent across different splits of the data.\n",
                        "\n",
                        "| Metric | Step A | Step B | Step C |\n",
                        "|--------|--------|--------|------------------|\n",
                        "| Mean MSE | 416.851 | 349.821 | 166.665 |\n",
                        "| Standard Deviation of MSE | 595.123 | 90.653 | 14.742 |\n"
                  ]
            }
      ],
      "metadata": {
            "kernelspec": {
                  "display_name": ".venv",
                  "language": "python",
                  "name": "python3"
            },
            "language_info": {
                  "codemirror_mode": {
                        "name": "ipython",
                        "version": 3
                  },
                  "file_extension": ".py",
                  "mimetype": "text/x-python",
                  "name": "python",
                  "nbconvert_exporter": "python",
                  "pygments_lexer": "ipython3",
                  "version": "3.11.9"
            }
      },
      "nbformat": 4,
      "nbformat_minor": 2
}
